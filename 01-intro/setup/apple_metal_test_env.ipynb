{
 "cells": [
  {
   "cell_type": "markdown",
   "metadata": {},
   "source": [
    "# Notebook for testing MPS and MPU devices on Apple Silicon Macs"
   ]
  },
  {
   "cell_type": "code",
   "execution_count": 1,
   "metadata": {},
   "outputs": [
    {
     "name": "stdout",
     "output_type": "stream",
     "text": [
      "Python Version: 3.11.11 | packaged by conda-forge | (main, Dec  5 2024, 14:21:42) [Clang 18.1.8 ]\n",
      "Python Platform: macOS-15.2-arm64-arm-64bit\n",
      "\n",
      "Pandas Version: 2.2.3\n",
      "NumPy Version: 1.26.4\n",
      "Scikit-Learn Version: 1.5.2\n",
      "Scikit-Image Version: 0.25.0\n",
      "SciPy Version: 1.15.0\n",
      "\n",
      "Tensor Flow Version: 2.17.1\n",
      "Keras Version: 3.7.0\n",
      "GPU is available\n",
      "\n",
      "PyTorch Version: 2.5.1\n",
      "Is MPS (Metal Performance Shader) built? True\n",
      "Is MPS available? True\n",
      "Using device: mps\n"
     ]
    }
   ],
   "source": [
    "import platform\n",
    "import sys\n",
    "import pandas as pd\n",
    "import numpy as np\n",
    "import sklearn as sk\n",
    "import scipy as sp\n",
    "import skimage as ski\n",
    "import tensorflow as tf\n",
    "import keras\n",
    "import torch\n",
    "\n",
    "\n",
    "print(f\"Python Version: {sys.version}\")\n",
    "print(f\"Python Platform: {platform.platform ()}\")\n",
    "print()\n",
    "print(f\"Pandas Version: {pd.__version__}\")\n",
    "print(f\"NumPy Version: {np.__version__}\")\n",
    "print(f\"Scikit-Learn Version: {sk.__version__}\")\n",
    "print(f\"Scikit-Image Version: {ski.__version__}\")\n",
    "print(f\"SciPy Version: {sp.__version__}\")\n",
    "print()\n",
    "\n",
    "print(f\"Tensor Flow Version: {tf.__version__}\")\n",
    "print(f\"Keras Version: {keras.__version__}\")\n",
    "# Check if GPU for Tensorflow/Keras is available\n",
    "gpu = len(tf.config.list_physical_devices(\"GPU\")) > 0\n",
    "print(\"GPU is\", \"available\" if gpu else \"NOT AVAILABLE\")\n",
    "print()\n",
    "\n",
    "print(f\"PyTorch Version: {torch.__version__}\")\n",
    "# Check PyTorch has access to MPS (Metal Performance Shader, Apple's GPU architecture)\n",
    "print(f\"Is MPS (Metal Performance Shader) built? {torch.backends.mps.is_built()}\")\n",
    "print(f\"Is MPS available? {torch.backends.mps.is_available()}\")\n",
    "\n",
    "# Set the device\n",
    "# device = \"mps\" if torch.backends.mps.is_available() else \"cpu\"\n",
    "device = (\n",
    "    \"mps\"\n",
    "    if torch.mps.is_available()\n",
    "    else \"cuda\"\n",
    "    if torch.cuda.is_available()\n",
    "    else \"cpu\"\n",
    ")\n",
    "print(f\"Using device: {device}\")\n",
    "\n",
    "# from catboost.utils import get_gpu_device_count\n",
    "# print(\"I see %i GPU devices\" % get_gpu_device_count())"
   ]
  },
  {
   "cell_type": "markdown",
   "metadata": {},
   "source": [
    "## XGBoost"
   ]
  },
  {
   "cell_type": "code",
   "execution_count": 2,
   "metadata": {},
   "outputs": [
    {
     "name": "stdout",
     "output_type": "stream",
     "text": [
      "BUILTIN_PREFETCH_PRESENT: True\n",
      "CLANG_VERSION: [18, 1, 8]\n",
      "DEBUG: False\n",
      "MM_PREFETCH_PRESENT: False\n",
      "USE_CUDA: False\n",
      "USE_DLOPEN_NCCL: False\n",
      "USE_FEDERATED: False\n",
      "USE_NCCL: False\n",
      "USE_OPENMP: True\n",
      "USE_RMM: False\n",
      "libxgboost: /opt/homebrew/Caskroom/miniforge/base/envs/helloDogBreed/lib/libxgboost.dylib\n"
     ]
    }
   ],
   "source": [
    "import xgboost\n",
    "\n",
    "build_info = xgboost.build_info()\n",
    "for name in sorted(build_info.keys()):\n",
    "    print(f\"{name}: {build_info[name]}\")"
   ]
  },
  {
   "cell_type": "markdown",
   "metadata": {},
   "source": [
    "USE_CUDA: False -> needs rebuilding with CUDA support for macOS / Apple Silicon (arm64)"
   ]
  },
  {
   "cell_type": "code",
   "execution_count": 4,
   "metadata": {},
   "outputs": [],
   "source": [
    "# Enable GPU acceleration\n",
    "# model = xgboost.XGBClassifier(device=\"cuda\")\n",
    "\n",
    "# Disable GPU acceleration (use CPU)\n",
    "model = xgboost.XGBClassifier(device=\"cpu\")"
   ]
  },
  {
   "cell_type": "code",
   "execution_count": 6,
   "metadata": {},
   "outputs": [
    {
     "name": "stdout",
     "output_type": "stream",
     "text": [
      "\u001b[0;31mType:\u001b[0m        module\n",
      "\u001b[0;31mString form:\u001b[0m <module 'xgboost' from '/opt/homebrew/Caskroom/miniforge/base/envs/helloDogBreed/lib/python3.11/site-packages/xgboost/__init__.py'>\n",
      "\u001b[0;31mFile:\u001b[0m        /opt/homebrew/Caskroom/miniforge/base/envs/helloDogBreed/lib/python3.11/site-packages/xgboost/__init__.py\n",
      "\u001b[0;31mDocstring:\u001b[0m  \n",
      "XGBoost: eXtreme Gradient Boosting library.\n",
      "\n",
      "Contributors: https://github.com/dmlc/xgboost/blob/master/CONTRIBUTORS.md"
     ]
    }
   ],
   "source": [
    "xgboost?"
   ]
  },
  {
   "cell_type": "markdown",
   "metadata": {},
   "source": [
    "not working: [Enabling GPUXGBoost on Apple M1 Pro Chipset for Faster Training](https://devcodef1.com/news/1136152/gpuxgboost-on-m1-pro)"
   ]
  },
  {
   "cell_type": "code",
   "execution_count": 12,
   "metadata": {},
   "outputs": [
    {
     "name": "stdout",
     "output_type": "stream",
     "text": [
      "/Users/tillmeineke/ML/ML_Zoomcamp2024_hw/01-intro/setup\n"
     ]
    }
   ],
   "source": [
    "# !pwd"
   ]
  },
  {
   "cell_type": "code",
   "execution_count": null,
   "metadata": {},
   "outputs": [
    {
     "name": "stdout",
     "output_type": "stream",
     "text": [
      "/Users/tillmeineke/ML/ML_Zoomcamp2024_hw/01-intro/setup\n",
      "00_portfolio_page_github.md  apple_metal_test_env.ipynb\n",
      "01_setup_environments.md     \u001b[1m\u001b[36mdotfiles_for_aws\u001b[m\u001b[m\n",
      "03_setup_macBook.md          extensions.json\n",
      "04_setup_vscode.md           \u001b[1m\u001b[36mimages\u001b[m\u001b[m\n",
      "05_repo.md                   weekly_learning.md\n",
      "06_dotfiles.md               \u001b[1m\u001b[36mxgboost\u001b[m\u001b[m\n",
      "07_neovim.md                 xgboost_GPU_ApppleSilicon.md\n",
      "08_obsidian.md\n"
     ]
    }
   ],
   "source": [
    "# !git clone --recursive https://github.com/dmlc/xgboost\n",
    "# !cd xgboost\n",
    "# !pwd\n",
    "# !ls"
   ]
  },
  {
   "cell_type": "code",
   "execution_count": 16,
   "metadata": {},
   "outputs": [
    {
     "name": "stdout",
     "output_type": "stream",
     "text": [
      "cp: config.mk is not a directory\n"
     ]
    }
   ],
   "source": [
    "# !cd xgboost && cp make/minimum.mk config.mksed -i '' 's/^CXX =.*/CXX = clang++/' config.mksed -i '' 's/^CC =.*/CC = clang/' config.mksed -i '' 's/^USE_OPENMP =.*/USE_OPENMP = 0/' config.mksed -i '' 's/^CMAKE_PREFIX_PATH =.*/CMAKE_PREFIX_PATH = /usr/local/' config.mksed -i '' 's/^CMAKE_OSX_SYSROOT =.*/CMAKE_OSX_SYSROOT = macosx/' config.mksed -i '' 's/^CMAKE_CXX_FLAGS =.*/CMAKE_CXX_FLAGS = -march=native -mtune=native -I/usr/local/include -I/Library/Developer/CommandLineTools/SDKs/MacOSX.sdk/usr/include/' config.mksed -i '' 's/^CMAKE_C_FLAGS =.*/CMAKE_C_FLAGS = -march=native -mtune=native -I/usr/local/include -I/Library/Developer/CommandLineTools/SDKs/MacOSX.sdk/usr/include/' config.mk"
   ]
  },
  {
   "cell_type": "code",
   "execution_count": null,
   "metadata": {},
   "outputs": [],
   "source": [
    "# !make -j$(sysctl -n hw.physicalcpu) USE_CUDA=1"
   ]
  },
  {
   "cell_type": "code",
   "execution_count": null,
   "metadata": {},
   "outputs": [],
   "source": [
    "# !cd python-package; python3 setup.py install --use-cuda"
   ]
  },
  {
   "cell_type": "markdown",
   "metadata": {},
   "source": [
    "above did not work. need to try [How to Install XGBoost for Python on macOS](https://machinelearningmastery.com/install-xgboost-python-macos/)"
   ]
  },
  {
   "cell_type": "markdown",
   "metadata": {},
   "source": [
    "## Catboost"
   ]
  },
  {
   "cell_type": "markdown",
   "metadata": {},
   "source": [
    "In CatBoost you can use the \"task_type\" property, for example, like this CatBoostRegressor(task_type=\"GPU\"), and that's it. See the [documentation](https://catboost.ai/en/docs/features/training-on-gpu)."
   ]
  },
  {
   "cell_type": "markdown",
   "metadata": {},
   "source": [
    "## Numpy configuration"
   ]
  },
  {
   "cell_type": "code",
   "execution_count": 2,
   "metadata": {},
   "outputs": [
    {
     "name": "stdout",
     "output_type": "stream",
     "text": [
      "Build Dependencies:\n",
      "  blas:\n",
      "    detection method: pkgconfig\n",
      "    found: true\n",
      "    include directory: /opt/homebrew/Caskroom/miniforge/base/envs/ML_Zoomcamp2024/include\n",
      "    lib directory: /opt/homebrew/Caskroom/miniforge/base/envs/ML_Zoomcamp2024/lib\n",
      "    name: blas\n",
      "    openblas configuration: unknown\n",
      "    pc file directory: /opt/homebrew/Caskroom/miniforge/base/envs/ML_Zoomcamp2024/lib/pkgconfig\n",
      "    version: 3.9.0\n",
      "  lapack:\n",
      "    detection method: internal\n",
      "    found: true\n",
      "    include directory: unknown\n",
      "    lib directory: unknown\n",
      "    name: dep4377784592\n",
      "    openblas configuration: unknown\n",
      "    pc file directory: unknown\n",
      "    version: 1.26.4\n",
      "Compilers:\n",
      "  c:\n",
      "    args: -ftree-vectorize, -fPIC, -fstack-protector-strong, -O2, -pipe, -isystem,\n",
      "      /opt/homebrew/Caskroom/miniforge/base/envs/ML_Zoomcamp2024/include, -fdebug-prefix-map=/Users/runner/miniforge3/conda-bld/numpy_1707225640867/work=/usr/local/src/conda/numpy-1.26.4,\n",
      "      -fdebug-prefix-map=/opt/homebrew/Caskroom/miniforge/base/envs/ML_Zoomcamp2024=/usr/local/src/conda-prefix,\n",
      "      -D_FORTIFY_SOURCE=2, -isystem, /opt/homebrew/Caskroom/miniforge/base/envs/ML_Zoomcamp2024/include,\n",
      "      -mmacosx-version-min=11.0\n",
      "    commands: arm64-apple-darwin20.0.0-clang\n",
      "    linker: ld64\n",
      "    linker args: -Wl,-headerpad_max_install_names, -Wl,-dead_strip_dylibs, -Wl,-rpath,/opt/homebrew/Caskroom/miniforge/base/envs/ML_Zoomcamp2024/lib,\n",
      "      -L/opt/homebrew/Caskroom/miniforge/base/envs/ML_Zoomcamp2024/lib, -ftree-vectorize,\n",
      "      -fPIC, -fstack-protector-strong, -O2, -pipe, -isystem, /opt/homebrew/Caskroom/miniforge/base/envs/ML_Zoomcamp2024/include,\n",
      "      -fdebug-prefix-map=/Users/runner/miniforge3/conda-bld/numpy_1707225640867/work=/usr/local/src/conda/numpy-1.26.4,\n",
      "      -fdebug-prefix-map=/opt/homebrew/Caskroom/miniforge/base/envs/ML_Zoomcamp2024=/usr/local/src/conda-prefix,\n",
      "      -D_FORTIFY_SOURCE=2, -isystem, /opt/homebrew/Caskroom/miniforge/base/envs/ML_Zoomcamp2024/include,\n",
      "      -mmacosx-version-min=11.0\n",
      "    name: clang\n",
      "    version: 16.0.6\n",
      "  c++:\n",
      "    args: -ftree-vectorize, -fPIC, -fstack-protector-strong, -O2, -pipe, -stdlib=libc++,\n",
      "      -fvisibility-inlines-hidden, -fmessage-length=0, -isystem, /opt/homebrew/Caskroom/miniforge/base/envs/ML_Zoomcamp2024/include,\n",
      "      -fdebug-prefix-map=/Users/runner/miniforge3/conda-bld/numpy_1707225640867/work=/usr/local/src/conda/numpy-1.26.4,\n",
      "      -fdebug-prefix-map=/opt/homebrew/Caskroom/miniforge/base/envs/ML_Zoomcamp2024=/usr/local/src/conda-prefix,\n",
      "      -D_FORTIFY_SOURCE=2, -isystem, /opt/homebrew/Caskroom/miniforge/base/envs/ML_Zoomcamp2024/include,\n",
      "      -mmacosx-version-min=11.0\n",
      "    commands: arm64-apple-darwin20.0.0-clang++\n",
      "    linker: ld64\n",
      "    linker args: -Wl,-headerpad_max_install_names, -Wl,-dead_strip_dylibs, -Wl,-rpath,/opt/homebrew/Caskroom/miniforge/base/envs/ML_Zoomcamp2024/lib,\n",
      "      -L/opt/homebrew/Caskroom/miniforge/base/envs/ML_Zoomcamp2024/lib, -ftree-vectorize,\n",
      "      -fPIC, -fstack-protector-strong, -O2, -pipe, -stdlib=libc++, -fvisibility-inlines-hidden,\n",
      "      -fmessage-length=0, -isystem, /opt/homebrew/Caskroom/miniforge/base/envs/ML_Zoomcamp2024/include,\n",
      "      -fdebug-prefix-map=/Users/runner/miniforge3/conda-bld/numpy_1707225640867/work=/usr/local/src/conda/numpy-1.26.4,\n",
      "      -fdebug-prefix-map=/opt/homebrew/Caskroom/miniforge/base/envs/ML_Zoomcamp2024=/usr/local/src/conda-prefix,\n",
      "      -D_FORTIFY_SOURCE=2, -isystem, /opt/homebrew/Caskroom/miniforge/base/envs/ML_Zoomcamp2024/include,\n",
      "      -mmacosx-version-min=11.0\n",
      "    name: clang\n",
      "    version: 16.0.6\n",
      "  cython:\n",
      "    commands: cython\n",
      "    linker: cython\n",
      "    name: cython\n",
      "    version: 3.0.8\n",
      "Machine Information:\n",
      "  build:\n",
      "    cpu: aarch64\n",
      "    endian: little\n",
      "    family: aarch64\n",
      "    system: darwin\n",
      "  cross-compiled: true\n",
      "  host:\n",
      "    cpu: arm64\n",
      "    endian: little\n",
      "    family: aarch64\n",
      "    system: darwin\n",
      "Python Information:\n",
      "  path: /opt/homebrew/Caskroom/miniforge/base/envs/ML_Zoomcamp2024/bin/python\n",
      "  version: '3.11'\n",
      "SIMD Extensions:\n",
      "  baseline:\n",
      "  - NEON\n",
      "  - NEON_FP16\n",
      "  - NEON_VFPV4\n",
      "  - ASIMD\n",
      "  found:\n",
      "  - ASIMDHP\n",
      "  not found:\n",
      "  - ASIMDFHM\n",
      "\n"
     ]
    }
   ],
   "source": [
    "# Show the configuration of NumPy\n",
    "np.show_config()"
   ]
  },
  {
   "cell_type": "markdown",
   "metadata": {},
   "source": [
    "## SciPy configuration"
   ]
  },
  {
   "cell_type": "code",
   "execution_count": 3,
   "metadata": {},
   "outputs": [
    {
     "name": "stdout",
     "output_type": "stream",
     "text": [
      "Build Dependencies:\n",
      "  blas:\n",
      "    detection method: pkgconfig\n",
      "    found: true\n",
      "    include directory: /opt/homebrew/Caskroom/miniforge/base/envs/ML_Zoomcamp2024/include\n",
      "    lib directory: /opt/homebrew/Caskroom/miniforge/base/envs/ML_Zoomcamp2024/lib\n",
      "    name: blas\n",
      "    openblas configuration: unknown\n",
      "    pc file directory: /opt/homebrew/Caskroom/miniforge/base/envs/ML_Zoomcamp2024/lib/pkgconfig\n",
      "    version: 3.9.0\n",
      "  lapack:\n",
      "    detection method: pkgconfig\n",
      "    found: true\n",
      "    include directory: /opt/homebrew/Caskroom/miniforge/base/envs/ML_Zoomcamp2024/include\n",
      "    lib directory: /opt/homebrew/Caskroom/miniforge/base/envs/ML_Zoomcamp2024/lib\n",
      "    name: lapack\n",
      "    openblas configuration: unknown\n",
      "    pc file directory: /opt/homebrew/Caskroom/miniforge/base/envs/ML_Zoomcamp2024/lib/pkgconfig\n",
      "    version: 3.9.0\n",
      "  pybind11:\n",
      "    detection method: pkgconfig\n",
      "    include directory: /opt/homebrew/Caskroom/miniforge/base/envs/ML_Zoomcamp2024/include\n",
      "    name: pybind11\n",
      "    version: 2.13.4\n",
      "Compilers:\n",
      "  c:\n",
      "    args: -ftree-vectorize, -fPIC, -fstack-protector-strong, -O2, -pipe, -isystem,\n",
      "      /opt/homebrew/Caskroom/miniforge/base/envs/ML_Zoomcamp2024/include, -fdebug-prefix-map=/Users/runner/miniforge3/conda-bld/scipy-split_1724327090011/work=/usr/local/src/conda/scipy-split-1.14.1,\n",
      "      -fdebug-prefix-map=/opt/homebrew/Caskroom/miniforge/base/envs/ML_Zoomcamp2024=/usr/local/src/conda-prefix,\n",
      "      -D_FORTIFY_SOURCE=2, -isystem, /opt/homebrew/Caskroom/miniforge/base/envs/ML_Zoomcamp2024/include,\n",
      "      -mmacosx-version-min=11.0, -mmacosx-version-min=11.0\n",
      "    commands: arm64-apple-darwin20.0.0-clang\n",
      "    linker: ld64\n",
      "    linker args: -Wl,-headerpad_max_install_names, -Wl,-dead_strip_dylibs, -Wl,-rpath,/opt/homebrew/Caskroom/miniforge/base/envs/ML_Zoomcamp2024/lib,\n",
      "      -L/opt/homebrew/Caskroom/miniforge/base/envs/ML_Zoomcamp2024/lib, -ftree-vectorize,\n",
      "      -fPIC, -fstack-protector-strong, -O2, -pipe, -isystem, /opt/homebrew/Caskroom/miniforge/base/envs/ML_Zoomcamp2024/include,\n",
      "      -fdebug-prefix-map=/Users/runner/miniforge3/conda-bld/scipy-split_1724327090011/work=/usr/local/src/conda/scipy-split-1.14.1,\n",
      "      -fdebug-prefix-map=/opt/homebrew/Caskroom/miniforge/base/envs/ML_Zoomcamp2024=/usr/local/src/conda-prefix,\n",
      "      -D_FORTIFY_SOURCE=2, -isystem, /opt/homebrew/Caskroom/miniforge/base/envs/ML_Zoomcamp2024/include,\n",
      "      -mmacosx-version-min=11.0, -mmacosx-version-min=11.0\n",
      "    name: clang\n",
      "    version: 17.0.6\n",
      "  c++:\n",
      "    args: -ftree-vectorize, -fPIC, -fstack-protector-strong, -O2, -pipe, -stdlib=libc++,\n",
      "      -fvisibility-inlines-hidden, -fmessage-length=0, -isystem, /opt/homebrew/Caskroom/miniforge/base/envs/ML_Zoomcamp2024/include,\n",
      "      -fdebug-prefix-map=/Users/runner/miniforge3/conda-bld/scipy-split_1724327090011/work=/usr/local/src/conda/scipy-split-1.14.1,\n",
      "      -fdebug-prefix-map=/opt/homebrew/Caskroom/miniforge/base/envs/ML_Zoomcamp2024=/usr/local/src/conda-prefix,\n",
      "      -D_FORTIFY_SOURCE=2, -isystem, /opt/homebrew/Caskroom/miniforge/base/envs/ML_Zoomcamp2024/include,\n",
      "      -mmacosx-version-min=11.0, -mmacosx-version-min=11.0\n",
      "    commands: arm64-apple-darwin20.0.0-clang++\n",
      "    linker: ld64\n",
      "    linker args: -Wl,-headerpad_max_install_names, -Wl,-dead_strip_dylibs, -Wl,-rpath,/opt/homebrew/Caskroom/miniforge/base/envs/ML_Zoomcamp2024/lib,\n",
      "      -L/opt/homebrew/Caskroom/miniforge/base/envs/ML_Zoomcamp2024/lib, -ftree-vectorize,\n",
      "      -fPIC, -fstack-protector-strong, -O2, -pipe, -stdlib=libc++, -fvisibility-inlines-hidden,\n",
      "      -fmessage-length=0, -isystem, /opt/homebrew/Caskroom/miniforge/base/envs/ML_Zoomcamp2024/include,\n",
      "      -fdebug-prefix-map=/Users/runner/miniforge3/conda-bld/scipy-split_1724327090011/work=/usr/local/src/conda/scipy-split-1.14.1,\n",
      "      -fdebug-prefix-map=/opt/homebrew/Caskroom/miniforge/base/envs/ML_Zoomcamp2024=/usr/local/src/conda-prefix,\n",
      "      -D_FORTIFY_SOURCE=2, -isystem, /opt/homebrew/Caskroom/miniforge/base/envs/ML_Zoomcamp2024/include,\n",
      "      -mmacosx-version-min=11.0, -mmacosx-version-min=11.0\n",
      "    name: clang\n",
      "    version: 17.0.6\n",
      "  cython:\n",
      "    commands: cython\n",
      "    linker: cython\n",
      "    name: cython\n",
      "    version: 3.0.11\n",
      "  fortran:\n",
      "    args: -march=armv8.3-a, -ftree-vectorize, -fPIC, -fno-stack-protector, -O2, -pipe,\n",
      "      -isystem, /opt/homebrew/Caskroom/miniforge/base/envs/ML_Zoomcamp2024/include,\n",
      "      -fdebug-prefix-map=/Users/runner/miniforge3/conda-bld/scipy-split_1724327090011/work=/usr/local/src/conda/scipy-split-1.14.1,\n",
      "      -fdebug-prefix-map=/opt/homebrew/Caskroom/miniforge/base/envs/ML_Zoomcamp2024=/usr/local/src/conda-prefix\n",
      "    commands: /Users/runner/miniforge3/conda-bld/scipy-split_1724327090011/_build_env/bin/arm64-apple-darwin20.0.0-gfortran\n",
      "    linker: ld64\n",
      "    linker args: -Wl,-headerpad_max_install_names, -Wl,-dead_strip_dylibs, -Wl,-rpath,/opt/homebrew/Caskroom/miniforge/base/envs/ML_Zoomcamp2024/lib,\n",
      "      -L/opt/homebrew/Caskroom/miniforge/base/envs/ML_Zoomcamp2024/lib, -march=armv8.3-a,\n",
      "      -ftree-vectorize, -fPIC, -fno-stack-protector, -O2, -pipe, -isystem, /opt/homebrew/Caskroom/miniforge/base/envs/ML_Zoomcamp2024/include,\n",
      "      -fdebug-prefix-map=/Users/runner/miniforge3/conda-bld/scipy-split_1724327090011/work=/usr/local/src/conda/scipy-split-1.14.1,\n",
      "      -fdebug-prefix-map=/opt/homebrew/Caskroom/miniforge/base/envs/ML_Zoomcamp2024=/usr/local/src/conda-prefix\n",
      "    name: gcc\n",
      "    version: 13.2.0\n",
      "  pythran:\n",
      "    include directory: ../../_build_env/venv/lib/python3.11/site-packages/pythran\n",
      "    version: 0.16.1\n",
      "Machine Information:\n",
      "  build:\n",
      "    cpu: x86_64\n",
      "    endian: little\n",
      "    family: x86_64\n",
      "    system: darwin\n",
      "  cross-compiled: true\n",
      "  host:\n",
      "    cpu: arm64\n",
      "    endian: little\n",
      "    family: aarch64\n",
      "    system: darwin\n",
      "Python Information:\n",
      "  path: /opt/homebrew/Caskroom/miniforge/base/envs/ML_Zoomcamp2024/bin/python\n",
      "  version: '3.11'\n",
      "\n"
     ]
    }
   ],
   "source": [
    "# Show the configuration of SciPy\n",
    "sp.__config__.show()"
   ]
  }
 ],
 "metadata": {
  "kernelspec": {
   "display_name": "helloDogBreed",
   "language": "python",
   "name": "python3"
  },
  "language_info": {
   "codemirror_mode": {
    "name": "ipython",
    "version": 3
   },
   "file_extension": ".py",
   "mimetype": "text/x-python",
   "name": "python",
   "nbconvert_exporter": "python",
   "pygments_lexer": "ipython3",
   "version": "3.11.11"
  }
 },
 "nbformat": 4,
 "nbformat_minor": 2
}
