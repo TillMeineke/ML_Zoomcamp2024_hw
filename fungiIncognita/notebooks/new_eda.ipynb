{
 "cells": [
  {
   "cell_type": "markdown",
   "metadata": {},
   "source": [
    "[Portfolio](https://tillmeineke.github.io) | [LinedIn](https://www.linkedin.com/in/tillmeineke) | [GitHub](https://github.com/TillMeineke) | [Medium](https://medium.com/@till.meineke)"
   ]
  },
  {
   "cell_type": "markdown",
   "metadata": {},
   "source": [
    "# EDA of self-generated secondary mushroom dataset"
   ]
  },
  {
   "cell_type": "markdown",
   "metadata": {},
   "source": [
    "Let's get started...\n",
    "\n",
    "<div style=\"text-align:center;\">\n",
    "  <img src=\"../images/happycodingshroom.webp\" alt=\"Happy coding\" style=\"width:300px;height:auto;\">\n",
    "</div>\n",
    "\n",
    "source: [giphy.com](https://giphy.com/gifs/internet-computer-typing-7TcdtHOCxo3meUvPgj)"
   ]
  },
  {
   "cell_type": "markdown",
   "metadata": {},
   "source": [
    "## Importing Libraries"
   ]
  },
  {
   "cell_type": "code",
   "execution_count": 65,
   "metadata": {},
   "outputs": [],
   "source": [
    "import sys\n",
    "\n",
    "# setting path\n",
    "sys.path.append(\"../\")\n",
    "from src import data_cat, gen_corr_norm, mushroom_class_fix, stats_graphics, util_func"
   ]
  },
  {
   "cell_type": "code",
   "execution_count": 66,
   "metadata": {},
   "outputs": [],
   "source": [
    "import pandas as pd\n",
    "import numpy as np\n",
    "import matplotlib.pyplot as plt\n",
    "import seaborn as sns"
   ]
  },
  {
   "cell_type": "markdown",
   "metadata": {},
   "source": [
    "## Loading Data"
   ]
  },
  {
   "cell_type": "code",
   "execution_count": 67,
   "metadata": {},
   "outputs": [
    {
     "data": {
      "text/html": [
       "<div>\n",
       "<style scoped>\n",
       "    .dataframe tbody tr th:only-of-type {\n",
       "        vertical-align: middle;\n",
       "    }\n",
       "\n",
       "    .dataframe tbody tr th {\n",
       "        vertical-align: top;\n",
       "    }\n",
       "\n",
       "    .dataframe thead th {\n",
       "        text-align: right;\n",
       "    }\n",
       "</style>\n",
       "<table border=\"1\" class=\"dataframe\">\n",
       "  <thead>\n",
       "    <tr style=\"text-align: right;\">\n",
       "      <th></th>\n",
       "      <th>0</th>\n",
       "      <th>1</th>\n",
       "      <th>2</th>\n",
       "      <th>3</th>\n",
       "      <th>4</th>\n",
       "    </tr>\n",
       "  </thead>\n",
       "  <tbody>\n",
       "    <tr>\n",
       "      <th>family</th>\n",
       "      <td>Amanita Family</td>\n",
       "      <td>Amanita Family</td>\n",
       "      <td>Amanita Family</td>\n",
       "      <td>Amanita Family</td>\n",
       "      <td>Amanita Family</td>\n",
       "    </tr>\n",
       "    <tr>\n",
       "      <th>name</th>\n",
       "      <td>Fly Agaric</td>\n",
       "      <td>Fly Agaric</td>\n",
       "      <td>Fly Agaric</td>\n",
       "      <td>Fly Agaric</td>\n",
       "      <td>Fly Agaric</td>\n",
       "    </tr>\n",
       "    <tr>\n",
       "      <th>class</th>\n",
       "      <td>p</td>\n",
       "      <td>p</td>\n",
       "      <td>p</td>\n",
       "      <td>p</td>\n",
       "      <td>p</td>\n",
       "    </tr>\n",
       "    <tr>\n",
       "      <th>cap-diameter</th>\n",
       "      <td>17.14</td>\n",
       "      <td>15.48</td>\n",
       "      <td>15.19</td>\n",
       "      <td>14.85</td>\n",
       "      <td>15.91</td>\n",
       "    </tr>\n",
       "    <tr>\n",
       "      <th>cap-shape</th>\n",
       "      <td>x</td>\n",
       "      <td>f</td>\n",
       "      <td>f</td>\n",
       "      <td>f</td>\n",
       "      <td>x</td>\n",
       "    </tr>\n",
       "    <tr>\n",
       "      <th>cap-surface</th>\n",
       "      <td>h</td>\n",
       "      <td>h</td>\n",
       "      <td>g</td>\n",
       "      <td>h</td>\n",
       "      <td>h</td>\n",
       "    </tr>\n",
       "    <tr>\n",
       "      <th>cap-color</th>\n",
       "      <td>o</td>\n",
       "      <td>e</td>\n",
       "      <td>o</td>\n",
       "      <td>e</td>\n",
       "      <td>e</td>\n",
       "    </tr>\n",
       "    <tr>\n",
       "      <th>does-bruise-or-bleed</th>\n",
       "      <td>f</td>\n",
       "      <td>f</td>\n",
       "      <td>f</td>\n",
       "      <td>f</td>\n",
       "      <td>f</td>\n",
       "    </tr>\n",
       "    <tr>\n",
       "      <th>gill-attachment</th>\n",
       "      <td>e</td>\n",
       "      <td>e</td>\n",
       "      <td>e</td>\n",
       "      <td>e</td>\n",
       "      <td>e</td>\n",
       "    </tr>\n",
       "    <tr>\n",
       "      <th>gill-spacing</th>\n",
       "      <td>NaN</td>\n",
       "      <td>NaN</td>\n",
       "      <td>NaN</td>\n",
       "      <td>NaN</td>\n",
       "      <td>NaN</td>\n",
       "    </tr>\n",
       "    <tr>\n",
       "      <th>gill-color</th>\n",
       "      <td>w</td>\n",
       "      <td>w</td>\n",
       "      <td>w</td>\n",
       "      <td>w</td>\n",
       "      <td>w</td>\n",
       "    </tr>\n",
       "    <tr>\n",
       "      <th>stem-height</th>\n",
       "      <td>17.94</td>\n",
       "      <td>18.49</td>\n",
       "      <td>18.06</td>\n",
       "      <td>17.8</td>\n",
       "      <td>18.1</td>\n",
       "    </tr>\n",
       "    <tr>\n",
       "      <th>stem-width</th>\n",
       "      <td>17.23</td>\n",
       "      <td>18.29</td>\n",
       "      <td>17.05</td>\n",
       "      <td>17.08</td>\n",
       "      <td>17.57</td>\n",
       "    </tr>\n",
       "    <tr>\n",
       "      <th>stem-root</th>\n",
       "      <td>s</td>\n",
       "      <td>s</td>\n",
       "      <td>s</td>\n",
       "      <td>s</td>\n",
       "      <td>s</td>\n",
       "    </tr>\n",
       "    <tr>\n",
       "      <th>stem-surface</th>\n",
       "      <td>y</td>\n",
       "      <td>y</td>\n",
       "      <td>y</td>\n",
       "      <td>y</td>\n",
       "      <td>y</td>\n",
       "    </tr>\n",
       "    <tr>\n",
       "      <th>stem-color</th>\n",
       "      <td>w</td>\n",
       "      <td>w</td>\n",
       "      <td>w</td>\n",
       "      <td>w</td>\n",
       "      <td>w</td>\n",
       "    </tr>\n",
       "    <tr>\n",
       "      <th>veil-type</th>\n",
       "      <td>u</td>\n",
       "      <td>u</td>\n",
       "      <td>u</td>\n",
       "      <td>u</td>\n",
       "      <td>u</td>\n",
       "    </tr>\n",
       "    <tr>\n",
       "      <th>veil-color</th>\n",
       "      <td>w</td>\n",
       "      <td>w</td>\n",
       "      <td>w</td>\n",
       "      <td>w</td>\n",
       "      <td>w</td>\n",
       "    </tr>\n",
       "    <tr>\n",
       "      <th>has-ring</th>\n",
       "      <td>t</td>\n",
       "      <td>t</td>\n",
       "      <td>t</td>\n",
       "      <td>t</td>\n",
       "      <td>t</td>\n",
       "    </tr>\n",
       "    <tr>\n",
       "      <th>ring-type</th>\n",
       "      <td>p</td>\n",
       "      <td>p</td>\n",
       "      <td>g</td>\n",
       "      <td>g</td>\n",
       "      <td>p</td>\n",
       "    </tr>\n",
       "    <tr>\n",
       "      <th>spore-print-color</th>\n",
       "      <td>NaN</td>\n",
       "      <td>NaN</td>\n",
       "      <td>NaN</td>\n",
       "      <td>NaN</td>\n",
       "      <td>NaN</td>\n",
       "    </tr>\n",
       "    <tr>\n",
       "      <th>habitat</th>\n",
       "      <td>d</td>\n",
       "      <td>d</td>\n",
       "      <td>d</td>\n",
       "      <td>d</td>\n",
       "      <td>d</td>\n",
       "    </tr>\n",
       "    <tr>\n",
       "      <th>season</th>\n",
       "      <td>u</td>\n",
       "      <td>w</td>\n",
       "      <td>u</td>\n",
       "      <td>u</td>\n",
       "      <td>w</td>\n",
       "    </tr>\n",
       "  </tbody>\n",
       "</table>\n",
       "</div>"
      ],
      "text/plain": [
       "                                   0               1               2  \\\n",
       "family                Amanita Family  Amanita Family  Amanita Family   \n",
       "name                      Fly Agaric      Fly Agaric      Fly Agaric   \n",
       "class                              p               p               p   \n",
       "cap-diameter                   17.14           15.48           15.19   \n",
       "cap-shape                          x               f               f   \n",
       "cap-surface                        h               h               g   \n",
       "cap-color                          o               e               o   \n",
       "does-bruise-or-bleed               f               f               f   \n",
       "gill-attachment                    e               e               e   \n",
       "gill-spacing                     NaN             NaN             NaN   \n",
       "gill-color                         w               w               w   \n",
       "stem-height                    17.94           18.49           18.06   \n",
       "stem-width                     17.23           18.29           17.05   \n",
       "stem-root                          s               s               s   \n",
       "stem-surface                       y               y               y   \n",
       "stem-color                         w               w               w   \n",
       "veil-type                          u               u               u   \n",
       "veil-color                         w               w               w   \n",
       "has-ring                           t               t               t   \n",
       "ring-type                          p               p               g   \n",
       "spore-print-color                NaN             NaN             NaN   \n",
       "habitat                            d               d               d   \n",
       "season                             u               w               u   \n",
       "\n",
       "                                   3               4  \n",
       "family                Amanita Family  Amanita Family  \n",
       "name                      Fly Agaric      Fly Agaric  \n",
       "class                              p               p  \n",
       "cap-diameter                   14.85           15.91  \n",
       "cap-shape                          f               x  \n",
       "cap-surface                        h               h  \n",
       "cap-color                          e               e  \n",
       "does-bruise-or-bleed               f               f  \n",
       "gill-attachment                    e               e  \n",
       "gill-spacing                     NaN             NaN  \n",
       "gill-color                         w               w  \n",
       "stem-height                     17.8            18.1  \n",
       "stem-width                     17.08           17.57  \n",
       "stem-root                          s               s  \n",
       "stem-surface                       y               y  \n",
       "stem-color                         w               w  \n",
       "veil-type                          u               u  \n",
       "veil-color                         w               w  \n",
       "has-ring                           t               t  \n",
       "ring-type                          g               p  \n",
       "spore-print-color                NaN             NaN  \n",
       "habitat                            d               d  \n",
       "season                             u               w  "
      ]
     },
     "execution_count": 67,
     "metadata": {},
     "output_type": "execute_result"
    }
   ],
   "source": [
    "df = pd.read_csv(\"../data/secondary_data_generated_with_names.csv\", sep=\";\")\n",
    "df.head(5).T"
   ]
  },
  {
   "cell_type": "markdown",
   "metadata": {},
   "source": [
    "New generated data is loaded from the file, but after generating, it is still sorted by `family`and `name` columns.\n",
    "So before splitting the data into train, val and test sets, we need to shuffle the data."
   ]
  },
  {
   "cell_type": "code",
   "execution_count": 68,
   "metadata": {},
   "outputs": [
    {
     "data": {
      "text/html": [
       "<div>\n",
       "<style scoped>\n",
       "    .dataframe tbody tr th:only-of-type {\n",
       "        vertical-align: middle;\n",
       "    }\n",
       "\n",
       "    .dataframe tbody tr th {\n",
       "        vertical-align: top;\n",
       "    }\n",
       "\n",
       "    .dataframe thead th {\n",
       "        text-align: right;\n",
       "    }\n",
       "</style>\n",
       "<table border=\"1\" class=\"dataframe\">\n",
       "  <thead>\n",
       "    <tr style=\"text-align: right;\">\n",
       "      <th></th>\n",
       "      <th>0</th>\n",
       "      <th>1</th>\n",
       "      <th>2</th>\n",
       "      <th>3</th>\n",
       "      <th>4</th>\n",
       "    </tr>\n",
       "  </thead>\n",
       "  <tbody>\n",
       "    <tr>\n",
       "      <th>family</th>\n",
       "      <td>Wax Gill Family</td>\n",
       "      <td>Cortinarius Family</td>\n",
       "      <td>Amanita Family</td>\n",
       "      <td>Amanita Family</td>\n",
       "      <td>Amanita Family</td>\n",
       "    </tr>\n",
       "    <tr>\n",
       "      <th>name</th>\n",
       "      <td>Orange-red Wax Cap</td>\n",
       "      <td>Dark-centred Hebeloma</td>\n",
       "      <td>False Panther Cap</td>\n",
       "      <td>The Blusher</td>\n",
       "      <td>Panther Cap</td>\n",
       "    </tr>\n",
       "    <tr>\n",
       "      <th>class</th>\n",
       "      <td>p</td>\n",
       "      <td>p</td>\n",
       "      <td>p</td>\n",
       "      <td>e</td>\n",
       "      <td>p</td>\n",
       "    </tr>\n",
       "    <tr>\n",
       "      <th>cap-diameter</th>\n",
       "      <td>2.44</td>\n",
       "      <td>3.84</td>\n",
       "      <td>12.36</td>\n",
       "      <td>10.58</td>\n",
       "      <td>7.1</td>\n",
       "    </tr>\n",
       "    <tr>\n",
       "      <th>cap-shape</th>\n",
       "      <td>f</td>\n",
       "      <td>x</td>\n",
       "      <td>f</td>\n",
       "      <td>f</td>\n",
       "      <td>x</td>\n",
       "    </tr>\n",
       "    <tr>\n",
       "      <th>cap-surface</th>\n",
       "      <td>s</td>\n",
       "      <td>t</td>\n",
       "      <td>NaN</td>\n",
       "      <td>NaN</td>\n",
       "      <td>g</td>\n",
       "    </tr>\n",
       "    <tr>\n",
       "      <th>cap-color</th>\n",
       "      <td>o</td>\n",
       "      <td>n</td>\n",
       "      <td>g</td>\n",
       "      <td>n</td>\n",
       "      <td>n</td>\n",
       "    </tr>\n",
       "    <tr>\n",
       "      <th>does-bruise-or-bleed</th>\n",
       "      <td>f</td>\n",
       "      <td>f</td>\n",
       "      <td>f</td>\n",
       "      <td>t</td>\n",
       "      <td>f</td>\n",
       "    </tr>\n",
       "    <tr>\n",
       "      <th>gill-attachment</th>\n",
       "      <td>d</td>\n",
       "      <td>s</td>\n",
       "      <td>e</td>\n",
       "      <td>NaN</td>\n",
       "      <td>e</td>\n",
       "    </tr>\n",
       "    <tr>\n",
       "      <th>gill-spacing</th>\n",
       "      <td>NaN</td>\n",
       "      <td>c</td>\n",
       "      <td>NaN</td>\n",
       "      <td>NaN</td>\n",
       "      <td>NaN</td>\n",
       "    </tr>\n",
       "    <tr>\n",
       "      <th>gill-color</th>\n",
       "      <td>y</td>\n",
       "      <td>p</td>\n",
       "      <td>w</td>\n",
       "      <td>w</td>\n",
       "      <td>w</td>\n",
       "    </tr>\n",
       "    <tr>\n",
       "      <th>stem-height</th>\n",
       "      <td>3.15</td>\n",
       "      <td>4.92</td>\n",
       "      <td>11.29</td>\n",
       "      <td>12.04</td>\n",
       "      <td>8.79</td>\n",
       "    </tr>\n",
       "    <tr>\n",
       "      <th>stem-width</th>\n",
       "      <td>5.35</td>\n",
       "      <td>7.96</td>\n",
       "      <td>15.24</td>\n",
       "      <td>21.48</td>\n",
       "      <td>16.65</td>\n",
       "    </tr>\n",
       "    <tr>\n",
       "      <th>stem-root</th>\n",
       "      <td>NaN</td>\n",
       "      <td>NaN</td>\n",
       "      <td>NaN</td>\n",
       "      <td>b</td>\n",
       "      <td>NaN</td>\n",
       "    </tr>\n",
       "    <tr>\n",
       "      <th>stem-surface</th>\n",
       "      <td>NaN</td>\n",
       "      <td>NaN</td>\n",
       "      <td>NaN</td>\n",
       "      <td>NaN</td>\n",
       "      <td>y</td>\n",
       "    </tr>\n",
       "    <tr>\n",
       "      <th>stem-color</th>\n",
       "      <td>y</td>\n",
       "      <td>w</td>\n",
       "      <td>w</td>\n",
       "      <td>w</td>\n",
       "      <td>w</td>\n",
       "    </tr>\n",
       "    <tr>\n",
       "      <th>veil-type</th>\n",
       "      <td>NaN</td>\n",
       "      <td>NaN</td>\n",
       "      <td>u</td>\n",
       "      <td>u</td>\n",
       "      <td>u</td>\n",
       "    </tr>\n",
       "    <tr>\n",
       "      <th>veil-color</th>\n",
       "      <td>NaN</td>\n",
       "      <td>n</td>\n",
       "      <td>w</td>\n",
       "      <td>w</td>\n",
       "      <td>w</td>\n",
       "    </tr>\n",
       "    <tr>\n",
       "      <th>has-ring</th>\n",
       "      <td>f</td>\n",
       "      <td>t</td>\n",
       "      <td>t</td>\n",
       "      <td>t</td>\n",
       "      <td>t</td>\n",
       "    </tr>\n",
       "    <tr>\n",
       "      <th>ring-type</th>\n",
       "      <td>f</td>\n",
       "      <td>z</td>\n",
       "      <td>g</td>\n",
       "      <td>g</td>\n",
       "      <td>p</td>\n",
       "    </tr>\n",
       "    <tr>\n",
       "      <th>spore-print-color</th>\n",
       "      <td>NaN</td>\n",
       "      <td>NaN</td>\n",
       "      <td>NaN</td>\n",
       "      <td>NaN</td>\n",
       "      <td>NaN</td>\n",
       "    </tr>\n",
       "    <tr>\n",
       "      <th>habitat</th>\n",
       "      <td>h</td>\n",
       "      <td>d</td>\n",
       "      <td>d</td>\n",
       "      <td>d</td>\n",
       "      <td>d</td>\n",
       "    </tr>\n",
       "    <tr>\n",
       "      <th>season</th>\n",
       "      <td>a</td>\n",
       "      <td>a</td>\n",
       "      <td>u</td>\n",
       "      <td>u</td>\n",
       "      <td>a</td>\n",
       "    </tr>\n",
       "  </tbody>\n",
       "</table>\n",
       "</div>"
      ],
      "text/plain": [
       "                                       0                      1  \\\n",
       "family                   Wax Gill Family     Cortinarius Family   \n",
       "name                  Orange-red Wax Cap  Dark-centred Hebeloma   \n",
       "class                                  p                      p   \n",
       "cap-diameter                        2.44                   3.84   \n",
       "cap-shape                              f                      x   \n",
       "cap-surface                            s                      t   \n",
       "cap-color                              o                      n   \n",
       "does-bruise-or-bleed                   f                      f   \n",
       "gill-attachment                        d                      s   \n",
       "gill-spacing                         NaN                      c   \n",
       "gill-color                             y                      p   \n",
       "stem-height                         3.15                   4.92   \n",
       "stem-width                          5.35                   7.96   \n",
       "stem-root                            NaN                    NaN   \n",
       "stem-surface                         NaN                    NaN   \n",
       "stem-color                             y                      w   \n",
       "veil-type                            NaN                    NaN   \n",
       "veil-color                           NaN                      n   \n",
       "has-ring                               f                      t   \n",
       "ring-type                              f                      z   \n",
       "spore-print-color                    NaN                    NaN   \n",
       "habitat                                h                      d   \n",
       "season                                 a                      a   \n",
       "\n",
       "                                      2               3               4  \n",
       "family                   Amanita Family  Amanita Family  Amanita Family  \n",
       "name                  False Panther Cap     The Blusher     Panther Cap  \n",
       "class                                 p               e               p  \n",
       "cap-diameter                      12.36           10.58             7.1  \n",
       "cap-shape                             f               f               x  \n",
       "cap-surface                         NaN             NaN               g  \n",
       "cap-color                             g               n               n  \n",
       "does-bruise-or-bleed                  f               t               f  \n",
       "gill-attachment                       e             NaN               e  \n",
       "gill-spacing                        NaN             NaN             NaN  \n",
       "gill-color                            w               w               w  \n",
       "stem-height                       11.29           12.04            8.79  \n",
       "stem-width                        15.24           21.48           16.65  \n",
       "stem-root                           NaN               b             NaN  \n",
       "stem-surface                        NaN             NaN               y  \n",
       "stem-color                            w               w               w  \n",
       "veil-type                             u               u               u  \n",
       "veil-color                            w               w               w  \n",
       "has-ring                              t               t               t  \n",
       "ring-type                             g               g               p  \n",
       "spore-print-color                   NaN             NaN             NaN  \n",
       "habitat                               d               d               d  \n",
       "season                                u               u               a  "
      ]
     },
     "execution_count": 68,
     "metadata": {},
     "output_type": "execute_result"
    }
   ],
   "source": [
    "df = df.sample(frac=1).reset_index(drop=True)\n",
    "df.head(5).T"
   ]
  },
  {
   "cell_type": "markdown",
   "metadata": {},
   "source": [
    "Much better.\n",
    "\n",
    "Let's see how much data we have."
   ]
  },
  {
   "cell_type": "code",
   "execution_count": 69,
   "metadata": {},
   "outputs": [
    {
     "name": "stdout",
     "output_type": "stream",
     "text": [
      "Number of Samples: 61069\n",
      "Number of Features: 23\n"
     ]
    }
   ],
   "source": [
    "print(f\"Number of Samples: {df.shape[0]}\")\n",
    "print(f\"Number of Features: {df.shape[1]}\")"
   ]
  },
  {
   "cell_type": "code",
   "execution_count": 70,
   "metadata": {},
   "outputs": [
    {
     "data": {
      "text/plain": [
       "family                   object\n",
       "name                     object\n",
       "class                    object\n",
       "cap-diameter            float64\n",
       "cap-shape                object\n",
       "cap-surface              object\n",
       "cap-color                object\n",
       "does-bruise-or-bleed     object\n",
       "gill-attachment          object\n",
       "gill-spacing             object\n",
       "gill-color               object\n",
       "stem-height             float64\n",
       "stem-width              float64\n",
       "stem-root                object\n",
       "stem-surface             object\n",
       "stem-color               object\n",
       "veil-type                object\n",
       "veil-color               object\n",
       "has-ring                 object\n",
       "ring-type                object\n",
       "spore-print-color        object\n",
       "habitat                  object\n",
       "season                   object\n",
       "dtype: object"
      ]
     },
     "execution_count": 70,
     "metadata": {},
     "output_type": "execute_result"
    }
   ],
   "source": [
    "df.dtypes"
   ]
  },
  {
   "cell_type": "markdown",
   "metadata": {},
   "source": [
    "We see `cap-diameter`, `stem-height` and `stem-width` are numerical features.\n",
    "All other features are  object type, but should be categorical, to be more memory efficient."
   ]
  },
  {
   "cell_type": "code",
   "execution_count": 71,
   "metadata": {},
   "outputs": [
    {
     "data": {
      "text/html": [
       "<div>\n",
       "<style scoped>\n",
       "    .dataframe tbody tr th:only-of-type {\n",
       "        vertical-align: middle;\n",
       "    }\n",
       "\n",
       "    .dataframe tbody tr th {\n",
       "        vertical-align: top;\n",
       "    }\n",
       "\n",
       "    .dataframe thead th {\n",
       "        text-align: right;\n",
       "    }\n",
       "</style>\n",
       "<table border=\"1\" class=\"dataframe\">\n",
       "  <thead>\n",
       "    <tr style=\"text-align: right;\">\n",
       "      <th></th>\n",
       "      <th>cap-diameter</th>\n",
       "      <th>stem-height</th>\n",
       "      <th>stem-width</th>\n",
       "    </tr>\n",
       "  </thead>\n",
       "  <tbody>\n",
       "    <tr>\n",
       "      <th>count</th>\n",
       "      <td>61069.000</td>\n",
       "      <td>61069.000</td>\n",
       "      <td>61069.000</td>\n",
       "    </tr>\n",
       "    <tr>\n",
       "      <th>mean</th>\n",
       "      <td>6.742</td>\n",
       "      <td>6.591</td>\n",
       "      <td>12.153</td>\n",
       "    </tr>\n",
       "    <tr>\n",
       "      <th>std</th>\n",
       "      <td>5.259</td>\n",
       "      <td>3.382</td>\n",
       "      <td>9.992</td>\n",
       "    </tr>\n",
       "    <tr>\n",
       "      <th>min</th>\n",
       "      <td>0.410</td>\n",
       "      <td>0.000</td>\n",
       "      <td>0.000</td>\n",
       "    </tr>\n",
       "    <tr>\n",
       "      <th>25%</th>\n",
       "      <td>3.490</td>\n",
       "      <td>4.640</td>\n",
       "      <td>5.200</td>\n",
       "    </tr>\n",
       "    <tr>\n",
       "      <th>50%</th>\n",
       "      <td>5.870</td>\n",
       "      <td>5.970</td>\n",
       "      <td>10.180</td>\n",
       "    </tr>\n",
       "    <tr>\n",
       "      <th>75%</th>\n",
       "      <td>8.540</td>\n",
       "      <td>7.750</td>\n",
       "      <td>16.570</td>\n",
       "    </tr>\n",
       "    <tr>\n",
       "      <th>max</th>\n",
       "      <td>61.500</td>\n",
       "      <td>33.060</td>\n",
       "      <td>100.710</td>\n",
       "    </tr>\n",
       "  </tbody>\n",
       "</table>\n",
       "</div>"
      ],
      "text/plain": [
       "       cap-diameter  stem-height  stem-width\n",
       "count     61069.000    61069.000   61069.000\n",
       "mean          6.742        6.591      12.153\n",
       "std           5.259        3.382       9.992\n",
       "min           0.410        0.000       0.000\n",
       "25%           3.490        4.640       5.200\n",
       "50%           5.870        5.970      10.180\n",
       "75%           8.540        7.750      16.570\n",
       "max          61.500       33.060     100.710"
      ]
     },
     "execution_count": 71,
     "metadata": {},
     "output_type": "execute_result"
    }
   ],
   "source": [
    "round(df.describe(), 3)"
   ]
  },
  {
   "cell_type": "code",
   "execution_count": 72,
   "metadata": {},
   "outputs": [
    {
     "data": {
      "text/plain": [
       "family                    23\n",
       "name                     173\n",
       "class                      2\n",
       "cap-diameter            2587\n",
       "cap-shape                  7\n",
       "cap-surface               11\n",
       "cap-color                 12\n",
       "does-bruise-or-bleed       2\n",
       "gill-attachment            7\n",
       "gill-spacing               3\n",
       "gill-color                12\n",
       "stem-height             2238\n",
       "stem-width              4616\n",
       "stem-root                  5\n",
       "stem-surface               8\n",
       "stem-color                13\n",
       "veil-type                  1\n",
       "veil-color                 6\n",
       "has-ring                   2\n",
       "ring-type                  8\n",
       "spore-print-color          7\n",
       "habitat                    8\n",
       "season                     4\n",
       "dtype: int64"
      ]
     },
     "execution_count": 72,
     "metadata": {},
     "output_type": "execute_result"
    }
   ],
   "source": [
    "df.nunique()"
   ]
  },
  {
   "cell_type": "markdown",
   "metadata": {},
   "source": [
    "### Missing Values"
   ]
  },
  {
   "cell_type": "code",
   "execution_count": 73,
   "metadata": {},
   "outputs": [
    {
     "data": {
      "text/plain": [
       "family                      0\n",
       "name                        0\n",
       "class                       0\n",
       "cap-diameter                0\n",
       "cap-shape                   0\n",
       "cap-surface             14120\n",
       "cap-color                   0\n",
       "does-bruise-or-bleed        0\n",
       "gill-attachment          9884\n",
       "gill-spacing            25063\n",
       "gill-color                  0\n",
       "stem-height                 0\n",
       "stem-width                  0\n",
       "stem-root               51538\n",
       "stem-surface            38124\n",
       "stem-color                  0\n",
       "veil-type               57892\n",
       "veil-color              53656\n",
       "has-ring                    0\n",
       "ring-type                2471\n",
       "spore-print-color       54715\n",
       "habitat                     0\n",
       "season                      0\n",
       "dtype: int64"
      ]
     },
     "execution_count": 73,
     "metadata": {},
     "output_type": "execute_result"
    }
   ],
   "source": [
    "# check null values\n",
    "df.isnull().sum()"
   ]
  },
  {
   "cell_type": "markdown",
   "metadata": {},
   "source": [
    "We see a lot of missing values for `veil-type`, `spore-print-color`, `veil-color`, `stem-root`, `stem-surface` with more than half the values missing. For the first four features there is even more than 80% missing values.\n",
    "\n",
    "`gill-spacing`, `cap-surface` and `gill-attachment` have 15% - 40% missing values.\n",
    "\n",
    "`ring-type` has ca. 4% missing values.\n",
    "\n",
    "Since we want a **simple model with few features** to predict the name of the mushroom, we will drop the features with missing values for our first round of modelling.\n",
    "\n",
    "Other methods to handle missing values could be:\n",
    "- imputation with mean, median or mode\n",
    "- imputation with a constant value\n",
    "- imputation with a value estimated by a model\n",
    "- creating a new category for missing values\n",
    "- looking for data in literature or other sources to fill in the missing values\n",
    "\n",
    "In the [paper](../references/Mushroom%20data%20creation_sup.pdf) I used for generating data, the authors handled missing values for their generated data like this:\n",
    "\n",
    "> **Second data curation** for correct data encoding. We handle missing values by using an imputation method, i.e., a threshold based filtering. Replacements using the most frequent single imputation is a strong simplification, however it is a common approach for missing imputation of nominal variables."
   ]
  },
  {
   "cell_type": "code",
   "execution_count": 74,
   "metadata": {},
   "outputs": [],
   "source": [
    "# drop columns with missing values\n",
    "df_no_missing = df.dropna(axis=1, inplace=False)\n",
    "df_no_missing = df_no_missing.drop(columns=[\"family\"], inplace=False)\n",
    "df_no_missing = df_no_missing.drop(columns=[\"class\"], inplace=False)\n"
   ]
  },
  {
   "cell_type": "code",
   "execution_count": 75,
   "metadata": {},
   "outputs": [
    {
     "name": "stdout",
     "output_type": "stream",
     "text": [
      "Number of Features after dropping columns with missing values: 12\n"
     ]
    }
   ],
   "source": [
    "print(\n",
    "    f\"Number of Features after dropping columns with missing values: {df_no_missing.shape[1]}\"\n",
    ")"
   ]
  },
  {
   "cell_type": "code",
   "execution_count": 76,
   "metadata": {},
   "outputs": [
    {
     "data": {
      "text/plain": [
       "{'cap-surface': 0.23121387283236994,\n",
       " 'gill-attachment': 0.16184971098265896,\n",
       " 'gill-spacing': 0.41040462427745666,\n",
       " 'stem-root': 0.8439306358381503,\n",
       " 'stem-surface': 0.6242774566473989,\n",
       " 'veil-type': 0.9479768786127167,\n",
       " 'veil-color': 0.8786127167630058,\n",
       " 'ring-type': 0.04046242774566474,\n",
       " 'spore-print-color': 0.8959537572254336}"
      ]
     },
     "execution_count": 76,
     "metadata": {},
     "output_type": "execute_result"
    }
   ],
   "source": [
    "from src.mushroom_class_fix import get_variables_missing_dict\n",
    "\n",
    "get_variables_missing_dict(df)"
   ]
  },
  {
   "cell_type": "code",
   "execution_count": 77,
   "metadata": {},
   "outputs": [
    {
     "data": {
      "text/plain": [
       "{}"
      ]
     },
     "execution_count": 77,
     "metadata": {},
     "output_type": "execute_result"
    }
   ],
   "source": [
    "get_variables_missing_dict(df_no_missing)"
   ]
  },
  {
   "cell_type": "markdown",
   "metadata": {},
   "source": [
    "### Duplicate values"
   ]
  },
  {
   "cell_type": "code",
   "execution_count": 78,
   "metadata": {},
   "outputs": [
    {
     "data": {
      "text/html": [
       "<div>\n",
       "<style scoped>\n",
       "    .dataframe tbody tr th:only-of-type {\n",
       "        vertical-align: middle;\n",
       "    }\n",
       "\n",
       "    .dataframe tbody tr th {\n",
       "        vertical-align: top;\n",
       "    }\n",
       "\n",
       "    .dataframe thead th {\n",
       "        text-align: right;\n",
       "    }\n",
       "</style>\n",
       "<table border=\"1\" class=\"dataframe\">\n",
       "  <thead>\n",
       "    <tr style=\"text-align: right;\">\n",
       "      <th></th>\n",
       "      <th>cap-diameter</th>\n",
       "      <th>cap-shape</th>\n",
       "      <th>cap-color</th>\n",
       "      <th>does-bruise-or-bleed</th>\n",
       "      <th>gill-color</th>\n",
       "      <th>stem-height</th>\n",
       "      <th>stem-width</th>\n",
       "      <th>stem-color</th>\n",
       "      <th>has-ring</th>\n",
       "      <th>habitat</th>\n",
       "      <th>season</th>\n",
       "    </tr>\n",
       "    <tr>\n",
       "      <th>name</th>\n",
       "      <th></th>\n",
       "      <th></th>\n",
       "      <th></th>\n",
       "      <th></th>\n",
       "      <th></th>\n",
       "      <th></th>\n",
       "      <th></th>\n",
       "      <th></th>\n",
       "      <th></th>\n",
       "      <th></th>\n",
       "      <th></th>\n",
       "    </tr>\n",
       "  </thead>\n",
       "  <tbody>\n",
       "    <tr>\n",
       "      <th>Hairy Stereum</th>\n",
       "      <td>8</td>\n",
       "      <td>8</td>\n",
       "      <td>8</td>\n",
       "      <td>8</td>\n",
       "      <td>8</td>\n",
       "      <td>8</td>\n",
       "      <td>8</td>\n",
       "      <td>8</td>\n",
       "      <td>8</td>\n",
       "      <td>8</td>\n",
       "      <td>8</td>\n",
       "    </tr>\n",
       "    <tr>\n",
       "      <th>Orange Moss Agaric</th>\n",
       "      <td>1</td>\n",
       "      <td>1</td>\n",
       "      <td>1</td>\n",
       "      <td>1</td>\n",
       "      <td>1</td>\n",
       "      <td>1</td>\n",
       "      <td>1</td>\n",
       "      <td>1</td>\n",
       "      <td>1</td>\n",
       "      <td>1</td>\n",
       "      <td>1</td>\n",
       "    </tr>\n",
       "    <tr>\n",
       "      <th>Silver Leaf Fungus</th>\n",
       "      <td>94</td>\n",
       "      <td>94</td>\n",
       "      <td>94</td>\n",
       "      <td>94</td>\n",
       "      <td>94</td>\n",
       "      <td>94</td>\n",
       "      <td>94</td>\n",
       "      <td>94</td>\n",
       "      <td>94</td>\n",
       "      <td>94</td>\n",
       "      <td>94</td>\n",
       "    </tr>\n",
       "    <tr>\n",
       "      <th>Soft Slipper Toadstool</th>\n",
       "      <td>52</td>\n",
       "      <td>52</td>\n",
       "      <td>52</td>\n",
       "      <td>52</td>\n",
       "      <td>52</td>\n",
       "      <td>52</td>\n",
       "      <td>52</td>\n",
       "      <td>52</td>\n",
       "      <td>52</td>\n",
       "      <td>52</td>\n",
       "      <td>52</td>\n",
       "    </tr>\n",
       "  </tbody>\n",
       "</table>\n",
       "</div>"
      ],
      "text/plain": [
       "                        cap-diameter  cap-shape  cap-color  \\\n",
       "name                                                         \n",
       "Hairy Stereum                      8          8          8   \n",
       "Orange Moss Agaric                 1          1          1   \n",
       "Silver Leaf Fungus                94         94         94   \n",
       "Soft Slipper Toadstool            52         52         52   \n",
       "\n",
       "                        does-bruise-or-bleed  gill-color  stem-height  \\\n",
       "name                                                                    \n",
       "Hairy Stereum                              8           8            8   \n",
       "Orange Moss Agaric                         1           1            1   \n",
       "Silver Leaf Fungus                        94          94           94   \n",
       "Soft Slipper Toadstool                    52          52           52   \n",
       "\n",
       "                        stem-width  stem-color  has-ring  habitat  season  \n",
       "name                                                                       \n",
       "Hairy Stereum                    8           8         8        8       8  \n",
       "Orange Moss Agaric               1           1         1        1       1  \n",
       "Silver Leaf Fungus              94          94        94       94      94  \n",
       "Soft Slipper Toadstool          52          52        52       52      52  "
      ]
     },
     "execution_count": 78,
     "metadata": {},
     "output_type": "execute_result"
    }
   ],
   "source": [
    "df_no_missing[df_no_missing.duplicated()].groupby(\"name\").count()"
   ]
  },
  {
   "cell_type": "code",
   "execution_count": 79,
   "metadata": {},
   "outputs": [
    {
     "data": {
      "text/plain": [
       "0"
      ]
     },
     "execution_count": 79,
     "metadata": {},
     "output_type": "execute_result"
    }
   ],
   "source": [
    "df_no_missing = df_no_missing.drop_duplicates()\n",
    "df_no_missing.duplicated().sum()"
   ]
  },
  {
   "cell_type": "markdown",
   "metadata": {},
   "source": [
    "## Feature importance analysis"
   ]
  },
  {
   "cell_type": "markdown",
   "metadata": {},
   "source": [
    "### Target variable analysis"
   ]
  },
  {
   "cell_type": "code",
   "execution_count": 80,
   "metadata": {},
   "outputs": [
    {
     "data": {
      "text/plain": [
       "<Axes: xlabel='name', ylabel='Count'>"
      ]
     },
     "execution_count": 80,
     "metadata": {},
     "output_type": "execute_result"
    },
    {
     "data": {
      "image/png": "[encoded data removed]",
      "text/plain": [
       "<Figure size 640x480 with 1 Axes>"
      ]
     },
     "metadata": {},
     "output_type": "display_data"
    }
   ],
   "source": [
    "sns.histplot(df[\"name\"])"
   ]
  },
  {
   "cell_type": "code",
   "execution_count": 81,
   "metadata": {},
   "outputs": [],
   "source": [
    "# round(df.name.mean(), 3)\n",
    "\n",
    "# FIXME: not working because of strings -> LabelEncoder"
   ]
  },
  {
   "cell_type": "code",
   "execution_count": 82,
   "metadata": {},
   "outputs": [
    {
     "data": {
      "text/html": [
       "<div>\n",
       "<style scoped>\n",
       "    .dataframe tbody tr th:only-of-type {\n",
       "        vertical-align: middle;\n",
       "    }\n",
       "\n",
       "    .dataframe tbody tr th {\n",
       "        vertical-align: top;\n",
       "    }\n",
       "\n",
       "    .dataframe thead th {\n",
       "        text-align: right;\n",
       "    }\n",
       "</style>\n",
       "<table border=\"1\" class=\"dataframe\">\n",
       "  <thead>\n",
       "    <tr style=\"text-align: right;\">\n",
       "      <th></th>\n",
       "      <th>0</th>\n",
       "      <th>1</th>\n",
       "      <th>2</th>\n",
       "      <th>3</th>\n",
       "      <th>4</th>\n",
       "    </tr>\n",
       "  </thead>\n",
       "  <tbody>\n",
       "    <tr>\n",
       "      <th>name</th>\n",
       "      <td>94</td>\n",
       "      <td>40</td>\n",
       "      <td>55</td>\n",
       "      <td>145</td>\n",
       "      <td>96</td>\n",
       "    </tr>\n",
       "    <tr>\n",
       "      <th>cap-diameter</th>\n",
       "      <td>2.44</td>\n",
       "      <td>3.84</td>\n",
       "      <td>12.36</td>\n",
       "      <td>10.58</td>\n",
       "      <td>7.1</td>\n",
       "    </tr>\n",
       "    <tr>\n",
       "      <th>stem-height</th>\n",
       "      <td>3.15</td>\n",
       "      <td>4.92</td>\n",
       "      <td>11.29</td>\n",
       "      <td>12.04</td>\n",
       "      <td>8.79</td>\n",
       "    </tr>\n",
       "    <tr>\n",
       "      <th>stem-width</th>\n",
       "      <td>5.35</td>\n",
       "      <td>7.96</td>\n",
       "      <td>15.24</td>\n",
       "      <td>21.48</td>\n",
       "      <td>16.65</td>\n",
       "    </tr>\n",
       "    <tr>\n",
       "      <th>cap-shape_b</th>\n",
       "      <td>False</td>\n",
       "      <td>False</td>\n",
       "      <td>False</td>\n",
       "      <td>False</td>\n",
       "      <td>False</td>\n",
       "    </tr>\n",
       "    <tr>\n",
       "      <th>...</th>\n",
       "      <td>...</td>\n",
       "      <td>...</td>\n",
       "      <td>...</td>\n",
       "      <td>...</td>\n",
       "      <td>...</td>\n",
       "    </tr>\n",
       "    <tr>\n",
       "      <th>habitat_w</th>\n",
       "      <td>False</td>\n",
       "      <td>False</td>\n",
       "      <td>False</td>\n",
       "      <td>False</td>\n",
       "      <td>False</td>\n",
       "    </tr>\n",
       "    <tr>\n",
       "      <th>season_a</th>\n",
       "      <td>True</td>\n",
       "      <td>True</td>\n",
       "      <td>False</td>\n",
       "      <td>False</td>\n",
       "      <td>True</td>\n",
       "    </tr>\n",
       "    <tr>\n",
       "      <th>season_s</th>\n",
       "      <td>False</td>\n",
       "      <td>False</td>\n",
       "      <td>False</td>\n",
       "      <td>False</td>\n",
       "      <td>False</td>\n",
       "    </tr>\n",
       "    <tr>\n",
       "      <th>season_u</th>\n",
       "      <td>False</td>\n",
       "      <td>False</td>\n",
       "      <td>True</td>\n",
       "      <td>True</td>\n",
       "      <td>False</td>\n",
       "    </tr>\n",
       "    <tr>\n",
       "      <th>season_w</th>\n",
       "      <td>False</td>\n",
       "      <td>False</td>\n",
       "      <td>False</td>\n",
       "      <td>False</td>\n",
       "      <td>False</td>\n",
       "    </tr>\n",
       "  </tbody>\n",
       "</table>\n",
       "<p>64 rows × 5 columns</p>\n",
       "</div>"
      ],
      "text/plain": [
       "                  0      1      2      3      4\n",
       "name             94     40     55    145     96\n",
       "cap-diameter   2.44   3.84  12.36  10.58    7.1\n",
       "stem-height    3.15   4.92  11.29  12.04   8.79\n",
       "stem-width     5.35   7.96  15.24  21.48  16.65\n",
       "cap-shape_b   False  False  False  False  False\n",
       "...             ...    ...    ...    ...    ...\n",
       "habitat_w     False  False  False  False  False\n",
       "season_a       True   True  False  False   True\n",
       "season_s      False  False  False  False  False\n",
       "season_u      False  False   True   True  False\n",
       "season_w      False  False  False  False  False\n",
       "\n",
       "[64 rows x 5 columns]"
      ]
     },
     "execution_count": 82,
     "metadata": {},
     "output_type": "execute_result"
    }
   ],
   "source": [
    "from src.mushroom_class_fix import encode_data_numerical\n",
    "\n",
    "\n",
    "df_LE = encode_data_numerical(df_no_missing).copy()\n",
    "df_LE.head(5).T"
   ]
  },
  {
   "cell_type": "markdown",
   "metadata": {},
   "source": [
    "### Feature importance"
   ]
  },
  {
   "cell_type": "code",
   "execution_count": 83,
   "metadata": {},
   "outputs": [
    {
     "data": {
      "text/plain": [
       "name                      1.000000\n",
       "does-bruise-or-bleed_t    0.155108\n",
       "does-bruise-or-bleed_f    0.155108\n",
       "cap-shape_p               0.128470\n",
       "season_w                  0.122288\n",
       "gill-color_y              0.120440\n",
       "cap-color_k               0.119400\n",
       "cap-color_y               0.112606\n",
       "stem-color_o              0.100809\n",
       "gill-color_g              0.096007\n",
       "cap-color_u               0.090785\n",
       "stem-color_b              0.086764\n",
       "stem-width                0.078830\n",
       "cap-diameter              0.077313\n",
       "cap-shape_s               0.077223\n",
       "dtype: float64"
      ]
     },
     "execution_count": 83,
     "metadata": {},
     "output_type": "execute_result"
    }
   ],
   "source": [
    "# Correlation\n",
    "corr = df_LE.corrwith(df_LE.name)\n",
    "abs(corr).sort_values(ascending=False).head(15)\n",
    "# (corr).sort_values(ascending=False)"
   ]
  },
  {
   "cell_type": "code",
   "execution_count": 84,
   "metadata": {},
   "outputs": [
    {
     "data": {
      "text/plain": [
       "<Axes: >"
      ]
     },
     "execution_count": 84,
     "metadata": {},
     "output_type": "execute_result"
    },
    {
     "data": {
      "image/png": "[encoded data removed]",
      "text/plain": [
       "<Figure size 1100x1100 with 2 Axes>"
      ]
     },
     "metadata": {},
     "output_type": "display_data"
    }
   ],
   "source": [
    "plt.figure(figsize=(11, 11))\n",
    "sns.heatmap(abs(df_LE.corr()), fmt=\".2f\", annot=False)"
   ]
  },
  {
   "cell_type": "code",
   "execution_count": 85,
   "metadata": {},
   "outputs": [
    {
     "data": {
      "text/plain": [
       "['cap-shape',\n",
       " 'cap-color',\n",
       " 'does-bruise-or-bleed',\n",
       " 'gill-color',\n",
       " 'stem-color',\n",
       " 'has-ring',\n",
       " 'habitat',\n",
       " 'season']"
      ]
     },
     "execution_count": 85,
     "metadata": {},
     "output_type": "execute_result"
    }
   ],
   "source": [
    "cat_features = [\n",
    "    #    \"family\",\n",
    "    #    \"class\",\n",
    "    \"cap-shape\",\n",
    "    \"cap-color\",\n",
    "    \"does-bruise-or-bleed\",\n",
    "    \"gill-color\",\n",
    "    \"stem-color\",\n",
    "    \"has-ring\",\n",
    "    \"habitat\",\n",
    "    \"season\",\n",
    "]\n",
    "cat_features"
   ]
  },
  {
   "cell_type": "code",
   "execution_count": 86,
   "metadata": {},
   "outputs": [
    {
     "data": {
      "text/plain": [
       "['cap-diameter', 'stem-height', 'stem-width']"
      ]
     },
     "execution_count": 86,
     "metadata": {},
     "output_type": "execute_result"
    }
   ],
   "source": [
    "num_features = [\n",
    "    \"cap-diameter\",\n",
    "    \"stem-height\",\n",
    "    \"stem-width\",\n",
    "]\n",
    "num_features"
   ]
  },
  {
   "cell_type": "code",
   "execution_count": 87,
   "metadata": {},
   "outputs": [
    {
     "data": {
      "text/plain": [
       "cap-shape                7\n",
       "cap-color               12\n",
       "does-bruise-or-bleed     2\n",
       "gill-color              12\n",
       "stem-color              13\n",
       "has-ring                 2\n",
       "habitat                  8\n",
       "season                   4\n",
       "dtype: int64"
      ]
     },
     "execution_count": 87,
     "metadata": {},
     "output_type": "execute_result"
    }
   ],
   "source": [
    "df_no_missing[cat_features].nunique()"
   ]
  },
  {
   "cell_type": "code",
   "execution_count": 88,
   "metadata": {},
   "outputs": [
    {
     "data": {
      "text/plain": [
       "87.78834885142179"
      ]
     },
     "execution_count": 88,
     "metadata": {},
     "output_type": "execute_result"
    }
   ],
   "source": [
    "# female_mean = df[df.sex == 0].output.mean()\n",
    "# female_mean\n",
    "# # Output: 0.75\n",
    "# male_mean = df[df.sex == 1].output.mean()\n",
    "# male_mean\n",
    "# # Output: 0.45\n",
    "\n",
    "season_w_mean = df_LE[df_LE.season_w == 0].name.mean()\n",
    "season_w_mean"
   ]
  },
  {
   "cell_type": "code",
   "execution_count": 89,
   "metadata": {},
   "outputs": [
    {
     "data": {
      "text/plain": [
       "83.37450042069835"
      ]
     },
     "execution_count": 89,
     "metadata": {},
     "output_type": "execute_result"
    }
   ],
   "source": [
    "season_u_mean = df_LE[df_LE.season_u == 0].name.mean()\n",
    "season_u_mean"
   ]
  },
  {
   "cell_type": "code",
   "execution_count": 90,
   "metadata": {},
   "outputs": [
    {
     "data": {
      "text/plain": [
       "season\n",
       "a    30015\n",
       "u    22882\n",
       "w     5280\n",
       "s     2737\n",
       "Name: count, dtype: int64"
      ]
     },
     "execution_count": 90,
     "metadata": {},
     "output_type": "execute_result"
    }
   ],
   "source": [
    "df_no_missing.season.value_counts()"
   ]
  },
  {
   "cell_type": "code",
   "execution_count": 91,
   "metadata": {},
   "outputs": [
    {
     "data": {
      "text/plain": [
       "Index(['name', 'cap-diameter', 'stem-height', 'stem-width', 'cap-shape_b',\n",
       "       'cap-shape_c', 'cap-shape_f', 'cap-shape_o', 'cap-shape_p',\n",
       "       'cap-shape_s', 'cap-shape_x', 'cap-color_b', 'cap-color_e',\n",
       "       'cap-color_g', 'cap-color_k', 'cap-color_l', 'cap-color_n',\n",
       "       'cap-color_o', 'cap-color_p', 'cap-color_r', 'cap-color_u',\n",
       "       'cap-color_w', 'cap-color_y', 'does-bruise-or-bleed_f',\n",
       "       'does-bruise-or-bleed_t', 'gill-color_b', 'gill-color_e',\n",
       "       'gill-color_f', 'gill-color_g', 'gill-color_k', 'gill-color_n',\n",
       "       'gill-color_o', 'gill-color_p', 'gill-color_r', 'gill-color_u',\n",
       "       'gill-color_w', 'gill-color_y', 'stem-color_b', 'stem-color_e',\n",
       "       'stem-color_f', 'stem-color_g', 'stem-color_k', 'stem-color_l',\n",
       "       'stem-color_n', 'stem-color_o', 'stem-color_p', 'stem-color_r',\n",
       "       'stem-color_u', 'stem-color_w', 'stem-color_y', 'has-ring_f',\n",
       "       'has-ring_t', 'habitat_d', 'habitat_g', 'habitat_h', 'habitat_l',\n",
       "       'habitat_m', 'habitat_p', 'habitat_u', 'habitat_w', 'season_a',\n",
       "       'season_s', 'season_u', 'season_w'],\n",
       "      dtype='object')"
      ]
     },
     "execution_count": 91,
     "metadata": {},
     "output_type": "execute_result"
    }
   ],
   "source": [
    "df_LE.columns"
   ]
  },
  {
   "cell_type": "code",
   "execution_count": null,
   "metadata": {},
   "outputs": [],
   "source": []
  },
  {
   "cell_type": "markdown",
   "metadata": {},
   "source": [
    "## FIXME: Stuff missing"
   ]
  },
  {
   "cell_type": "markdown",
   "metadata": {},
   "source": []
  },
  {
   "cell_type": "markdown",
   "metadata": {},
   "source": [
    "## Test-Train-Validation Split"
   ]
  },
  {
   "cell_type": "code",
   "execution_count": 92,
   "metadata": {},
   "outputs": [],
   "source": [
    "from sklearn.model_selection import train_test_split"
   ]
  },
  {
   "cell_type": "code",
   "execution_count": 93,
   "metadata": {},
   "outputs": [],
   "source": [
    "df_full_train, df_test = train_test_split(\n",
    "    df_no_missing, test_size=0.2, random_state=42, stratify=df_no_missing[\"name\"]\n",
    ")"
   ]
  },
  {
   "cell_type": "code",
   "execution_count": 139,
   "metadata": {},
   "outputs": [
    {
     "data": {
      "text/plain": [
       "(48731, 12183)"
      ]
     },
     "execution_count": 139,
     "metadata": {},
     "output_type": "execute_result"
    }
   ],
   "source": [
    "len(df_full_train), len(df_test)"
   ]
  },
  {
   "cell_type": "code",
   "execution_count": 95,
   "metadata": {},
   "outputs": [],
   "source": [
    "df_train, df_val = train_test_split(\n",
    "    df_full_train, test_size=0.25, random_state=42, stratify=df_full_train[\"name\"]\n",
    ")"
   ]
  },
  {
   "cell_type": "code",
   "execution_count": 96,
   "metadata": {},
   "outputs": [
    {
     "data": {
      "text/plain": [
       "(36548, 12183, 12183)"
      ]
     },
     "execution_count": 96,
     "metadata": {},
     "output_type": "execute_result"
    }
   ],
   "source": [
    "len(df_train), len(df_val), len(df_test)"
   ]
  },
  {
   "cell_type": "code",
   "execution_count": 97,
   "metadata": {},
   "outputs": [],
   "source": [
    "df_train = df_train.reset_index(drop=True)\n",
    "df_val = df_val.reset_index(drop=True)\n",
    "df_test = df_test.reset_index(drop=True)"
   ]
  },
  {
   "cell_type": "code",
   "execution_count": 98,
   "metadata": {},
   "outputs": [
    {
     "data": {
      "text/html": [
       "<div>\n",
       "<style scoped>\n",
       "    .dataframe tbody tr th:only-of-type {\n",
       "        vertical-align: middle;\n",
       "    }\n",
       "\n",
       "    .dataframe tbody tr th {\n",
       "        vertical-align: top;\n",
       "    }\n",
       "\n",
       "    .dataframe thead th {\n",
       "        text-align: right;\n",
       "    }\n",
       "</style>\n",
       "<table border=\"1\" class=\"dataframe\">\n",
       "  <thead>\n",
       "    <tr style=\"text-align: right;\">\n",
       "      <th></th>\n",
       "      <th>name</th>\n",
       "      <th>cap-diameter</th>\n",
       "      <th>cap-shape</th>\n",
       "      <th>cap-color</th>\n",
       "      <th>does-bruise-or-bleed</th>\n",
       "      <th>gill-color</th>\n",
       "      <th>stem-height</th>\n",
       "      <th>stem-width</th>\n",
       "      <th>stem-color</th>\n",
       "      <th>has-ring</th>\n",
       "      <th>habitat</th>\n",
       "      <th>season</th>\n",
       "    </tr>\n",
       "  </thead>\n",
       "  <tbody>\n",
       "    <tr>\n",
       "      <th>0</th>\n",
       "      <td>Tubed Chanterelle</td>\n",
       "      <td>3.77</td>\n",
       "      <td>s</td>\n",
       "      <td>y</td>\n",
       "      <td>f</td>\n",
       "      <td>f</td>\n",
       "      <td>6.95</td>\n",
       "      <td>7.31</td>\n",
       "      <td>y</td>\n",
       "      <td>f</td>\n",
       "      <td>d</td>\n",
       "      <td>a</td>\n",
       "    </tr>\n",
       "    <tr>\n",
       "      <th>1</th>\n",
       "      <td>Red-staining Inocybe</td>\n",
       "      <td>6.19</td>\n",
       "      <td>c</td>\n",
       "      <td>w</td>\n",
       "      <td>t</td>\n",
       "      <td>y</td>\n",
       "      <td>6.30</td>\n",
       "      <td>12.15</td>\n",
       "      <td>w</td>\n",
       "      <td>f</td>\n",
       "      <td>g</td>\n",
       "      <td>s</td>\n",
       "    </tr>\n",
       "    <tr>\n",
       "      <th>2</th>\n",
       "      <td>Destroying Angel</td>\n",
       "      <td>6.80</td>\n",
       "      <td>b</td>\n",
       "      <td>w</td>\n",
       "      <td>f</td>\n",
       "      <td>w</td>\n",
       "      <td>11.28</td>\n",
       "      <td>10.95</td>\n",
       "      <td>w</td>\n",
       "      <td>t</td>\n",
       "      <td>d</td>\n",
       "      <td>u</td>\n",
       "    </tr>\n",
       "    <tr>\n",
       "      <th>3</th>\n",
       "      <td>Orange-red Wax Cap</td>\n",
       "      <td>2.79</td>\n",
       "      <td>f</td>\n",
       "      <td>o</td>\n",
       "      <td>f</td>\n",
       "      <td>y</td>\n",
       "      <td>2.86</td>\n",
       "      <td>4.35</td>\n",
       "      <td>o</td>\n",
       "      <td>f</td>\n",
       "      <td>m</td>\n",
       "      <td>a</td>\n",
       "    </tr>\n",
       "    <tr>\n",
       "      <th>4</th>\n",
       "      <td>Birch Russula</td>\n",
       "      <td>4.39</td>\n",
       "      <td>f</td>\n",
       "      <td>y</td>\n",
       "      <td>f</td>\n",
       "      <td>w</td>\n",
       "      <td>6.00</td>\n",
       "      <td>6.92</td>\n",
       "      <td>w</td>\n",
       "      <td>f</td>\n",
       "      <td>d</td>\n",
       "      <td>u</td>\n",
       "    </tr>\n",
       "    <tr>\n",
       "      <th>...</th>\n",
       "      <td>...</td>\n",
       "      <td>...</td>\n",
       "      <td>...</td>\n",
       "      <td>...</td>\n",
       "      <td>...</td>\n",
       "      <td>...</td>\n",
       "      <td>...</td>\n",
       "      <td>...</td>\n",
       "      <td>...</td>\n",
       "      <td>...</td>\n",
       "      <td>...</td>\n",
       "      <td>...</td>\n",
       "    </tr>\n",
       "    <tr>\n",
       "      <th>36543</th>\n",
       "      <td>The Charcoal Burner</td>\n",
       "      <td>9.24</td>\n",
       "      <td>x</td>\n",
       "      <td>l</td>\n",
       "      <td>f</td>\n",
       "      <td>w</td>\n",
       "      <td>5.86</td>\n",
       "      <td>17.12</td>\n",
       "      <td>w</td>\n",
       "      <td>f</td>\n",
       "      <td>d</td>\n",
       "      <td>a</td>\n",
       "    </tr>\n",
       "    <tr>\n",
       "      <th>36544</th>\n",
       "      <td>Peppery Bolete</td>\n",
       "      <td>4.55</td>\n",
       "      <td>x</td>\n",
       "      <td>n</td>\n",
       "      <td>f</td>\n",
       "      <td>n</td>\n",
       "      <td>5.31</td>\n",
       "      <td>10.63</td>\n",
       "      <td>e</td>\n",
       "      <td>f</td>\n",
       "      <td>d</td>\n",
       "      <td>u</td>\n",
       "    </tr>\n",
       "    <tr>\n",
       "      <th>36545</th>\n",
       "      <td>Brown Birch Bolete</td>\n",
       "      <td>7.59</td>\n",
       "      <td>x</td>\n",
       "      <td>n</td>\n",
       "      <td>t</td>\n",
       "      <td>g</td>\n",
       "      <td>11.58</td>\n",
       "      <td>25.89</td>\n",
       "      <td>w</td>\n",
       "      <td>f</td>\n",
       "      <td>d</td>\n",
       "      <td>u</td>\n",
       "    </tr>\n",
       "    <tr>\n",
       "      <th>36546</th>\n",
       "      <td>Common Funnel Cap</td>\n",
       "      <td>6.57</td>\n",
       "      <td>s</td>\n",
       "      <td>n</td>\n",
       "      <td>f</td>\n",
       "      <td>w</td>\n",
       "      <td>5.03</td>\n",
       "      <td>8.52</td>\n",
       "      <td>w</td>\n",
       "      <td>f</td>\n",
       "      <td>d</td>\n",
       "      <td>a</td>\n",
       "    </tr>\n",
       "    <tr>\n",
       "      <th>36547</th>\n",
       "      <td>Destroying Angel</td>\n",
       "      <td>7.88</td>\n",
       "      <td>b</td>\n",
       "      <td>w</td>\n",
       "      <td>f</td>\n",
       "      <td>w</td>\n",
       "      <td>13.12</td>\n",
       "      <td>12.76</td>\n",
       "      <td>w</td>\n",
       "      <td>t</td>\n",
       "      <td>d</td>\n",
       "      <td>a</td>\n",
       "    </tr>\n",
       "  </tbody>\n",
       "</table>\n",
       "<p>36548 rows × 12 columns</p>\n",
       "</div>"
      ],
      "text/plain": [
       "                       name  cap-diameter cap-shape cap-color  \\\n",
       "0         Tubed Chanterelle          3.77         s         y   \n",
       "1      Red-staining Inocybe          6.19         c         w   \n",
       "2          Destroying Angel          6.80         b         w   \n",
       "3        Orange-red Wax Cap          2.79         f         o   \n",
       "4             Birch Russula          4.39         f         y   \n",
       "...                     ...           ...       ...       ...   \n",
       "36543   The Charcoal Burner          9.24         x         l   \n",
       "36544        Peppery Bolete          4.55         x         n   \n",
       "36545    Brown Birch Bolete          7.59         x         n   \n",
       "36546     Common Funnel Cap          6.57         s         n   \n",
       "36547      Destroying Angel          7.88         b         w   \n",
       "\n",
       "      does-bruise-or-bleed gill-color  stem-height  stem-width stem-color  \\\n",
       "0                        f          f         6.95        7.31          y   \n",
       "1                        t          y         6.30       12.15          w   \n",
       "2                        f          w        11.28       10.95          w   \n",
       "3                        f          y         2.86        4.35          o   \n",
       "4                        f          w         6.00        6.92          w   \n",
       "...                    ...        ...          ...         ...        ...   \n",
       "36543                    f          w         5.86       17.12          w   \n",
       "36544                    f          n         5.31       10.63          e   \n",
       "36545                    t          g        11.58       25.89          w   \n",
       "36546                    f          w         5.03        8.52          w   \n",
       "36547                    f          w        13.12       12.76          w   \n",
       "\n",
       "      has-ring habitat season  \n",
       "0            f       d      a  \n",
       "1            f       g      s  \n",
       "2            t       d      u  \n",
       "3            f       m      a  \n",
       "4            f       d      u  \n",
       "...        ...     ...    ...  \n",
       "36543        f       d      a  \n",
       "36544        f       d      u  \n",
       "36545        f       d      u  \n",
       "36546        f       d      a  \n",
       "36547        t       d      a  \n",
       "\n",
       "[36548 rows x 12 columns]"
      ]
     },
     "execution_count": 98,
     "metadata": {},
     "output_type": "execute_result"
    }
   ],
   "source": [
    "df_train"
   ]
  },
  {
   "cell_type": "code",
   "execution_count": 99,
   "metadata": {},
   "outputs": [],
   "source": [
    "y_train = (df_train.name).values\n",
    "y_val = (df_val.name).values\n",
    "y_test = (df_test.name).values"
   ]
  },
  {
   "cell_type": "code",
   "execution_count": 100,
   "metadata": {},
   "outputs": [],
   "source": [
    "del df_train[\"name\"]\n",
    "del df_val[\"name\"]\n",
    "del df_test[\"name\"]"
   ]
  },
  {
   "cell_type": "markdown",
   "metadata": {},
   "source": [
    "## One-Hot Encoding"
   ]
  },
  {
   "cell_type": "code",
   "execution_count": 101,
   "metadata": {},
   "outputs": [],
   "source": [
    "from sklearn.feature_extraction import DictVectorizer"
   ]
  },
  {
   "cell_type": "code",
   "execution_count": 102,
   "metadata": {},
   "outputs": [],
   "source": [
    "dv = DictVectorizer(sparse=False)\n",
    "\n",
    "# Convert categorical features to dictionary format\n",
    "train_dicts = df_train[cat_features + num_features].to_dict(orient=\"records\")\n",
    "X_train = dv.fit_transform(train_dicts)\n",
    "\n",
    "val_dicts = df_val[cat_features + num_features].to_dict(orient=\"records\")\n",
    "X_val = dv.transform(val_dicts)\n",
    "\n",
    "test_dicts = df_test[cat_features + num_features].to_dict(orient=\"records\")\n",
    "X_test = dv.transform(test_dicts)"
   ]
  },
  {
   "cell_type": "code",
   "execution_count": 103,
   "metadata": {},
   "outputs": [
    {
     "data": {
      "text/plain": [
       "array(['cap-color=b', 'cap-color=e', 'cap-color=g', 'cap-color=k',\n",
       "       'cap-color=l', 'cap-color=n', 'cap-color=o', 'cap-color=p',\n",
       "       'cap-color=r', 'cap-color=u', 'cap-color=w', 'cap-color=y',\n",
       "       'cap-diameter', 'cap-shape=b', 'cap-shape=c', 'cap-shape=f',\n",
       "       'cap-shape=o', 'cap-shape=p', 'cap-shape=s', 'cap-shape=x',\n",
       "       'does-bruise-or-bleed=f', 'does-bruise-or-bleed=t', 'gill-color=b',\n",
       "       'gill-color=e', 'gill-color=f', 'gill-color=g', 'gill-color=k',\n",
       "       'gill-color=n', 'gill-color=o', 'gill-color=p', 'gill-color=r',\n",
       "       'gill-color=u', 'gill-color=w', 'gill-color=y', 'habitat=d',\n",
       "       'habitat=g', 'habitat=h', 'habitat=l', 'habitat=m', 'habitat=p',\n",
       "       'habitat=u', 'habitat=w', 'has-ring=f', 'has-ring=t', 'season=a',\n",
       "       'season=s', 'season=u', 'season=w', 'stem-color=b', 'stem-color=e',\n",
       "       'stem-color=f', 'stem-color=g', 'stem-color=k', 'stem-color=l',\n",
       "       'stem-color=n', 'stem-color=o', 'stem-color=p', 'stem-color=r',\n",
       "       'stem-color=u', 'stem-color=w', 'stem-color=y', 'stem-height',\n",
       "       'stem-width'], dtype=object)"
      ]
     },
     "execution_count": 103,
     "metadata": {},
     "output_type": "execute_result"
    }
   ],
   "source": [
    "dv.get_feature_names_out()"
   ]
  },
  {
   "cell_type": "code",
   "execution_count": 104,
   "metadata": {},
   "outputs": [
    {
     "data": {
      "text/plain": [
       "array(['Stinking Parasol', 'Dotted-stemmed Bolete', 'Meadow Wax Cap', ...,\n",
       "       'Red-staining Inocybe', 'Orange-red Wax Cap', 'Bitter Bolete'],\n",
       "      dtype=object)"
      ]
     },
     "execution_count": 104,
     "metadata": {},
     "output_type": "execute_result"
    }
   ],
   "source": [
    "y_val"
   ]
  },
  {
   "cell_type": "markdown",
   "metadata": {},
   "source": [
    "## Logistic Regression"
   ]
  },
  {
   "cell_type": "code",
   "execution_count": 105,
   "metadata": {},
   "outputs": [
    {
     "data": {
      "text/plain": [
       "array([[4.29276491e-05, 2.44126906e-05, 8.76695903e-05, ...,\n",
       "        3.24443412e-06, 1.25546480e-04, 1.46734901e-09],\n",
       "       [6.93767709e-16, 2.35573164e-09, 6.99102501e-08, ...,\n",
       "        7.84857256e-08, 9.01893574e-08, 4.25362602e-32],\n",
       "       [1.39959329e-03, 7.10942730e-04, 3.32949573e-05, ...,\n",
       "        1.59750790e-03, 2.74785759e-06, 3.39074096e-13],\n",
       "       ...,\n",
       "       [3.40607225e-06, 2.03964467e-07, 5.15275126e-07, ...,\n",
       "        1.49539729e-05, 1.55059235e-04, 6.94509203e-14],\n",
       "       [4.40561809e-06, 6.56113457e-05, 2.07049879e-04, ...,\n",
       "        7.53548969e-05, 9.32789708e-08, 2.58739252e-07],\n",
       "       [9.84296321e-12, 9.11019704e-09, 1.76883700e-09, ...,\n",
       "        3.51162917e-09, 2.43071108e-10, 4.91033045e-27]])"
      ]
     },
     "execution_count": 105,
     "metadata": {},
     "output_type": "execute_result"
    }
   ],
   "source": [
    "from sklearn.linear_model import LogisticRegression\n",
    "\n",
    "LogisticRegression_model_1 = LogisticRegression(solver=\"liblinear\", random_state=1)\n",
    "LogisticRegression_model_1.fit(X_train, y_train)\n",
    "\n",
    "val_dict = df_val[cat_features + num_features].to_dict(orient=\"records\")\n",
    "X_val = dv.transform(val_dict)\n",
    "\n",
    "# y_pred = LogisticRegression_model_1.predict_proba(X_val)[:,1]\n",
    "y_pred = LogisticRegression_model_1.predict_proba(X_val)\n",
    "y_pred"
   ]
  },
  {
   "cell_type": "code",
   "execution_count": 106,
   "metadata": {},
   "outputs": [
    {
     "name": "stdout",
     "output_type": "stream",
     "text": [
      "acc:   0.97808\n",
      "roc:   0.99995\n"
     ]
    }
   ],
   "source": [
    "from sklearn.metrics import accuracy_score\n",
    "from sklearn.metrics import roc_auc_score\n",
    "\n",
    "# Performance of LogisticRegression_model_1:\n",
    "\n",
    "# Convert predicted probabilities to predicted labels\n",
    "y_pred_labels = LogisticRegression_model_1.predict(X_val)\n",
    "probabilities = LogisticRegression_model_1.predict_proba(X_val)\n",
    "\n",
    "acc_LogisticRegression_model_1 = round(accuracy_score(y_val, y_pred_labels), 5)\n",
    "print(\"acc:  \", acc_LogisticRegression_model_1)\n",
    "# Output: 0.0\n",
    "\n",
    "roc_LogisticRegression_model_1 = round(\n",
    "    roc_auc_score(y_val, probabilities, multi_class=\"ovr\"), 5\n",
    ")\n",
    "print(\"roc:  \", roc_LogisticRegression_model_1)\n",
    "# Output: 0.99995"
   ]
  },
  {
   "cell_type": "code",
   "execution_count": 107,
   "metadata": {},
   "outputs": [],
   "source": [
    "# from sklearn.preprocessing import MultiLabelBinarizer\n",
    "# from sklearn.metrics import accuracy_score\n",
    "\n",
    "# # First, get predicted classes using argmax (as you did before)\n",
    "# y_pred_labels = LogisticRegression_model_1.predict(X_val)\n",
    "\n",
    "# # Convert to the same format if needed\n",
    "# mlb = MultiLabelBinarizer()\n",
    "# y_val_encoded = mlb.fit_transform(y_val.reshape(-1, 1))\n",
    "# y_pred_encoded = mlb.transform(y_pred_labels.reshape(-1, 1))\n",
    "\n",
    "# # Calculate accuracy\n",
    "# acc = accuracy_score(y_val_encoded, y_pred_encoded)\n",
    "# acc"
   ]
  },
  {
   "cell_type": "code",
   "execution_count": 108,
   "metadata": {},
   "outputs": [],
   "source": [
    "# from sklearn.preprocessing import MultiLabelBinarizer\n",
    "\n",
    "# # Convert labels to proper format first\n",
    "# mlb = MultiLabelBinarizer()\n",
    "# y_val_binary = mlb.fit_transform(y_val)\n",
    "# y_pred_binary = y_pred >= t\n",
    "\n",
    "# # Now you can use accuracy_score\n",
    "# acc = accuracy_score(y_val_binary, y_pred_binary)\n"
   ]
  },
  {
   "cell_type": "code",
   "execution_count": 109,
   "metadata": {},
   "outputs": [],
   "source": [
    "# thresholds = np.linspace(0, 1, 21)\n",
    "# accuricies = []\n",
    "\n",
    "\n",
    "# for t in thresholds:\n",
    "#     acc = accuracy_score(y_val, y_pred >= t)\n",
    "#     accuricies.append(acc)\n",
    "\n",
    "# plt.plot(thresholds, accuricies)"
   ]
  },
  {
   "cell_type": "code",
   "execution_count": 110,
   "metadata": {},
   "outputs": [],
   "source": [
    "# # Get probabilities per class\n",
    "# thresholds = np.linspace(0, 1, 21)\n",
    "# n_classes = y_pred.shape[1]\n",
    "\n",
    "# # For each class\n",
    "# for class_idx in range(n_classes):\n",
    "#     class_scores = y_pred[:, class_idx]\n",
    "#     # Convert true labels to binary for this class\n",
    "#     y_true_binary = (y_val == class_idx).astype(int)\n",
    "\n",
    "#     # Calculate metrics for different thresholds\n",
    "#     for t in thresholds:\n",
    "#         y_pred_binary = (class_scores >= t).astype(int)\n",
    "#         # Calculate your metric (accuracy, f1, etc.)\n"
   ]
  },
  {
   "cell_type": "code",
   "execution_count": 111,
   "metadata": {},
   "outputs": [],
   "source": [
    "# from sklearn.metrics import roc_curve\n",
    "\n",
    "# # For each class\n",
    "# for class_idx in range(n_classes):\n",
    "#     fpr, tpr, thresholds = roc_curve(\n",
    "#         (y_val == class_idx).astype(int), y_pred[:, class_idx]\n",
    "#     )\n",
    "#     # Find optimal threshold using Youden's J statistic\n",
    "#     optimal_idx = np.argmax(tpr - fpr)\n",
    "#     optimal_threshold = thresholds[optimal_idx]\n"
   ]
  },
  {
   "cell_type": "code",
   "execution_count": 112,
   "metadata": {},
   "outputs": [
    {
     "name": "stdout",
     "output_type": "stream",
     "text": [
      "Label distribution: Counter({'Stinking Parasol': 71, 'Dotted-stemmed Bolete': 71, 'Meadow Wax Cap': 71, 'Hay Cap': 71, 'Tufted Bell Cap': 71, 'Wood Blewit': 71, 'Parasol Mushroom': 71, 'Changeable Melanoleuca': 71, 'Tubed Chanterelle': 71, 'Red-cracked Bolete': 71, 'Oyster Mushroom': 71, 'Bare-toothed Russula': 71, 'Larch Bolete': 71, 'The Charcoal Burner': 71, 'Brown Goblet': 71, 'Ivory Clitocybe': 71, 'Destroying Angel': 71, 'The Miller': 71, 'Horse Mushroom': 71, 'Livid Entoloma': 71, 'Blackening Wax Cap': 71, 'Peppery Bolete': 71, 'Striated Nolanea': 71, 'Yellow-cracked Bolete': 71, 'Hedgehog Fungus': 71, 'Blood-red Cortinarius': 71, 'Greasy Tough Shank': 71, 'The Deceiver': 71, 'Velvet Shank': 71, 'Slippery Jack': 71, 'Oak Milk Cap': 71, 'Slimy Milk Cap': 71, 'Porcelain Mushroom': 71, 'Birch Russula': 71, 'Rusty Carpet Ink Cap': 71, 'The Sickener': 71, 'Plums and custard': 71, 'Sulphur Tricholoma': 71, 'Ear-pick Fungus': 71, 'False Panther Cap': 71, 'Aniseed Funnel Cap': 71, 'Lurid Bolete': 71, 'Branched Oyster Mushroom': 71, 'Rooting Shank': 71, 'Common White Inocybe': 71, 'Yellow Swamp Russula': 71, 'Ugly Milk Cap': 71, 'Clouded Agaric': 71, 'False Chanterelle': 71, 'Dark-centred Hebeloma': 71, 'Rufous Milk Cap': 71, 'Grass-green Russula': 71, 'Brown Birch Bolete': 71, 'Peppery Milk Cap': 71, 'Bay Bolete': 71, 'Fairy Parasol': 71, 'Ivory Wax Cap': 71, 'Magpie Ink Cap': 71, 'Dung Roundhead': 71, 'Stinking Russula': 71, 'Wood Woolly-foot': 71, 'Orange Bell Cap': 71, 'Death Cap': 71, 'Field Mushroom': 71, 'Red-banded Cortinarius': 71, 'Glistening Ink Cap': 71, 'Common Crumble Cap': 71, 'Yellow-stemmed Bell Cap': 71, 'Club-footed Funnel Cap': 71, 'Spectacular Gymnopile': 71, 'Grey Tricholoma': 71, 'Velvet Roll-rim': 71, 'Verdigris Toadstool': 71, 'Yellow-brown Tricholoma': 71, 'Straw-coloured Inocybe': 71, 'Poison Pie': 71, 'Fly Agaric': 71, \"St George's Mushroom\": 71, 'Coconut-scented Milk Cap': 71, 'Fawn Pluteus': 71, 'Shaggy Pholiota': 71, 'Brick Caps': 71, 'Saffron Parasol': 71, 'Turban Fungus': 71, 'Clustered Tough Shank': 71, 'Clustered Brown Cap': 71, 'White Leptonia': 71, 'Petticoat Fungus': 71, 'Charcoal Pholiota': 71, 'Sulphur Tuft': 71, 'Shaggy Parasol': 71, 'Weeping Widow': 71, 'Bleeding Brown Mushroom': 71, 'Apricot Fungus': 71, 'Crab-scented Russula': 71, 'Bulbous Honey Fungus': 71, 'Olive-brown Panellus': 71, 'Parrot Wax Cap': 71, 'Parasitic Bolete': 71, 'Stump Bell Cap': 71, 'Soap-scented Tricholoma': 71, 'Shaggy Ink Cap': 71, 'White Saddle': 70, 'Little Wheel Fungus': 70, 'Panther Cap': 70, 'Blackish Purple Russula': 70, 'Shallow-pored Bolete': 70, 'Common Ink Cap': 70, 'Veined Pluteus': 70, 'Cultivated Mushroom': 70, 'Horn of Plenty': 70, 'Spotted Tough Shank': 70, 'Small Brown Milk Cap': 70, 'Spruce Milk Cap': 70, 'Yellow-staining Mushroom': 70, 'Bitter Bolete': 70, 'Moss Pixy Cap': 70, 'Blackening Russula': 70, 'Brown Stew Fungus': 70, 'False Death Cap': 70, 'Spring Agaric': 70, \"Fairies' Bonnets\": 70, 'Sweet Milk Cap': 70, 'Herald of Winter': 70, 'Honey Fungus': 70, 'Cep': 70, 'Geranium-scented Russula': 70, \"Dryad's Saddle\": 70, 'The Blusher': 70, 'Common Morel': 70, 'Yellow-gilled Russula': 70, 'Brown Roll-rim': 70, 'Lilac Bell Cap': 70, 'Jelly Babies': 70, 'Orange Birch Bolete': 70, 'Small Bleeding Bell Cap': 70, 'Scarlet Hood': 70, 'Tawny Grisette': 70, 'Umbrella Navel Cap': 70, 'Fleecy Milk Cap': 70, 'Horse-hair Fungus': 70, 'Fairy Ring Champignon': 70, 'Purple Cortinarius': 70, 'Common Yellow Russula': 70, 'Woolly Milk Cap': 70, 'Field Blewit': 70, 'Yellow Wax cap': 70, 'Saffron Milk Cap': 70, 'Magic Mushroom': 70, 'Beechwood Sickener': 70, 'Fragile Russula': 70, 'Blue Leptonia': 70, 'Chanterelle': 70, 'Egg-shell Toadstool': 70, 'Two-toned Crumble Cap': 70, 'Bonnet Bell Cap': 70, 'Amethyst Deceiver': 70, 'Red-staining Inocybe': 70, 'Brown Bell Cap': 70, 'Silky Nolanea': 70, 'Milky Bell Cap': 70, \"Elfin's Saddle\": 70, 'Common Funnel Cap': 70, 'Scaly Tricholoma': 70, 'Russet Tough Shank': 70, 'Egg Yolk Fungus': 70, 'Rusty Wood Rotter': 70, 'Orange-red Wax Cap': 70, 'Orange Moss Agaric': 70, 'Fuzzy Polypore': 70, 'Hairy Stereum': 69, 'Soft Slipper Toadstool': 60, 'Silver Leaf Fungus': 52})\n"
     ]
    }
   ],
   "source": [
    "from collections import Counter\n",
    "\n",
    "print(\"Label distribution:\", Counter(y_val))"
   ]
  },
  {
   "cell_type": "code",
   "execution_count": 113,
   "metadata": {},
   "outputs": [],
   "source": [
    "# from sklearn.preprocessing import label_binarize\n",
    "\n",
    "# # Binarize the labels\n",
    "# classes = np.unique(y_val)\n",
    "# y_val_bin = label_binarize(y_val, classes=classes)\n",
    "\n",
    "# # Calculate ROC curve for each class\n",
    "# for i in range(len(classes)):\n",
    "#     fpr, tpr, _ = roc_curve(y_val_bin[:, i], y_pred[:, i])\n",
    "#     roc_auc = auc(fpr, tpr)\n",
    "\n",
    "# # plot ROC curve\n",
    "# plt.plot(fpr, tpr, label=\"ROC curve (area = %0.2f)\" % roc_auc)\n"
   ]
  },
  {
   "cell_type": "markdown",
   "metadata": {},
   "source": [
    "## Decision Tree"
   ]
  },
  {
   "cell_type": "code",
   "execution_count": 114,
   "metadata": {},
   "outputs": [],
   "source": [
    "from sklearn.tree import DecisionTreeClassifier\n",
    "\n",
    "dv = DictVectorizer(sparse=True)\n",
    "\n",
    "train_dict = df_train[cat_features + num_features].to_dict(orient=\"records\")\n",
    "X_train = dv.fit_transform(train_dict)\n",
    "\n",
    "val_dict = df_val[cat_features + num_features].to_dict(orient=\"records\")\n",
    "X_val = dv.transform(val_dict)\n",
    "\n",
    "dt_1 = DecisionTreeClassifier(\n",
    "    #    criterion=\"entropy\",\n",
    "    #    splitter=\"best\",\n",
    "    max_depth=3,\n",
    "    #    min_samples_split=2,\n",
    "    #    min_samples_leaf=1,\n",
    "    #    min_weight_fraction_leaf=0.0,\n",
    "    #    max_features=None,\n",
    "    random_state=42,\n",
    "    #    max_leaf_nodes=None,\n",
    "    #    min_impurity_decrease=0.0,\n",
    "    #    class_weight=None,\n",
    "    #    ccp_alpha=0.0,\n",
    ")\n",
    "\n",
    "dt_1.fit(X_train, y_train)\n",
    "y_pred = dt_1.predict_proba(X_val)[:, 1]"
   ]
  },
  {
   "cell_type": "code",
   "execution_count": 115,
   "metadata": {},
   "outputs": [
    {
     "name": "stdout",
     "output_type": "stream",
     "text": [
      "acc:   0.02306\n"
     ]
    }
   ],
   "source": [
    "# score = y_pred >= 0.5\n",
    "predicted_labels = dt_1.predict(X_val)\n",
    "acc_DecisionTree_model_1 = round(accuracy_score(y_val, predicted_labels), 5)\n",
    "print(\"acc:  \", acc_DecisionTree_model_1)"
   ]
  },
  {
   "cell_type": "markdown",
   "metadata": {},
   "source": [
    "??? Why? I don`t understand ATM"
   ]
  },
  {
   "cell_type": "code",
   "execution_count": 116,
   "metadata": {},
   "outputs": [
    {
     "name": "stdout",
     "output_type": "stream",
     "text": [
      "roc:   0.6538\n"
     ]
    }
   ],
   "source": [
    "y_pred = dt_1.predict_proba(X_val)\n",
    "roc_DecisionTree_model_1 = round(roc_auc_score(y_val, y_pred, multi_class=\"ovr\"), 5)\n",
    "print(\"roc:  \", roc_DecisionTree_model_1)"
   ]
  },
  {
   "cell_type": "code",
   "execution_count": 117,
   "metadata": {},
   "outputs": [
    {
     "name": "stdout",
     "output_type": "stream",
     "text": [
      "   1 -> 0.506\n",
      "   2 -> 0.511\n",
      "   3 -> 0.654\n",
      "   4 -> 0.777\n",
      "   5 -> 0.805\n",
      "   6 -> 0.876\n",
      "  10 -> 0.942\n",
      "  15 -> 0.982\n",
      "  20 -> 0.993\n",
      "None -> 0.989\n"
     ]
    }
   ],
   "source": [
    "for depth in [1, 2, 3, 4, 5, 6, 10, 15, 20, None]:\n",
    "    dt_2 = DecisionTreeClassifier(max_depth=depth)\n",
    "\n",
    "    dt_2.fit(X_train, y_train)\n",
    "    y_pred = dt_2.predict_proba(X_val)\n",
    "    auc = roc_auc_score(y_val, y_pred, multi_class=\"ovr\")\n",
    "\n",
    "    print(\"%4s -> %.3f\" % (depth, auc))\n"
   ]
  },
  {
   "cell_type": "code",
   "execution_count": 118,
   "metadata": {},
   "outputs": [
    {
     "name": "stdout",
     "output_type": "stream",
     "text": [
      "depth: 5\n",
      "   1 -> 0.805\n",
      "   5 -> 0.805\n",
      "  10 -> 0.805\n",
      "  15 -> 0.805\n",
      "  20 -> 0.805\n",
      "  50 -> 0.805\n",
      " 100 -> 0.805\n",
      "depth: 10\n",
      "   1 -> 0.942\n",
      "   5 -> 0.942\n",
      "  10 -> 0.942\n",
      "  15 -> 0.942\n",
      "  20 -> 0.942\n",
      "  50 -> 0.942\n",
      " 100 -> 0.942\n",
      "depth: 15\n",
      "   1 -> 0.982\n",
      "   5 -> 0.982\n",
      "  10 -> 0.982\n",
      "  15 -> 0.982\n",
      "  20 -> 0.982\n",
      "  50 -> 0.982\n",
      " 100 -> 0.982\n"
     ]
    }
   ],
   "source": [
    "for depth in [5, 10, 15]:\n",
    "    print(\"depth: %s\" % depth)\n",
    "    for min_samples in [1, 5, 10, 15, 20, 50, 100]:\n",
    "        dt_2 = DecisionTreeClassifier(max_depth=depth, min_samples_leaf=min_samples)\n",
    "\n",
    "        dt_2.fit(X_train, y_train)\n",
    "        y_pred = dt_2.predict_proba(X_val)\n",
    "        auc = roc_auc_score(y_val, y_pred, multi_class=\"ovr\")\n",
    "\n",
    "        print(\"%4s -> %.3f\" % (min_samples, auc))\n"
   ]
  },
  {
   "cell_type": "markdown",
   "metadata": {},
   "source": [
    "Doesn't change anything."
   ]
  },
  {
   "cell_type": "code",
   "execution_count": 119,
   "metadata": {},
   "outputs": [
    {
     "data": {
      "text/plain": [
       "0.942402398443662"
      ]
     },
     "execution_count": 119,
     "metadata": {},
     "output_type": "execute_result"
    }
   ],
   "source": [
    "dt_3 = DecisionTreeClassifier(max_depth=10, min_samples_leaf=10)\n",
    "\n",
    "dt_3.fit(X_train, y_train)\n",
    "\n",
    "y_pred = dt_3.predict_proba(X_val)\n",
    "auc = roc_auc_score(y_val, y_pred, multi_class=\"ovr\")\n",
    "auc"
   ]
  },
  {
   "cell_type": "markdown",
   "metadata": {},
   "source": [
    "## Random Forest"
   ]
  },
  {
   "cell_type": "code",
   "execution_count": 120,
   "metadata": {},
   "outputs": [],
   "source": [
    "from sklearn.ensemble import RandomForestClassifier\n",
    "\n",
    "dv = DictVectorizer(sparse=True)\n",
    "\n",
    "train_dict = df_train[cat_features + num_features].to_dict(orient=\"records\")\n",
    "X_train = dv.fit_transform(train_dict)\n",
    "\n",
    "val_dict = df_val[cat_features + num_features].to_dict(orient=\"records\")\n",
    "X_val = dv.transform(val_dict)\n",
    "\n",
    "rf_1 = RandomForestClassifier(\n",
    "    n_estimators=3,\n",
    "    #    criterion=\"gini\",\n",
    "    #    max_depth=None,\n",
    "    #    min_samples_split=2,\n",
    "    #    min_samples_leaf=1,\n",
    "    #    min_weight_fraction_leaf=0.0,\n",
    "    #    max_features=\"auto\",\n",
    "    #    max_leaf_nodes=None,\n",
    "    #    min_impurity_decrease=0.0,\n",
    "    #    bootstrap=True,\n",
    "    #    oob_score=False,\n",
    "    n_jobs=-1,\n",
    "    random_state=42,\n",
    "    #    verbose=0,\n",
    "    #    warm_start=False,\n",
    "    #    class_weight=None,\n",
    "    #    ccp_alpha=0.0,\n",
    "    #    max_samples=None,\n",
    ")\n",
    "\n",
    "rf_1.fit(X_train, y_train)\n",
    "\n",
    "y_pred = rf_1.predict_proba(X_val)"
   ]
  },
  {
   "cell_type": "code",
   "execution_count": 121,
   "metadata": {},
   "outputs": [],
   "source": [
    "# score = y_pred >= 0.5\n",
    "\n",
    "# acc_RandomForest_model_1 = round(accuracy_score(y_val, y_pred), 5)\n",
    "# print(\"acc:  \", acc_RandomForest_model_1)"
   ]
  },
  {
   "cell_type": "code",
   "execution_count": 122,
   "metadata": {},
   "outputs": [
    {
     "name": "stdout",
     "output_type": "stream",
     "text": [
      "roc:   0.99681\n"
     ]
    }
   ],
   "source": [
    "roc_RandomForest_model_1 = round(roc_auc_score(y_val, y_pred, multi_class=\"ovr\"), 5)\n",
    "print(\"roc:  \", roc_RandomForest_model_1)"
   ]
  },
  {
   "cell_type": "code",
   "execution_count": 123,
   "metadata": {},
   "outputs": [
    {
     "name": "stdout",
     "output_type": "stream",
     "text": [
      "depth: 1\n",
      "10 -> 0.761\n",
      "20 -> 0.914\n",
      "30 -> 0.958\n",
      "40 -> 0.971\n",
      "50 -> 0.982\n",
      "60 -> 0.982\n",
      "70 -> 0.984\n",
      "80 -> 0.985\n",
      "90 -> 0.985\n",
      "100 -> 0.985\n",
      "110 -> 0.986\n",
      "120 -> 0.986\n",
      "130 -> 0.986\n",
      "140 -> 0.986\n",
      "150 -> 0.989\n",
      "\n",
      "depth: 3\n",
      "10 -> 0.974\n",
      "20 -> 0.986\n",
      "30 -> 0.988\n",
      "40 -> 0.989\n",
      "50 -> 0.992\n",
      "60 -> 0.993\n",
      "70 -> 0.994\n",
      "80 -> 0.994\n",
      "90 -> 0.995\n",
      "100 -> 0.995\n",
      "110 -> 0.995\n",
      "120 -> 0.995\n",
      "130 -> 0.995\n",
      "140 -> 0.995\n",
      "150 -> 0.996\n",
      "\n",
      "depth: 5\n",
      "10 -> 0.994\n",
      "20 -> 0.996\n",
      "30 -> 0.997\n",
      "40 -> 0.997\n",
      "50 -> 0.998\n",
      "60 -> 0.998\n",
      "70 -> 0.998\n",
      "80 -> 0.998\n",
      "90 -> 0.998\n",
      "100 -> 0.998\n",
      "110 -> 0.998\n",
      "120 -> 0.998\n",
      "130 -> 0.998\n",
      "140 -> 0.998\n",
      "150 -> 0.998\n",
      "\n",
      "depth: 10\n",
      "10 -> 0.999\n",
      "20 -> 0.999\n",
      "30 -> 1.000\n",
      "40 -> 1.000\n",
      "50 -> 1.000\n",
      "60 -> 1.000\n",
      "70 -> 1.000\n",
      "80 -> 1.000\n",
      "90 -> 1.000\n",
      "100 -> 1.000\n",
      "110 -> 1.000\n",
      "120 -> 1.000\n",
      "130 -> 1.000\n",
      "140 -> 1.000\n",
      "150 -> 1.000\n",
      "\n"
     ]
    },
    {
     "data": {
      "text/plain": [
       "<matplotlib.legend.Legend at 0x30ceebf50>"
      ]
     },
     "execution_count": 123,
     "metadata": {},
     "output_type": "execute_result"
    },
    {
     "data": {
      "image/png": "[encoded data removed]",
      "text/plain": [
       "<Figure size 640x480 with 1 Axes>"
      ]
     },
     "metadata": {},
     "output_type": "display_data"
    }
   ],
   "source": [
    "auc_scores = {}\n",
    "\n",
    "for depth in [1, 3, 5, 10]:\n",
    "    print(\"depth: %s\" % depth)\n",
    "    aucs = []\n",
    "\n",
    "    for i in range(10, 151, 10):\n",
    "        rf = RandomForestClassifier(\n",
    "            n_estimators=i, max_depth=depth, random_state=1, n_jobs=-1\n",
    "        )\n",
    "        rf.fit(X_train, y_train)\n",
    "        y_pred = rf.predict_proba(X_val)\n",
    "        auc = roc_auc_score(y_val, y_pred, multi_class=\"ovr\")\n",
    "        print(\"%s -> %.3f\" % (i, auc))\n",
    "        aucs.append(auc)\n",
    "\n",
    "    auc_scores[depth] = aucs\n",
    "    print()\n",
    "\n",
    "num_trees = list(range(10, 151, 10))\n",
    "plt.plot(num_trees, auc_scores[1], label=\"depth=1\")\n",
    "plt.plot(num_trees, auc_scores[3], label=\"depth=3\")\n",
    "plt.plot(num_trees, auc_scores[5], label=\"depth=5\")\n",
    "plt.plot(num_trees, auc_scores[10], label=\"depth=10\")\n",
    "plt.legend()"
   ]
  },
  {
   "cell_type": "code",
   "execution_count": 124,
   "metadata": {},
   "outputs": [
    {
     "name": "stdout",
     "output_type": "stream",
     "text": [
      "min_samples: 3\n",
      "10 -> 0.994\n",
      "20 -> 0.996\n",
      "30 -> 0.997\n",
      "40 -> 0.997\n",
      "50 -> 0.998\n",
      "60 -> 0.998\n",
      "70 -> 0.998\n",
      "80 -> 0.998\n",
      "90 -> 0.998\n",
      "100 -> 0.998\n",
      "110 -> 0.998\n",
      "120 -> 0.998\n",
      "130 -> 0.998\n",
      "140 -> 0.998\n",
      "150 -> 0.998\n",
      "\n",
      "min_samples: 5\n",
      "10 -> 0.991\n",
      "20 -> 0.996\n",
      "30 -> 0.997\n",
      "40 -> 0.997\n",
      "50 -> 0.998\n",
      "60 -> 0.998\n",
      "70 -> 0.998\n",
      "80 -> 0.998\n",
      "90 -> 0.998\n",
      "100 -> 0.998\n",
      "110 -> 0.998\n",
      "120 -> 0.998\n",
      "130 -> 0.998\n",
      "140 -> 0.998\n",
      "150 -> 0.998\n",
      "\n",
      "min_samples: 10\n",
      "10 -> 0.991\n",
      "20 -> 0.995\n",
      "30 -> 0.997\n",
      "40 -> 0.997\n",
      "50 -> 0.998\n",
      "60 -> 0.998\n",
      "70 -> 0.998\n",
      "80 -> 0.998\n",
      "90 -> 0.998\n",
      "100 -> 0.998\n",
      "110 -> 0.998\n",
      "120 -> 0.998\n",
      "130 -> 0.998\n",
      "140 -> 0.998\n",
      "150 -> 0.998\n",
      "\n"
     ]
    },
    {
     "data": {
      "text/plain": [
       "<matplotlib.legend.Legend at 0x30cdeb9d0>"
      ]
     },
     "execution_count": 124,
     "metadata": {},
     "output_type": "execute_result"
    },
    {
     "data": {
      "image/png": "[encoded data removed]",
      "text/plain": [
       "<Figure size 640x480 with 1 Axes>"
      ]
     },
     "metadata": {},
     "output_type": "display_data"
    }
   ],
   "source": [
    "auc_scores = {}\n",
    "\n",
    "for min_samples in [3, 5, 10]:\n",
    "    print(\"min_samples: %s\" % min_samples)\n",
    "    aucs = []\n",
    "\n",
    "    for i in range(10, 151, 10):\n",
    "        rf = RandomForestClassifier(\n",
    "            n_estimators=i,\n",
    "            max_depth=5,\n",
    "            min_samples_leaf=min_samples,\n",
    "            random_state=1,\n",
    "            n_jobs=-1,\n",
    "        )\n",
    "        rf.fit(X_train, y_train)\n",
    "        y_pred = rf.predict_proba(X_val)\n",
    "        auc = roc_auc_score(y_val, y_pred, multi_class=\"ovr\")\n",
    "        print(\"%s -> %.3f\" % (i, auc))\n",
    "        aucs.append(auc)\n",
    "\n",
    "    auc_scores[min_samples] = aucs\n",
    "    print()\n",
    "\n",
    "num_trees = list(range(10, 151, 10))\n",
    "plt.plot(num_trees, auc_scores[3], label=\"min_samples_leaf=3\")\n",
    "plt.plot(num_trees, auc_scores[5], label=\"min_samples_leaf=5\")\n",
    "plt.plot(num_trees, auc_scores[10], label=\"min_samples_leaf=10\")\n",
    "plt.legend()\n"
   ]
  },
  {
   "cell_type": "markdown",
   "metadata": {},
   "source": [
    "Does not make any difference."
   ]
  },
  {
   "cell_type": "markdown",
   "metadata": {},
   "source": [
    "### Best model"
   ]
  },
  {
   "cell_type": "markdown",
   "metadata": {},
   "source": [
    "## Gradient Boosting Out-of-Bag estimates"
   ]
  },
  {
   "cell_type": "code",
   "execution_count": 125,
   "metadata": {},
   "outputs": [],
   "source": [
    "from scipy.special import expit"
   ]
  },
  {
   "cell_type": "code",
   "execution_count": 126,
   "metadata": {},
   "outputs": [],
   "source": [
    "from sklearn import ensemble\n",
    "from sklearn.metrics import log_loss\n",
    "from sklearn.model_selection import KFold, train_test_split"
   ]
  },
  {
   "cell_type": "code",
   "execution_count": null,
   "metadata": {},
   "outputs": [],
   "source": [
    "# y_train = y_train.ravel()"
   ]
  },
  {
   "cell_type": "code",
   "execution_count": null,
   "metadata": {},
   "outputs": [],
   "source": [
    "params = {\n",
    "    \"n_estimators\": 1200,\n",
    "    \"max_depth\": 3,\n",
    "    \"subsample\": 0.5,\n",
    "    \"learning_rate\": 0.01,\n",
    "    \"min_samples_leaf\": 1,\n",
    "    \"random_state\": 42,\n",
    "}\n",
    "clf = ensemble.GradientBoostingClassifier(**params)\n",
    "\n",
    "clf.fit(X_train, y_train)\n",
    "acc = clf.score(X_test, y_test)\n",
    "print(\"Accuracy: {:.4f}\".format(acc))\n",
    "\n",
    "n_estimators = params[\"n_estimators\"]\n",
    "x = np.arange(n_estimators) + 1\n",
    "\n",
    "def heldout_score(clf, X_test, y_test):\n",
    "    \"\"\"compute deviance scores on ``X_test`` and ``y_test``.\"\"\"\n",
    "    score = np.zeros((n_estimators,), dtype=np.float64)\n",
    "    for i, y_proba in enumerate(clf.staged_predict_proba(X_test)):\n",
    "        score[i] = 2 * log_loss(y_test, y_proba[:, 1])\n",
    "    return score\n",
    "\n",
    "def cv_estimate(n_splits=None):\n",
    "    cv = KFold(n_splits=n_splits)\n",
    "    cv_clf = ensemble.GradientBoostingClassifier(**params)\n",
    "    val_scores = np.zeros((n_estimators,), dtype=np.float64)\n",
    "    \n",
    "    for train, test in cv.split(X_train, y_train):\n",
    "        cv_clf.fit(X_train.iloc[train], y_train.iloc[train])\n",
    "        val_scores += heldout_score(cv_clf, X_train.iloc[test], y_train.iloc[test])\n",
    "    val_scores /= n_splits\n",
    "    return val_scores\n",
    "\n",
    "# Estimate best n_estimator using cross-validation\n",
    "cv_score = cv_estimate(3)\n",
    "\n",
    "# Compute best n_estimator for test data\n",
    "test_score = heldout_score(clf, X_test, y_test)\n",
    "\n",
    "# negative cumulative sum of oob improvements\n",
    "cumsum = -np.cumsum(clf.oob_improvement_)\n",
    "\n",
    "# min loss according to OOB\n",
    "oob_best_iter = x[np.argmin(cumsum)]\n",
    "\n",
    "# min loss according to test (normalize such that first loss is 0)\n",
    "test_score -= test_score[0]\n",
    "test_best_iter = x[np.argmin(test_score)]\n",
    "\n",
    "# min loss according to cv (normalize such that first loss is 0)\n",
    "cv_score -= cv_score[0]\n",
    "cv_best_iter = x[np.argmin(cv_score)]\n",
    "\n",
    "# color brew for the three curves\n",
    "oob_color = list(map(lambda x: x / 256.0, (190, 174, 212)))\n",
    "test_color = list(map(lambda x: x / 256.0, (127, 201, 127)))\n",
    "cv_color = list(map(lambda x: x / 256.0, (253, 192, 134)))\n",
    "\n",
    "# line type for the three curves\n",
    "oob_line = \"dashed\"\n",
    "test_line = \"solid\"\n",
    "cv_line = \"dashdot\"\n",
    "\n",
    "# plot curves and vertical lines for best iterations\n",
    "plt.figure(figsize=(8, 4.8))\n",
    "plt.plot(x, cumsum, label=\"OOB loss\", color=oob_color, linestyle=oob_line)\n",
    "plt.plot(x, test_score, label=\"Test loss\", color=test_color, linestyle=test_line)\n",
    "plt.plot(x, cv_score, label=\"CV loss\", color=cv_color, linestyle=cv_line)\n",
    "plt.axvline(x=oob_best_iter, color=oob_color, linestyle=oob_line)\n",
    "plt.axvline(x=test_best_iter, color=test_color, linestyle=test_line)\n",
    "plt.axvline(x=cv_best_iter, color=cv_color, linestyle=cv_line)\n",
    "\n",
    "# add three vertical lines to xticks\n",
    "xticks = plt.xticks()\n",
    "xticks_pos = np.array(\n",
    "    xticks[0].tolist() + [oob_best_iter, cv_best_iter, test_best_iter]\n",
    ")\n",
    "xticks_label = np.array(list(map(lambda t: int(t), xticks[0])) + [\"OOB\", \"CV\", \"Test\"])\n",
    "ind = np.argsort(xticks_pos)\n",
    "xticks_pos = xticks_pos[ind]\n",
    "xticks_label = xticks_label[ind]\n",
    "plt.xticks(xticks_pos, xticks_label, rotation=90)\n",
    "\n",
    "plt.legend(loc=\"upper center\")\n",
    "plt.ylabel(\"normalized loss\")\n",
    "plt.xlabel(\"number of iterations\")\n",
    "\n",
    "plt.show();"
   ]
  },
  {
   "cell_type": "markdown",
   "metadata": {},
   "source": []
  },
  {
   "cell_type": "markdown",
   "metadata": {},
   "source": [
    "## Gradient Boosting regression"
   ]
  },
  {
   "cell_type": "markdown",
   "metadata": {},
   "source": [
    "## XGBoost"
   ]
  },
  {
   "cell_type": "code",
   "execution_count": 138,
   "metadata": {},
   "outputs": [
    {
     "data": {
      "text/plain": [
       "name                      object\n",
       "cap-diameter             float64\n",
       "cap-shape               category\n",
       "cap-color               category\n",
       "does-bruise-or-bleed    category\n",
       "gill-color              category\n",
       "stem-height              float64\n",
       "stem-width               float64\n",
       "stem-color              category\n",
       "has-ring                category\n",
       "habitat                 category\n",
       "season                  category\n",
       "dtype: object"
      ]
     },
     "execution_count": 138,
     "metadata": {},
     "output_type": "execute_result"
    }
   ],
   "source": [
    "df_no_missing[cat_features] = df_no_missing[cat_features].astype(\"category\")\n",
    "df_no_missing.dtypes"
   ]
  },
  {
   "cell_type": "code",
   "execution_count": 140,
   "metadata": {},
   "outputs": [],
   "source": [
    "df_full_train, df_test = train_test_split(\n",
    "    df_no_missing, test_size=0.2, random_state=42, stratify=df_no_missing[\"name\"]\n",
    ")\n",
    "df_train, df_val = train_test_split(\n",
    "    df_full_train, test_size=0.25, random_state=42, stratify=df_full_train[\"name\"]\n",
    ")\n",
    "df_train = df_train.reset_index(drop=True)\n",
    "df_val = df_val.reset_index(drop=True)\n",
    "df_test = df_test.reset_index(drop=True)\n",
    "\n",
    "y_train = (df_train.name).values\n",
    "y_val = (df_val.name).values\n",
    "y_test = (df_test.name).values\n",
    "\n",
    "del df_train[\"name\"]\n",
    "del df_val[\"name\"]\n",
    "del df_test[\"name\"]"
   ]
  },
  {
   "cell_type": "code",
   "execution_count": 141,
   "metadata": {},
   "outputs": [
    {
     "data": {
      "text/plain": [
       "<Compressed Sparse Row sparse matrix of dtype 'float64'\n",
       "\twith 402028 stored elements and shape (36548, 63)>"
      ]
     },
     "execution_count": 141,
     "metadata": {},
     "output_type": "execute_result"
    }
   ],
   "source": [
    "X_train"
   ]
  },
  {
   "cell_type": "code",
   "execution_count": 144,
   "metadata": {},
   "outputs": [
    {
     "name": "stdout",
     "output_type": "stream",
     "text": [
      "Accuracy: 0.1208\n",
      "Roc Auc: 0.8955\n"
     ]
    }
   ],
   "source": [
    "import xgboost as xgb\n",
    "from sklearn.preprocessing import LabelEncoder\n",
    "\n",
    "# Encode the target labels as integers\n",
    "label_encoder = LabelEncoder()\n",
    "y_train_encoded = label_encoder.fit_transform(y_train)\n",
    "y_test_encoded = label_encoder.transform(y_test)\n",
    "\n",
    "\n",
    "params = {\n",
    "    \"n_estimators\": 1200,\n",
    "    \"max_depth\": 3,\n",
    "    \"subsample\": 0.5,\n",
    "    \"learning_rate\": 0.2,\n",
    "    \"min_child_weight\": 1,\n",
    "    \"random_state\": 42,\n",
    "    \"enable_categorical\": True,\n",
    "#    \"tree_method\": \"gpu_hist\",  # Use GPU acceleration\n",
    "#    \"predictor\": \"gpu_predictor\"  # Use GPU for prediction\n",
    "}\n",
    "\n",
    "xgboost = xgb.XGBClassifier(**params)\n",
    "\n",
    "# Fit the model\n",
    "xgboost.fit(X_train, y_train_encoded)\n",
    "\n",
    "# Evaluate accuracy\n",
    "acc = xgboost.score(X_test, y_test_encoded)\n",
    "print(\"Accuracy: {:.4f}\".format(acc))\n",
    "\n",
    "# Roc Auc\n",
    "roc_auc = roc_auc_score(y_test_encoded, xgboost.predict_proba(X_test), multi_class=\"ovr\")\n",
    "print(\"Roc Auc: {:.4f}\".format(roc_auc))"
   ]
  },
  {
   "cell_type": "code",
   "execution_count": 88,
   "metadata": {},
   "outputs": [
    {
     "data": {
      "text/plain": [
       "'2.1.2'"
      ]
     },
     "execution_count": 88,
     "metadata": {},
     "output_type": "execute_result"
    }
   ],
   "source": [
    "xgb.__version__"
   ]
  },
  {
   "cell_type": "markdown",
   "metadata": {},
   "source": [
    "### Grid search"
   ]
  },
  {
   "cell_type": "markdown",
   "metadata": {},
   "source": [
    "<div class=\"alert alert-block alert-danger\">\n",
    "<b>ATTENTION:</b>  <br> This is a very time-consuming process. It is recommended to run this on a machine with a lot of computational power. <br> Took 7 h on MacBook Pro 13\" M1, 2020 16 GB\n",
    "</div>"
   ]
  },
  {
   "cell_type": "code",
   "execution_count": null,
   "metadata": {},
   "outputs": [
    {
     "name": "stdout",
     "output_type": "stream",
     "text": [
      "Fitting 3 folds for each of 192 candidates, totalling 576 fits\n",
      "[CV] END learning_rate=0.01, max_depth=2, min_child_weight=1, n_estimators=300, subsample=0.8; total time= 3.0min\n",
      "[CV] END learning_rate=0.01, max_depth=2, min_child_weight=1, n_estimators=300, subsample=0.8; total time= 3.0min\n",
      "[CV] END learning_rate=0.01, max_depth=2, min_child_weight=1, n_estimators=300, subsample=0.8; total time= 3.0min\n",
      "[CV] END learning_rate=0.01, max_depth=2, min_child_weight=1, n_estimators=300, subsample=0.5; total time= 3.0min\n",
      "[CV] END learning_rate=0.01, max_depth=2, min_child_weight=1, n_estimators=300, subsample=0.5; total time= 3.1min\n",
      "[CV] END learning_rate=0.01, max_depth=2, min_child_weight=1, n_estimators=300, subsample=0.5; total time= 3.1min\n",
      "[CV] END learning_rate=0.01, max_depth=2, min_child_weight=1, n_estimators=500, subsample=0.5; total time= 4.9min\n",
      "[CV] END learning_rate=0.01, max_depth=2, min_child_weight=1, n_estimators=500, subsample=0.5; total time= 4.9min\n",
      "[CV] END learning_rate=0.01, max_depth=2, min_child_weight=1, n_estimators=500, subsample=0.8; total time= 5.0min\n",
      "[CV] END learning_rate=0.01, max_depth=2, min_child_weight=1, n_estimators=500, subsample=0.8; total time= 5.0min\n",
      "[CV] END learning_rate=0.01, max_depth=2, min_child_weight=1, n_estimators=500, subsample=0.8; total time= 5.1min\n",
      "[CV] END learning_rate=0.01, max_depth=2, min_child_weight=1, n_estimators=500, subsample=0.5; total time= 5.2min\n",
      "[CV] END learning_rate=0.01, max_depth=2, min_child_weight=3, n_estimators=300, subsample=0.5; total time= 3.0min\n",
      "[CV] END learning_rate=0.01, max_depth=2, min_child_weight=3, n_estimators=300, subsample=0.5; total time= 3.1min\n",
      "[CV] END learning_rate=0.01, max_depth=2, min_child_weight=1, n_estimators=1000, subsample=0.5; total time=10.3min\n",
      "[CV] END learning_rate=0.01, max_depth=2, min_child_weight=1, n_estimators=1000, subsample=0.5; total time=10.3min\n",
      "[CV] END learning_rate=0.01, max_depth=2, min_child_weight=3, n_estimators=300, subsample=0.5; total time= 3.0min\n",
      "[CV] END learning_rate=0.01, max_depth=2, min_child_weight=3, n_estimators=300, subsample=0.8; total time= 2.9min\n",
      "[CV] END learning_rate=0.01, max_depth=2, min_child_weight=1, n_estimators=1000, subsample=0.8; total time= 9.9min\n",
      "[CV] END learning_rate=0.01, max_depth=2, min_child_weight=1, n_estimators=1000, subsample=0.5; total time=10.2min\n",
      "[CV] END learning_rate=0.01, max_depth=2, min_child_weight=3, n_estimators=300, subsample=0.8; total time= 3.0min[CV] END learning_rate=0.01, max_depth=2, min_child_weight=3, n_estimators=300, subsample=0.8; total time= 3.0min\n",
      "\n",
      "[CV] END learning_rate=0.01, max_depth=2, min_child_weight=1, n_estimators=1000, subsample=0.8; total time= 9.8min\n",
      "[CV] END learning_rate=0.01, max_depth=2, min_child_weight=1, n_estimators=1000, subsample=0.8; total time= 9.8min\n",
      "[CV] END learning_rate=0.01, max_depth=2, min_child_weight=3, n_estimators=500, subsample=0.5; total time= 5.1min\n",
      "[CV] END learning_rate=0.01, max_depth=2, min_child_weight=3, n_estimators=500, subsample=0.5; total time= 5.1min\n",
      "[CV] END learning_rate=0.01, max_depth=2, min_child_weight=3, n_estimators=500, subsample=0.5; total time= 5.1min\n",
      "[CV] END learning_rate=0.01, max_depth=2, min_child_weight=3, n_estimators=500, subsample=0.8; total time= 4.9min\n",
      "[CV] END learning_rate=0.01, max_depth=2, min_child_weight=3, n_estimators=500, subsample=0.8; total time= 4.9min\n",
      "[CV] END learning_rate=0.01, max_depth=2, min_child_weight=3, n_estimators=500, subsample=0.8; total time= 5.0min\n",
      "[CV] END learning_rate=0.01, max_depth=3, min_child_weight=1, n_estimators=300, subsample=0.5; total time= 3.2min\n",
      "[CV] END learning_rate=0.01, max_depth=3, min_child_weight=1, n_estimators=300, subsample=0.5; total time= 3.2min\n",
      "[CV] END learning_rate=0.01, max_depth=3, min_child_weight=1, n_estimators=300, subsample=0.5; total time= 3.3min\n",
      "[CV] END learning_rate=0.01, max_depth=3, min_child_weight=1, n_estimators=300, subsample=0.8; total time= 3.2min\n",
      "[CV] END learning_rate=0.01, max_depth=2, min_child_weight=3, n_estimators=1000, subsample=0.5; total time=10.1min\n",
      "[CV] END learning_rate=0.01, max_depth=2, min_child_weight=3, n_estimators=1000, subsample=0.5; total time=10.1min\n",
      "[CV] END learning_rate=0.01, max_depth=2, min_child_weight=3, n_estimators=1000, subsample=0.8; total time=10.0min\n",
      "[CV] END learning_rate=0.01, max_depth=2, min_child_weight=3, n_estimators=1000, subsample=0.5; total time=10.3min\n",
      "[CV] END learning_rate=0.01, max_depth=2, min_child_weight=3, n_estimators=1000, subsample=0.8; total time=10.0min\n",
      "[CV] END learning_rate=0.01, max_depth=2, min_child_weight=3, n_estimators=1000, subsample=0.8; total time= 9.9min\n",
      "[CV] END learning_rate=0.01, max_depth=3, min_child_weight=1, n_estimators=300, subsample=0.8; total time= 3.1min\n",
      "[CV] END learning_rate=0.01, max_depth=3, min_child_weight=1, n_estimators=300, subsample=0.8; total time= 3.1min\n",
      "[CV] END learning_rate=0.01, max_depth=3, min_child_weight=1, n_estimators=500, subsample=0.5; total time= 5.2min\n",
      "[CV] END learning_rate=0.01, max_depth=3, min_child_weight=1, n_estimators=500, subsample=0.5; total time= 5.3min\n",
      "[CV] END learning_rate=0.01, max_depth=3, min_child_weight=1, n_estimators=500, subsample=0.5; total time= 5.4min\n",
      "[CV] END learning_rate=0.01, max_depth=3, min_child_weight=1, n_estimators=500, subsample=0.8; total time= 5.2min\n",
      "[CV] END learning_rate=0.01, max_depth=3, min_child_weight=1, n_estimators=500, subsample=0.8; total time= 5.2min\n",
      "[CV] END learning_rate=0.01, max_depth=3, min_child_weight=1, n_estimators=500, subsample=0.8; total time= 5.2min\n",
      "[CV] END learning_rate=0.01, max_depth=3, min_child_weight=3, n_estimators=300, subsample=0.5; total time= 3.1min\n",
      "[CV] END learning_rate=0.01, max_depth=3, min_child_weight=3, n_estimators=300, subsample=0.5; total time= 3.2min\n",
      "[CV] END learning_rate=0.01, max_depth=3, min_child_weight=3, n_estimators=300, subsample=0.5; total time= 3.2min\n",
      "[CV] END learning_rate=0.01, max_depth=3, min_child_weight=1, n_estimators=1000, subsample=0.5; total time=10.7min\n",
      "[CV] END learning_rate=0.01, max_depth=3, min_child_weight=1, n_estimators=1000, subsample=0.5; total time=10.7min\n",
      "[CV] END learning_rate=0.01, max_depth=3, min_child_weight=3, n_estimators=300, subsample=0.8; total time= 3.1min\n",
      "[CV] END learning_rate=0.01, max_depth=3, min_child_weight=1, n_estimators=1000, subsample=0.8; total time=10.5min\n",
      "[CV] END learning_rate=0.01, max_depth=3, min_child_weight=1, n_estimators=1000, subsample=0.5; total time=10.8min\n",
      "[CV] END learning_rate=0.01, max_depth=3, min_child_weight=3, n_estimators=300, subsample=0.8; total time= 3.0min\n",
      "[CV] END learning_rate=0.01, max_depth=3, min_child_weight=3, n_estimators=300, subsample=0.8; total time= 3.1min\n",
      "[CV] END learning_rate=0.01, max_depth=3, min_child_weight=1, n_estimators=1000, subsample=0.8; total time=10.5min\n",
      "[CV] END learning_rate=0.01, max_depth=3, min_child_weight=1, n_estimators=1000, subsample=0.8; total time=10.4min\n",
      "[CV] END learning_rate=0.01, max_depth=3, min_child_weight=3, n_estimators=500, subsample=0.5; total time= 5.2min\n",
      "[CV] END learning_rate=0.01, max_depth=3, min_child_weight=3, n_estimators=500, subsample=0.5; total time= 5.1min\n",
      "[CV] END learning_rate=0.01, max_depth=3, min_child_weight=3, n_estimators=500, subsample=0.5; total time= 5.3min\n",
      "[CV] END learning_rate=0.01, max_depth=3, min_child_weight=3, n_estimators=500, subsample=0.8; total time= 5.2min\n",
      "[CV] END learning_rate=0.01, max_depth=3, min_child_weight=3, n_estimators=500, subsample=0.8; total time= 5.3min\n",
      "[CV] END learning_rate=0.01, max_depth=3, min_child_weight=3, n_estimators=500, subsample=0.8; total time= 5.3min\n",
      "[CV] END learning_rate=0.01, max_depth=5, min_child_weight=1, n_estimators=300, subsample=0.5; total time= 3.4min\n",
      "[CV] END learning_rate=0.01, max_depth=5, min_child_weight=1, n_estimators=300, subsample=0.5; total time= 3.5min\n",
      "[CV] END learning_rate=0.01, max_depth=3, min_child_weight=3, n_estimators=1000, subsample=0.5; total time=10.6min\n",
      "[CV] END learning_rate=0.01, max_depth=3, min_child_weight=3, n_estimators=1000, subsample=0.5; total time=10.6min\n",
      "[CV] END learning_rate=0.01, max_depth=5, min_child_weight=1, n_estimators=300, subsample=0.5; total time= 3.5min\n",
      "[CV] END learning_rate=0.01, max_depth=5, min_child_weight=1, n_estimators=300, subsample=0.8; total time= 3.5min\n",
      "[CV] END learning_rate=0.01, max_depth=3, min_child_weight=3, n_estimators=1000, subsample=0.8; total time=10.7min\n",
      "[CV] END learning_rate=0.01, max_depth=3, min_child_weight=3, n_estimators=1000, subsample=0.5; total time=10.7min\n",
      "[CV] END learning_rate=0.01, max_depth=5, min_child_weight=1, n_estimators=300, subsample=0.8; total time= 3.6min\n",
      "[CV] END learning_rate=0.01, max_depth=5, min_child_weight=1, n_estimators=300, subsample=0.8; total time= 3.6min\n",
      "[CV] END learning_rate=0.01, max_depth=3, min_child_weight=3, n_estimators=1000, subsample=0.8; total time=10.4min\n",
      "[CV] END learning_rate=0.01, max_depth=3, min_child_weight=3, n_estimators=1000, subsample=0.8; total time=10.3min\n",
      "[CV] END learning_rate=0.01, max_depth=5, min_child_weight=1, n_estimators=500, subsample=0.5; total time= 6.0min\n",
      "[CV] END learning_rate=0.01, max_depth=5, min_child_weight=1, n_estimators=500, subsample=0.5; total time= 6.1min\n",
      "[CV] END learning_rate=0.01, max_depth=5, min_child_weight=1, n_estimators=500, subsample=0.5; total time= 6.0min\n",
      "[CV] END learning_rate=0.01, max_depth=5, min_child_weight=1, n_estimators=500, subsample=0.8; total time= 6.0min\n",
      "[CV] END learning_rate=0.01, max_depth=5, min_child_weight=1, n_estimators=500, subsample=0.8; total time= 5.9min\n",
      "[CV] END learning_rate=0.01, max_depth=5, min_child_weight=1, n_estimators=500, subsample=0.8; total time= 6.0min\n",
      "[CV] END learning_rate=0.01, max_depth=5, min_child_weight=3, n_estimators=300, subsample=0.5; total time= 3.5min\n",
      "[CV] END learning_rate=0.01, max_depth=5, min_child_weight=3, n_estimators=300, subsample=0.5; total time= 3.6min\n",
      "[CV] END learning_rate=0.01, max_depth=5, min_child_weight=1, n_estimators=1000, subsample=0.5; total time=11.4min\n",
      "[CV] END learning_rate=0.01, max_depth=5, min_child_weight=1, n_estimators=1000, subsample=0.5; total time=11.4min\n",
      "[CV] END learning_rate=0.01, max_depth=5, min_child_weight=3, n_estimators=300, subsample=0.5; total time= 3.4min\n",
      "[CV] END learning_rate=0.01, max_depth=5, min_child_weight=3, n_estimators=300, subsample=0.8; total time= 3.5min\n",
      "[CV] END learning_rate=0.01, max_depth=5, min_child_weight=3, n_estimators=300, subsample=0.8; total time= 3.6min\n",
      "[CV] END learning_rate=0.01, max_depth=5, min_child_weight=1, n_estimators=1000, subsample=0.5; total time=11.9min\n",
      "[CV] END learning_rate=0.01, max_depth=5, min_child_weight=3, n_estimators=300, subsample=0.8; total time= 3.7min\n",
      "[CV] END learning_rate=0.01, max_depth=5, min_child_weight=1, n_estimators=1000, subsample=0.8; total time=11.7min\n",
      "[CV] END learning_rate=0.01, max_depth=5, min_child_weight=1, n_estimators=1000, subsample=0.8; total time=11.7min\n",
      "[CV] END learning_rate=0.01, max_depth=5, min_child_weight=1, n_estimators=1000, subsample=0.8; total time=11.8min\n",
      "[CV] END learning_rate=0.01, max_depth=5, min_child_weight=3, n_estimators=500, subsample=0.5; total time= 6.1min\n",
      "[CV] END learning_rate=0.01, max_depth=5, min_child_weight=3, n_estimators=500, subsample=0.5; total time= 6.3min\n",
      "[CV] END learning_rate=0.01, max_depth=5, min_child_weight=3, n_estimators=500, subsample=0.8; total time= 5.8min\n",
      "[CV] END learning_rate=0.01, max_depth=5, min_child_weight=3, n_estimators=500, subsample=0.5; total time= 6.0min\n",
      "[CV] END learning_rate=0.01, max_depth=5, min_child_weight=3, n_estimators=500, subsample=0.8; total time= 5.8min\n",
      "[CV] END learning_rate=0.01, max_depth=5, min_child_weight=3, n_estimators=500, subsample=0.8; total time= 5.9min\n",
      "[CV] END learning_rate=0.01, max_depth=10, min_child_weight=1, n_estimators=300, subsample=0.5; total time= 4.9min\n",
      "[CV] END learning_rate=0.01, max_depth=10, min_child_weight=1, n_estimators=300, subsample=0.5; total time= 4.9min\n",
      "[CV] END learning_rate=0.01, max_depth=5, min_child_weight=3, n_estimators=1000, subsample=0.5; total time=43.7min\n",
      "[CV] END learning_rate=0.01, max_depth=5, min_child_weight=3, n_estimators=1000, subsample=0.5; total time=43.8min\n",
      "[CV] END learning_rate=0.01, max_depth=10, min_child_weight=1, n_estimators=300, subsample=0.8; total time=35.1min\n",
      "[CV] END learning_rate=0.01, max_depth=10, min_child_weight=1, n_estimators=300, subsample=0.5; total time=35.2min\n",
      "[CV] END learning_rate=0.01, max_depth=5, min_child_weight=3, n_estimators=1000, subsample=0.5; total time=44.9min\n",
      "[CV] END learning_rate=0.01, max_depth=10, min_child_weight=1, n_estimators=300, subsample=0.8; total time= 4.4min\n",
      "[CV] END learning_rate=0.01, max_depth=10, min_child_weight=1, n_estimators=300, subsample=0.8; total time= 4.4min\n",
      "[CV] END learning_rate=0.01, max_depth=5, min_child_weight=3, n_estimators=1000, subsample=0.8; total time=44.7min\n",
      "[CV] END learning_rate=0.01, max_depth=5, min_child_weight=3, n_estimators=1000, subsample=0.8; total time=44.5min\n",
      "[CV] END learning_rate=0.01, max_depth=5, min_child_weight=3, n_estimators=1000, subsample=0.8; total time=44.7min\n",
      "[CV] END learning_rate=0.01, max_depth=10, min_child_weight=1, n_estimators=500, subsample=0.5; total time= 6.4min\n"
     ]
    },
    {
     "name": "stderr",
     "output_type": "stream",
     "text": [
      "/opt/homebrew/Caskroom/miniforge/base/envs/fungi_Incognita/lib/python3.11/site-packages/joblib/externals/loky/process_executor.py:752: UserWarning: A worker stopped while some jobs were given to the executor. This can be caused by a too short worker timeout or by a memory leak.\n",
      "  warnings.warn(\n"
     ]
    },
    {
     "name": "stdout",
     "output_type": "stream",
     "text": [
      "[CV] END learning_rate=0.01, max_depth=10, min_child_weight=1, n_estimators=500, subsample=0.5; total time= 6.3min\n",
      "[CV] END learning_rate=0.01, max_depth=10, min_child_weight=1, n_estimators=500, subsample=0.5; total time= 5.7min\n",
      "[CV] END learning_rate=0.01, max_depth=10, min_child_weight=1, n_estimators=500, subsample=0.8; total time= 5.8min\n",
      "[CV] END learning_rate=0.01, max_depth=10, min_child_weight=1, n_estimators=500, subsample=0.8; total time= 5.8min\n",
      "[CV] END learning_rate=0.01, max_depth=10, min_child_weight=1, n_estimators=500, subsample=0.8; total time= 5.8min\n",
      "[CV] END learning_rate=0.01, max_depth=10, min_child_weight=3, n_estimators=300, subsample=0.5; total time= 3.2min\n",
      "[CV] END learning_rate=0.01, max_depth=10, min_child_weight=3, n_estimators=300, subsample=0.5; total time= 3.2min\n",
      "[CV] END learning_rate=0.01, max_depth=10, min_child_weight=3, n_estimators=300, subsample=0.5; total time= 3.4min\n",
      "[CV] END learning_rate=0.01, max_depth=10, min_child_weight=1, n_estimators=1000, subsample=0.5; total time=10.8min\n",
      "[CV] END learning_rate=0.01, max_depth=10, min_child_weight=3, n_estimators=300, subsample=0.8; total time= 3.4min\n",
      "[CV] END learning_rate=0.01, max_depth=10, min_child_weight=1, n_estimators=1000, subsample=0.5; total time=10.9min\n",
      "[CV] END learning_rate=0.01, max_depth=10, min_child_weight=1, n_estimators=1000, subsample=0.5; total time=10.7min\n",
      "[CV] END learning_rate=0.01, max_depth=10, min_child_weight=1, n_estimators=1000, subsample=0.8; total time=10.7min\n",
      "[CV] END learning_rate=0.01, max_depth=10, min_child_weight=3, n_estimators=300, subsample=0.8; total time= 3.3min\n",
      "[CV] END learning_rate=0.01, max_depth=10, min_child_weight=3, n_estimators=300, subsample=0.8; total time= 3.3min\n",
      "[CV] END learning_rate=0.01, max_depth=10, min_child_weight=1, n_estimators=1000, subsample=0.8; total time=10.5min\n",
      "[CV] END learning_rate=0.01, max_depth=10, min_child_weight=1, n_estimators=1000, subsample=0.8; total time=10.7min\n",
      "[CV] END learning_rate=0.01, max_depth=10, min_child_weight=3, n_estimators=500, subsample=0.5; total time= 5.4min\n",
      "[CV] END learning_rate=0.01, max_depth=10, min_child_weight=3, n_estimators=500, subsample=0.5; total time= 5.5min\n",
      "[CV] END learning_rate=0.01, max_depth=10, min_child_weight=3, n_estimators=500, subsample=0.5; total time= 5.5min\n",
      "[CV] END learning_rate=0.01, max_depth=10, min_child_weight=3, n_estimators=500, subsample=0.8; total time= 5.5min\n",
      "[CV] END learning_rate=0.01, max_depth=10, min_child_weight=3, n_estimators=500, subsample=0.8; total time= 5.5min\n",
      "[CV] END learning_rate=0.01, max_depth=10, min_child_weight=3, n_estimators=500, subsample=0.8; total time= 5.4min\n",
      "[CV] END learning_rate=0.1, max_depth=2, min_child_weight=1, n_estimators=300, subsample=0.5; total time= 2.8min\n",
      "[CV] END learning_rate=0.1, max_depth=2, min_child_weight=1, n_estimators=300, subsample=0.5; total time= 2.8min\n",
      "[CV] END learning_rate=0.01, max_depth=10, min_child_weight=3, n_estimators=1000, subsample=0.5; total time=10.5min\n",
      "[CV] END learning_rate=0.1, max_depth=2, min_child_weight=1, n_estimators=300, subsample=0.8; total time= 2.8min\n",
      "[CV] END learning_rate=0.1, max_depth=2, min_child_weight=1, n_estimators=300, subsample=0.5; total time= 2.9min\n",
      "[CV] END learning_rate=0.01, max_depth=10, min_child_weight=3, n_estimators=1000, subsample=0.5; total time=10.6min\n",
      "[CV] END learning_rate=0.01, max_depth=10, min_child_weight=3, n_estimators=1000, subsample=0.5; total time=10.5min\n",
      "[CV] END learning_rate=0.01, max_depth=10, min_child_weight=3, n_estimators=1000, subsample=0.8; total time=10.4min\n",
      "[CV] END learning_rate=0.1, max_depth=2, min_child_weight=1, n_estimators=300, subsample=0.8; total time= 2.8min\n",
      "[CV] END learning_rate=0.1, max_depth=2, min_child_weight=1, n_estimators=300, subsample=0.8; total time= 2.8min\n",
      "[CV] END learning_rate=0.01, max_depth=10, min_child_weight=3, n_estimators=1000, subsample=0.8; total time=10.3min\n",
      "[CV] END learning_rate=0.01, max_depth=10, min_child_weight=3, n_estimators=1000, subsample=0.8; total time=10.4min\n",
      "[CV] END learning_rate=0.1, max_depth=2, min_child_weight=1, n_estimators=500, subsample=0.5; total time= 4.5min\n",
      "[CV] END learning_rate=0.1, max_depth=2, min_child_weight=1, n_estimators=500, subsample=0.5; total time= 4.5min\n",
      "[CV] END learning_rate=0.1, max_depth=2, min_child_weight=1, n_estimators=500, subsample=0.8; total time= 4.5min\n",
      "[CV] END learning_rate=0.1, max_depth=2, min_child_weight=1, n_estimators=500, subsample=0.5; total time= 4.6min\n",
      "[CV] END learning_rate=0.1, max_depth=2, min_child_weight=1, n_estimators=500, subsample=0.8; total time= 4.5min\n",
      "[CV] END learning_rate=0.1, max_depth=2, min_child_weight=1, n_estimators=500, subsample=0.8; total time= 4.5min\n",
      "[CV] END learning_rate=0.1, max_depth=2, min_child_weight=3, n_estimators=300, subsample=0.5; total time= 2.7min\n",
      "[CV] END learning_rate=0.1, max_depth=2, min_child_weight=3, n_estimators=300, subsample=0.5; total time= 2.7min\n",
      "[CV] END learning_rate=0.1, max_depth=2, min_child_weight=1, n_estimators=1000, subsample=0.5; total time= 9.1min\n",
      "[CV] END learning_rate=0.1, max_depth=2, min_child_weight=1, n_estimators=1000, subsample=0.5; total time= 9.2min\n",
      "[CV] END learning_rate=0.1, max_depth=2, min_child_weight=3, n_estimators=300, subsample=0.5; total time= 2.9min\n",
      "[CV] END learning_rate=0.1, max_depth=2, min_child_weight=3, n_estimators=300, subsample=0.8; total time= 2.9min\n",
      "[CV] END learning_rate=0.1, max_depth=2, min_child_weight=1, n_estimators=1000, subsample=0.8; total time= 9.0min\n",
      "[CV] END learning_rate=0.1, max_depth=2, min_child_weight=1, n_estimators=1000, subsample=0.5; total time= 9.2min\n",
      "[CV] END learning_rate=0.1, max_depth=2, min_child_weight=3, n_estimators=300, subsample=0.8; total time= 2.7min\n",
      "[CV] END learning_rate=0.1, max_depth=2, min_child_weight=1, n_estimators=1000, subsample=0.8; total time= 8.9min\n",
      "[CV] END learning_rate=0.1, max_depth=2, min_child_weight=1, n_estimators=1000, subsample=0.8; total time= 9.0min\n",
      "[CV] END learning_rate=0.1, max_depth=2, min_child_weight=3, n_estimators=300, subsample=0.8; total time= 2.7min\n",
      "[CV] END learning_rate=0.1, max_depth=2, min_child_weight=3, n_estimators=500, subsample=0.5; total time= 4.5min\n",
      "[CV] END learning_rate=0.1, max_depth=2, min_child_weight=3, n_estimators=500, subsample=0.5; total time= 4.5min\n",
      "[CV] END learning_rate=0.1, max_depth=2, min_child_weight=3, n_estimators=500, subsample=0.5; total time= 4.5min\n",
      "[CV] END learning_rate=0.1, max_depth=2, min_child_weight=3, n_estimators=500, subsample=0.8; total time= 4.4min\n",
      "[CV] END learning_rate=0.1, max_depth=2, min_child_weight=3, n_estimators=500, subsample=0.8; total time= 4.4min\n",
      "[CV] END learning_rate=0.1, max_depth=2, min_child_weight=3, n_estimators=500, subsample=0.8; total time= 4.4min\n",
      "[CV] END learning_rate=0.1, max_depth=3, min_child_weight=1, n_estimators=300, subsample=0.5; total time= 3.1min\n",
      "[CV] END learning_rate=0.1, max_depth=3, min_child_weight=1, n_estimators=300, subsample=0.5; total time= 3.1min\n",
      "[CV] END learning_rate=0.1, max_depth=2, min_child_weight=3, n_estimators=1000, subsample=0.5; total time= 8.8min\n",
      "[CV] END learning_rate=0.1, max_depth=2, min_child_weight=3, n_estimators=1000, subsample=0.5; total time= 8.9min\n",
      "[CV] END learning_rate=0.1, max_depth=3, min_child_weight=1, n_estimators=300, subsample=0.8; total time= 3.1min\n",
      "[CV] END learning_rate=0.1, max_depth=3, min_child_weight=1, n_estimators=300, subsample=0.5; total time= 3.2min\n",
      "[CV] END learning_rate=0.1, max_depth=2, min_child_weight=3, n_estimators=1000, subsample=0.8; total time= 9.0min\n",
      "[CV] END learning_rate=0.1, max_depth=2, min_child_weight=3, n_estimators=1000, subsample=0.5; total time= 9.1min\n",
      "[CV] END learning_rate=0.1, max_depth=3, min_child_weight=1, n_estimators=300, subsample=0.8; total time= 3.0min\n",
      "[CV] END learning_rate=0.1, max_depth=2, min_child_weight=3, n_estimators=1000, subsample=0.8; total time= 8.9min\n",
      "[CV] END learning_rate=0.1, max_depth=3, min_child_weight=1, n_estimators=300, subsample=0.8; total time= 3.0min\n",
      "[CV] END learning_rate=0.1, max_depth=2, min_child_weight=3, n_estimators=1000, subsample=0.8; total time= 8.9min\n",
      "[CV] END learning_rate=0.1, max_depth=3, min_child_weight=1, n_estimators=500, subsample=0.5; total time= 4.7min\n",
      "[CV] END learning_rate=0.1, max_depth=3, min_child_weight=1, n_estimators=500, subsample=0.5; total time= 4.8min\n",
      "[CV] END learning_rate=0.1, max_depth=3, min_child_weight=1, n_estimators=500, subsample=0.8; total time= 4.7min\n",
      "[CV] END learning_rate=0.1, max_depth=3, min_child_weight=1, n_estimators=500, subsample=0.5; total time= 4.8min\n",
      "[CV] END learning_rate=0.1, max_depth=3, min_child_weight=1, n_estimators=500, subsample=0.8; total time= 4.7min\n",
      "[CV] END learning_rate=0.1, max_depth=3, min_child_weight=1, n_estimators=500, subsample=0.8; total time= 4.6min\n",
      "[CV] END learning_rate=0.1, max_depth=3, min_child_weight=3, n_estimators=300, subsample=0.5; total time= 3.0min\n",
      "[CV] END learning_rate=0.1, max_depth=3, min_child_weight=3, n_estimators=300, subsample=0.5; total time= 2.9min\n",
      "[CV] END learning_rate=0.1, max_depth=3, min_child_weight=1, n_estimators=1000, subsample=0.5; total time= 9.0min\n",
      "[CV] END learning_rate=0.1, max_depth=3, min_child_weight=1, n_estimators=1000, subsample=0.5; total time= 9.0min\n",
      "[CV] END learning_rate=0.1, max_depth=3, min_child_weight=3, n_estimators=300, subsample=0.8; total time= 2.9min\n",
      "[CV] END learning_rate=0.1, max_depth=3, min_child_weight=3, n_estimators=300, subsample=0.5; total time= 3.0min\n",
      "[CV] END learning_rate=0.1, max_depth=3, min_child_weight=3, n_estimators=300, subsample=0.8; total time= 2.9min\n",
      "[CV] END learning_rate=0.1, max_depth=3, min_child_weight=3, n_estimators=300, subsample=0.8; total time= 2.9min\n",
      "[CV] END learning_rate=0.1, max_depth=3, min_child_weight=1, n_estimators=1000, subsample=0.8; total time= 9.2min\n",
      "[CV] END learning_rate=0.1, max_depth=3, min_child_weight=1, n_estimators=1000, subsample=0.5; total time= 9.4min\n",
      "[CV] END learning_rate=0.1, max_depth=3, min_child_weight=1, n_estimators=1000, subsample=0.8; total time= 9.1min\n",
      "[CV] END learning_rate=0.1, max_depth=3, min_child_weight=1, n_estimators=1000, subsample=0.8; total time= 9.1min\n",
      "[CV] END learning_rate=0.1, max_depth=3, min_child_weight=3, n_estimators=500, subsample=0.5; total time= 4.9min\n",
      "[CV] END learning_rate=0.1, max_depth=3, min_child_weight=3, n_estimators=500, subsample=0.5; total time= 4.9min\n",
      "[CV] END learning_rate=0.1, max_depth=3, min_child_weight=3, n_estimators=500, subsample=0.5; total time= 5.3min\n",
      "[CV] END learning_rate=0.1, max_depth=3, min_child_weight=3, n_estimators=500, subsample=0.8; total time= 5.2min\n",
      "[CV] END learning_rate=0.1, max_depth=3, min_child_weight=3, n_estimators=500, subsample=0.8; total time= 5.2min\n",
      "[CV] END learning_rate=0.1, max_depth=3, min_child_weight=3, n_estimators=500, subsample=0.8; total time= 5.2min\n",
      "[CV] END learning_rate=0.1, max_depth=5, min_child_weight=1, n_estimators=300, subsample=0.5; total time= 3.2min\n",
      "[CV] END learning_rate=0.1, max_depth=5, min_child_weight=1, n_estimators=300, subsample=0.5; total time= 3.2min\n",
      "[CV] END learning_rate=0.1, max_depth=3, min_child_weight=3, n_estimators=1000, subsample=0.5; total time= 9.7min\n",
      "[CV] END learning_rate=0.1, max_depth=3, min_child_weight=3, n_estimators=1000, subsample=0.5; total time= 9.8min\n",
      "[CV] END learning_rate=0.1, max_depth=5, min_child_weight=1, n_estimators=300, subsample=0.8; total time= 3.3min\n",
      "[CV] END learning_rate=0.1, max_depth=5, min_child_weight=1, n_estimators=300, subsample=0.5; total time= 3.4min\n",
      "[CV] END learning_rate=0.1, max_depth=3, min_child_weight=3, n_estimators=1000, subsample=0.8; total time= 9.6min\n",
      "[CV] END learning_rate=0.1, max_depth=3, min_child_weight=3, n_estimators=1000, subsample=0.5; total time= 9.8min\n",
      "[CV] END learning_rate=0.1, max_depth=5, min_child_weight=1, n_estimators=300, subsample=0.8; total time= 3.1min\n",
      "[CV] END learning_rate=0.1, max_depth=5, min_child_weight=1, n_estimators=300, subsample=0.8; total time= 3.1min\n",
      "[CV] END learning_rate=0.1, max_depth=3, min_child_weight=3, n_estimators=1000, subsample=0.8; total time= 9.4min\n",
      "[CV] END learning_rate=0.1, max_depth=3, min_child_weight=3, n_estimators=1000, subsample=0.8; total time= 9.5min\n",
      "[CV] END learning_rate=0.1, max_depth=5, min_child_weight=1, n_estimators=500, subsample=0.5; total time= 5.1min\n",
      "[CV] END learning_rate=0.1, max_depth=5, min_child_weight=1, n_estimators=500, subsample=0.5; total time= 5.2min\n",
      "[CV] END learning_rate=0.1, max_depth=5, min_child_weight=1, n_estimators=500, subsample=0.5; total time= 5.2min\n",
      "[CV] END learning_rate=0.1, max_depth=5, min_child_weight=1, n_estimators=500, subsample=0.8; total time= 5.1min\n",
      "[CV] END learning_rate=0.1, max_depth=5, min_child_weight=1, n_estimators=500, subsample=0.8; total time= 5.0min\n",
      "[CV] END learning_rate=0.1, max_depth=5, min_child_weight=1, n_estimators=500, subsample=0.8; total time= 5.0min\n",
      "[CV] END learning_rate=0.1, max_depth=5, min_child_weight=3, n_estimators=300, subsample=0.5; total time= 3.0min\n",
      "[CV] END learning_rate=0.1, max_depth=5, min_child_weight=3, n_estimators=300, subsample=0.5; total time= 3.1min\n",
      "[CV] END learning_rate=0.1, max_depth=5, min_child_weight=1, n_estimators=1000, subsample=0.5; total time= 9.5min\n",
      "[CV] END learning_rate=0.1, max_depth=5, min_child_weight=1, n_estimators=1000, subsample=0.5; total time= 9.7min\n",
      "[CV] END learning_rate=0.1, max_depth=5, min_child_weight=3, n_estimators=300, subsample=0.5; total time= 3.2min\n",
      "[CV] END learning_rate=0.1, max_depth=5, min_child_weight=3, n_estimators=300, subsample=0.8; total time= 3.1min\n",
      "[CV] END learning_rate=0.1, max_depth=5, min_child_weight=1, n_estimators=1000, subsample=0.8; total time= 9.6min\n",
      "[CV] END learning_rate=0.1, max_depth=5, min_child_weight=1, n_estimators=1000, subsample=0.5; total time= 9.8min\n",
      "[CV] END learning_rate=0.1, max_depth=5, min_child_weight=3, n_estimators=300, subsample=0.8; total time= 3.2min\n",
      "[CV] END learning_rate=0.1, max_depth=5, min_child_weight=3, n_estimators=300, subsample=0.8; total time= 3.1min\n",
      "[CV] END learning_rate=0.1, max_depth=5, min_child_weight=1, n_estimators=1000, subsample=0.8; total time= 9.6min\n",
      "[CV] END learning_rate=0.1, max_depth=5, min_child_weight=1, n_estimators=1000, subsample=0.8; total time= 9.6min\n",
      "[CV] END learning_rate=0.1, max_depth=5, min_child_weight=3, n_estimators=500, subsample=0.5; total time= 4.8min\n",
      "[CV] END learning_rate=0.1, max_depth=5, min_child_weight=3, n_estimators=500, subsample=0.5; total time= 4.8min\n",
      "[CV] END learning_rate=0.1, max_depth=5, min_child_weight=3, n_estimators=500, subsample=0.5; total time= 4.7min\n",
      "[CV] END learning_rate=0.1, max_depth=5, min_child_weight=3, n_estimators=500, subsample=0.8; total time= 4.6min\n",
      "[CV] END learning_rate=0.1, max_depth=5, min_child_weight=3, n_estimators=500, subsample=0.8; total time= 4.7min\n",
      "[CV] END learning_rate=0.1, max_depth=5, min_child_weight=3, n_estimators=500, subsample=0.8; total time= 4.6min\n",
      "[CV] END learning_rate=0.1, max_depth=10, min_child_weight=1, n_estimators=300, subsample=0.5; total time= 3.0min\n",
      "[CV] END learning_rate=0.1, max_depth=10, min_child_weight=1, n_estimators=300, subsample=0.5; total time= 3.0min\n",
      "[CV] END learning_rate=0.1, max_depth=5, min_child_weight=3, n_estimators=1000, subsample=0.5; total time= 8.7min\n",
      "[CV] END learning_rate=0.1, max_depth=5, min_child_weight=3, n_estimators=1000, subsample=0.5; total time= 8.8min\n",
      "[CV] END learning_rate=0.1, max_depth=10, min_child_weight=1, n_estimators=300, subsample=0.5; total time= 3.0min\n",
      "[CV] END learning_rate=0.1, max_depth=10, min_child_weight=1, n_estimators=300, subsample=0.8; total time= 3.0min\n",
      "[CV] END learning_rate=0.1, max_depth=5, min_child_weight=3, n_estimators=1000, subsample=0.8; total time= 8.5min\n",
      "[CV] END learning_rate=0.1, max_depth=5, min_child_weight=3, n_estimators=1000, subsample=0.5; total time= 8.9min\n",
      "[CV] END learning_rate=0.1, max_depth=10, min_child_weight=1, n_estimators=300, subsample=0.8; total time= 3.0min\n",
      "[CV] END learning_rate=0.1, max_depth=10, min_child_weight=1, n_estimators=300, subsample=0.8; total time= 2.9min\n",
      "[CV] END learning_rate=0.1, max_depth=5, min_child_weight=3, n_estimators=1000, subsample=0.8; total time= 8.5min\n",
      "[CV] END learning_rate=0.1, max_depth=5, min_child_weight=3, n_estimators=1000, subsample=0.8; total time= 8.7min\n",
      "[CV] END learning_rate=0.1, max_depth=10, min_child_weight=1, n_estimators=500, subsample=0.5; total time= 4.9min\n",
      "[CV] END learning_rate=0.1, max_depth=10, min_child_weight=1, n_estimators=500, subsample=0.5; total time= 5.0min\n",
      "[CV] END learning_rate=0.1, max_depth=10, min_child_weight=1, n_estimators=500, subsample=0.5; total time= 5.0min\n",
      "[CV] END learning_rate=0.1, max_depth=10, min_child_weight=1, n_estimators=500, subsample=0.8; total time= 4.9min\n",
      "[CV] END learning_rate=0.1, max_depth=10, min_child_weight=1, n_estimators=500, subsample=0.8; total time= 4.9min\n",
      "[CV] END learning_rate=0.1, max_depth=10, min_child_weight=1, n_estimators=500, subsample=0.8; total time= 4.8min\n",
      "[CV] END learning_rate=0.1, max_depth=10, min_child_weight=3, n_estimators=300, subsample=0.5; total time= 2.8min\n",
      "[CV] END learning_rate=0.1, max_depth=10, min_child_weight=3, n_estimators=300, subsample=0.5; total time= 2.8min\n",
      "[CV] END learning_rate=0.1, max_depth=10, min_child_weight=1, n_estimators=1000, subsample=0.5; total time= 9.0min\n",
      "[CV] END learning_rate=0.1, max_depth=10, min_child_weight=1, n_estimators=1000, subsample=0.5; total time= 9.0min\n",
      "[CV] END learning_rate=0.1, max_depth=10, min_child_weight=3, n_estimators=300, subsample=0.5; total time= 3.0min\n",
      "[CV] END learning_rate=0.1, max_depth=10, min_child_weight=3, n_estimators=300, subsample=0.8; total time= 3.0min\n",
      "[CV] END learning_rate=0.1, max_depth=10, min_child_weight=1, n_estimators=1000, subsample=0.8; total time= 8.7min\n",
      "[CV] END learning_rate=0.1, max_depth=10, min_child_weight=1, n_estimators=1000, subsample=0.5; total time= 8.9min\n",
      "[CV] END learning_rate=0.1, max_depth=10, min_child_weight=3, n_estimators=300, subsample=0.8; total time= 2.6min\n",
      "[CV] END learning_rate=0.1, max_depth=10, min_child_weight=3, n_estimators=300, subsample=0.8; total time= 2.6min\n",
      "[CV] END learning_rate=0.1, max_depth=10, min_child_weight=1, n_estimators=1000, subsample=0.8; total time= 8.6min\n",
      "[CV] END learning_rate=0.1, max_depth=10, min_child_weight=1, n_estimators=1000, subsample=0.8; total time= 8.6min\n",
      "[CV] END learning_rate=0.1, max_depth=10, min_child_weight=3, n_estimators=500, subsample=0.5; total time= 4.3min\n",
      "[CV] END learning_rate=0.1, max_depth=10, min_child_weight=3, n_estimators=500, subsample=0.5; total time= 4.3min\n",
      "[CV] END learning_rate=0.1, max_depth=10, min_child_weight=3, n_estimators=500, subsample=0.5; total time= 4.5min\n",
      "[CV] END learning_rate=0.1, max_depth=10, min_child_weight=3, n_estimators=500, subsample=0.8; total time= 4.4min\n",
      "[CV] END learning_rate=0.1, max_depth=10, min_child_weight=3, n_estimators=500, subsample=0.8; total time= 4.5min\n",
      "[CV] END learning_rate=0.1, max_depth=10, min_child_weight=3, n_estimators=500, subsample=0.8; total time= 4.4min\n",
      "[CV] END learning_rate=0.2, max_depth=2, min_child_weight=1, n_estimators=300, subsample=0.5; total time= 2.8min\n",
      "[CV] END learning_rate=0.2, max_depth=2, min_child_weight=1, n_estimators=300, subsample=0.5; total time= 2.9min\n",
      "[CV] END learning_rate=0.1, max_depth=10, min_child_weight=3, n_estimators=1000, subsample=0.5; total time= 8.7min\n",
      "[CV] END learning_rate=0.1, max_depth=10, min_child_weight=3, n_estimators=1000, subsample=0.5; total time= 8.7min\n",
      "[CV] END learning_rate=0.2, max_depth=2, min_child_weight=1, n_estimators=300, subsample=0.5; total time= 2.8min\n",
      "[CV] END learning_rate=0.2, max_depth=2, min_child_weight=1, n_estimators=300, subsample=0.8; total time= 2.7min\n",
      "[CV] END learning_rate=0.1, max_depth=10, min_child_weight=3, n_estimators=1000, subsample=0.8; total time= 8.6min\n",
      "[CV] END learning_rate=0.1, max_depth=10, min_child_weight=3, n_estimators=1000, subsample=0.5; total time= 8.8min\n",
      "[CV] END learning_rate=0.2, max_depth=2, min_child_weight=1, n_estimators=300, subsample=0.8; total time= 2.6min\n",
      "[CV] END learning_rate=0.2, max_depth=2, min_child_weight=1, n_estimators=300, subsample=0.8; total time= 2.6min\n",
      "[CV] END learning_rate=0.1, max_depth=10, min_child_weight=3, n_estimators=1000, subsample=0.8; total time= 8.5min\n",
      "[CV] END learning_rate=0.1, max_depth=10, min_child_weight=3, n_estimators=1000, subsample=0.8; total time= 8.4min\n",
      "[CV] END learning_rate=0.2, max_depth=2, min_child_weight=1, n_estimators=500, subsample=0.5; total time= 4.2min\n",
      "[CV] END learning_rate=0.2, max_depth=2, min_child_weight=1, n_estimators=500, subsample=0.5; total time= 4.4min\n",
      "[CV] END learning_rate=0.2, max_depth=2, min_child_weight=1, n_estimators=500, subsample=0.8; total time= 4.3min\n",
      "[CV] END learning_rate=0.2, max_depth=2, min_child_weight=1, n_estimators=500, subsample=0.5; total time= 4.4min\n",
      "[CV] END learning_rate=0.2, max_depth=2, min_child_weight=1, n_estimators=500, subsample=0.8; total time= 4.3min\n",
      "[CV] END learning_rate=0.2, max_depth=2, min_child_weight=1, n_estimators=500, subsample=0.8; total time= 4.2min\n",
      "[CV] END learning_rate=0.2, max_depth=2, min_child_weight=3, n_estimators=300, subsample=0.5; total time= 2.6min\n",
      "[CV] END learning_rate=0.2, max_depth=2, min_child_weight=3, n_estimators=300, subsample=0.5; total time= 2.8min\n",
      "[CV] END learning_rate=0.2, max_depth=2, min_child_weight=1, n_estimators=1000, subsample=0.5; total time= 8.5min\n",
      "[CV] END learning_rate=0.2, max_depth=2, min_child_weight=1, n_estimators=1000, subsample=0.5; total time= 8.6min\n",
      "[CV] END learning_rate=0.2, max_depth=2, min_child_weight=3, n_estimators=300, subsample=0.8; total time= 2.8min\n",
      "[CV] END learning_rate=0.2, max_depth=2, min_child_weight=3, n_estimators=300, subsample=0.5; total time= 2.8min\n",
      "[CV] END learning_rate=0.2, max_depth=2, min_child_weight=1, n_estimators=1000, subsample=0.5; total time= 8.8min\n",
      "[CV] END learning_rate=0.2, max_depth=2, min_child_weight=1, n_estimators=1000, subsample=0.8; total time= 8.7min\n",
      "[CV] END learning_rate=0.2, max_depth=2, min_child_weight=3, n_estimators=300, subsample=0.8; total time= 3.1min\n",
      "[CV] END learning_rate=0.2, max_depth=2, min_child_weight=3, n_estimators=300, subsample=0.8; total time= 3.3min\n",
      "[CV] END learning_rate=0.2, max_depth=2, min_child_weight=1, n_estimators=1000, subsample=0.8; total time= 8.8min\n",
      "[CV] END learning_rate=0.2, max_depth=2, min_child_weight=1, n_estimators=1000, subsample=0.8; total time= 8.9min\n",
      "[CV] END learning_rate=0.2, max_depth=2, min_child_weight=3, n_estimators=500, subsample=0.5; total time= 4.9min\n",
      "[CV] END learning_rate=0.2, max_depth=2, min_child_weight=3, n_estimators=500, subsample=0.5; total time= 4.9min\n",
      "[CV] END learning_rate=0.2, max_depth=2, min_child_weight=3, n_estimators=500, subsample=0.5; total time= 4.7min\n",
      "[CV] END learning_rate=0.2, max_depth=2, min_child_weight=3, n_estimators=500, subsample=0.8; total time= 4.7min\n",
      "[CV] END learning_rate=0.2, max_depth=2, min_child_weight=3, n_estimators=500, subsample=0.8; total time= 4.5min\n",
      "[CV] END learning_rate=0.2, max_depth=2, min_child_weight=3, n_estimators=500, subsample=0.8; total time= 4.5min\n",
      "[CV] END learning_rate=0.2, max_depth=3, min_child_weight=1, n_estimators=300, subsample=0.5; total time= 3.1min\n",
      "[CV] END learning_rate=0.2, max_depth=3, min_child_weight=1, n_estimators=300, subsample=0.5; total time= 3.0min\n",
      "[CV] END learning_rate=0.2, max_depth=2, min_child_weight=3, n_estimators=1000, subsample=0.5; total time= 9.2min\n",
      "[CV] END learning_rate=0.2, max_depth=2, min_child_weight=3, n_estimators=1000, subsample=0.5; total time= 9.2min\n",
      "[CV] END learning_rate=0.2, max_depth=3, min_child_weight=1, n_estimators=300, subsample=0.8; total time= 3.1min\n",
      "[CV] END learning_rate=0.2, max_depth=3, min_child_weight=1, n_estimators=300, subsample=0.5; total time= 3.1min\n",
      "[CV] END learning_rate=0.2, max_depth=2, min_child_weight=3, n_estimators=1000, subsample=0.8; total time= 9.3min\n",
      "[CV] END learning_rate=0.2, max_depth=2, min_child_weight=3, n_estimators=1000, subsample=0.5; total time= 9.5min\n",
      "[CV] END learning_rate=0.2, max_depth=3, min_child_weight=1, n_estimators=300, subsample=0.8; total time= 3.0min\n",
      "[CV] END learning_rate=0.2, max_depth=3, min_child_weight=1, n_estimators=300, subsample=0.8; total time= 3.0min\n",
      "[CV] END learning_rate=0.2, max_depth=2, min_child_weight=3, n_estimators=1000, subsample=0.8; total time= 9.3min\n",
      "[CV] END learning_rate=0.2, max_depth=2, min_child_weight=3, n_estimators=1000, subsample=0.8; total time= 9.2min\n",
      "[CV] END learning_rate=0.2, max_depth=3, min_child_weight=1, n_estimators=500, subsample=0.5; total time= 4.6min\n",
      "[CV] END learning_rate=0.2, max_depth=3, min_child_weight=1, n_estimators=500, subsample=0.5; total time= 4.7min\n",
      "[CV] END learning_rate=0.2, max_depth=3, min_child_weight=1, n_estimators=500, subsample=0.5; total time= 4.7min\n",
      "[CV] END learning_rate=0.2, max_depth=3, min_child_weight=1, n_estimators=500, subsample=0.8; total time= 4.6min\n",
      "[CV] END learning_rate=0.2, max_depth=3, min_child_weight=1, n_estimators=500, subsample=0.8; total time= 4.5min\n",
      "[CV] END learning_rate=0.2, max_depth=3, min_child_weight=1, n_estimators=500, subsample=0.8; total time= 4.5min\n",
      "[CV] END learning_rate=0.2, max_depth=3, min_child_weight=3, n_estimators=300, subsample=0.5; total time= 2.7min\n",
      "[CV] END learning_rate=0.2, max_depth=3, min_child_weight=3, n_estimators=300, subsample=0.5; total time= 2.8min\n",
      "[CV] END learning_rate=0.2, max_depth=3, min_child_weight=1, n_estimators=1000, subsample=0.5; total time= 8.8min\n",
      "[CV] END learning_rate=0.2, max_depth=3, min_child_weight=1, n_estimators=1000, subsample=0.5; total time= 8.7min\n",
      "[CV] END learning_rate=0.2, max_depth=3, min_child_weight=3, n_estimators=300, subsample=0.5; total time= 2.9min\n",
      "[CV] END learning_rate=0.2, max_depth=3, min_child_weight=3, n_estimators=300, subsample=0.8; total time= 2.9min\n",
      "[CV] END learning_rate=0.2, max_depth=3, min_child_weight=1, n_estimators=1000, subsample=0.8; total time= 8.8min\n",
      "[CV] END learning_rate=0.2, max_depth=3, min_child_weight=1, n_estimators=1000, subsample=0.5; total time= 9.1min\n",
      "[CV] END learning_rate=0.2, max_depth=3, min_child_weight=3, n_estimators=300, subsample=0.8; total time= 2.9min\n",
      "[CV] END learning_rate=0.2, max_depth=3, min_child_weight=3, n_estimators=300, subsample=0.8; total time= 2.8min\n",
      "[CV] END learning_rate=0.2, max_depth=3, min_child_weight=1, n_estimators=1000, subsample=0.8; total time= 8.7min\n",
      "[CV] END learning_rate=0.2, max_depth=3, min_child_weight=1, n_estimators=1000, subsample=0.8; total time= 8.8min\n",
      "[CV] END learning_rate=0.2, max_depth=3, min_child_weight=3, n_estimators=500, subsample=0.5; total time= 4.3min\n",
      "[CV] END learning_rate=0.2, max_depth=3, min_child_weight=3, n_estimators=500, subsample=0.5; total time= 4.4min\n",
      "[CV] END learning_rate=0.2, max_depth=3, min_child_weight=3, n_estimators=500, subsample=0.5; total time= 4.5min\n",
      "[CV] END learning_rate=0.2, max_depth=3, min_child_weight=3, n_estimators=500, subsample=0.8; total time= 4.6min\n",
      "[CV] END learning_rate=0.2, max_depth=3, min_child_weight=3, n_estimators=500, subsample=0.8; total time= 4.5min\n",
      "[CV] END learning_rate=0.2, max_depth=3, min_child_weight=3, n_estimators=500, subsample=0.8; total time= 4.6min\n",
      "[CV] END learning_rate=0.2, max_depth=5, min_child_weight=1, n_estimators=300, subsample=0.5; total time= 3.2min\n",
      "[CV] END learning_rate=0.2, max_depth=5, min_child_weight=1, n_estimators=300, subsample=0.5; total time= 3.2min\n",
      "[CV] END learning_rate=0.2, max_depth=3, min_child_weight=3, n_estimators=1000, subsample=0.5; total time= 9.3min\n",
      "[CV] END learning_rate=0.2, max_depth=3, min_child_weight=3, n_estimators=1000, subsample=0.5; total time= 9.4min\n",
      "[CV] END learning_rate=0.2, max_depth=5, min_child_weight=1, n_estimators=300, subsample=0.5; total time= 3.1min\n",
      "[CV] END learning_rate=0.2, max_depth=5, min_child_weight=1, n_estimators=300, subsample=0.8; total time= 3.1min\n",
      "[CV] END learning_rate=0.2, max_depth=3, min_child_weight=3, n_estimators=1000, subsample=0.5; total time= 9.4min\n",
      "[CV] END learning_rate=0.2, max_depth=3, min_child_weight=3, n_estimators=1000, subsample=0.8; total time= 9.3min\n",
      "[CV] END learning_rate=0.2, max_depth=5, min_child_weight=1, n_estimators=300, subsample=0.8; total time= 3.1min\n",
      "[CV] END learning_rate=0.2, max_depth=5, min_child_weight=1, n_estimators=300, subsample=0.8; total time= 3.1min\n",
      "[CV] END learning_rate=0.2, max_depth=3, min_child_weight=3, n_estimators=1000, subsample=0.8; total time= 9.3min\n",
      "[CV] END learning_rate=0.2, max_depth=3, min_child_weight=3, n_estimators=1000, subsample=0.8; total time= 9.2min\n",
      "[CV] END learning_rate=0.2, max_depth=5, min_child_weight=1, n_estimators=500, subsample=0.5; total time= 4.8min\n",
      "[CV] END learning_rate=0.2, max_depth=5, min_child_weight=1, n_estimators=500, subsample=0.5; total time= 4.8min\n",
      "[CV] END learning_rate=0.2, max_depth=5, min_child_weight=1, n_estimators=500, subsample=0.8; total time= 4.6min\n",
      "[CV] END learning_rate=0.2, max_depth=5, min_child_weight=1, n_estimators=500, subsample=0.5; total time= 4.8min\n",
      "[CV] END learning_rate=0.2, max_depth=5, min_child_weight=1, n_estimators=500, subsample=0.8; total time= 4.6min\n",
      "[CV] END learning_rate=0.2, max_depth=5, min_child_weight=1, n_estimators=500, subsample=0.8; total time= 4.6min\n",
      "[CV] END learning_rate=0.2, max_depth=5, min_child_weight=3, n_estimators=300, subsample=0.5; total time= 2.7min\n",
      "[CV] END learning_rate=0.2, max_depth=5, min_child_weight=3, n_estimators=300, subsample=0.5; total time= 2.8min\n",
      "[CV] END learning_rate=0.2, max_depth=5, min_child_weight=1, n_estimators=1000, subsample=0.5; total time= 8.9min\n",
      "[CV] END learning_rate=0.2, max_depth=5, min_child_weight=1, n_estimators=1000, subsample=0.5; total time= 8.8min\n",
      "[CV] END learning_rate=0.2, max_depth=5, min_child_weight=3, n_estimators=300, subsample=0.5; total time= 2.8min\n",
      "[CV] END learning_rate=0.2, max_depth=5, min_child_weight=3, n_estimators=300, subsample=0.8; total time= 2.8min\n",
      "[CV] END learning_rate=0.2, max_depth=5, min_child_weight=1, n_estimators=1000, subsample=0.8; total time= 8.7min\n",
      "[CV] END learning_rate=0.2, max_depth=5, min_child_weight=1, n_estimators=1000, subsample=0.5; total time= 8.9min\n",
      "[CV] END learning_rate=0.2, max_depth=5, min_child_weight=1, n_estimators=1000, subsample=0.8; total time= 8.7min\n",
      "[CV] END learning_rate=0.2, max_depth=5, min_child_weight=3, n_estimators=300, subsample=0.8; total time= 2.7min\n",
      "[CV] END learning_rate=0.2, max_depth=5, min_child_weight=1, n_estimators=1000, subsample=0.8; total time= 8.7min\n",
      "[CV] END learning_rate=0.2, max_depth=5, min_child_weight=3, n_estimators=300, subsample=0.8; total time= 2.6min\n",
      "[CV] END learning_rate=0.2, max_depth=5, min_child_weight=3, n_estimators=500, subsample=0.5; total time= 4.4min\n",
      "[CV] END learning_rate=0.2, max_depth=5, min_child_weight=3, n_estimators=500, subsample=0.5; total time= 4.3min\n",
      "[CV] END learning_rate=0.2, max_depth=5, min_child_weight=3, n_estimators=500, subsample=0.8; total time= 4.4min\n",
      "[CV] END learning_rate=0.2, max_depth=5, min_child_weight=3, n_estimators=500, subsample=0.5; total time= 4.5min\n",
      "[CV] END learning_rate=0.2, max_depth=5, min_child_weight=3, n_estimators=500, subsample=0.8; total time= 4.4min\n",
      "[CV] END learning_rate=0.2, max_depth=5, min_child_weight=3, n_estimators=500, subsample=0.8; total time= 4.4min\n",
      "[CV] END learning_rate=0.2, max_depth=10, min_child_weight=1, n_estimators=300, subsample=0.5; total time= 2.8min\n",
      "[CV] END learning_rate=0.2, max_depth=10, min_child_weight=1, n_estimators=300, subsample=0.5; total time= 2.8min\n",
      "[CV] END learning_rate=0.2, max_depth=5, min_child_weight=3, n_estimators=1000, subsample=0.5; total time= 8.6min\n",
      "[CV] END learning_rate=0.2, max_depth=5, min_child_weight=3, n_estimators=1000, subsample=0.5; total time= 8.7min\n",
      "[CV] END learning_rate=0.2, max_depth=10, min_child_weight=1, n_estimators=300, subsample=0.8; total time= 2.8min\n",
      "[CV] END learning_rate=0.2, max_depth=10, min_child_weight=1, n_estimators=300, subsample=0.5; total time= 2.8min\n",
      "[CV] END learning_rate=0.2, max_depth=5, min_child_weight=3, n_estimators=1000, subsample=0.5; total time= 8.6min\n",
      "[CV] END learning_rate=0.2, max_depth=5, min_child_weight=3, n_estimators=1000, subsample=0.8; total time= 8.5min\n",
      "[CV] END learning_rate=0.2, max_depth=10, min_child_weight=1, n_estimators=300, subsample=0.8; total time= 2.7min\n",
      "[CV] END learning_rate=0.2, max_depth=10, min_child_weight=1, n_estimators=300, subsample=0.8; total time= 2.7min\n",
      "[CV] END learning_rate=0.2, max_depth=5, min_child_weight=3, n_estimators=1000, subsample=0.8; total time= 8.4min\n",
      "[CV] END learning_rate=0.2, max_depth=5, min_child_weight=3, n_estimators=1000, subsample=0.8; total time= 8.5min\n",
      "[CV] END learning_rate=0.2, max_depth=10, min_child_weight=1, n_estimators=500, subsample=0.5; total time= 4.4min\n",
      "[CV] END learning_rate=0.2, max_depth=10, min_child_weight=1, n_estimators=500, subsample=0.5; total time= 4.4min\n",
      "[CV] END learning_rate=0.2, max_depth=10, min_child_weight=1, n_estimators=500, subsample=0.5; total time= 4.5min\n",
      "[CV] END learning_rate=0.2, max_depth=10, min_child_weight=1, n_estimators=500, subsample=0.8; total time= 4.4min\n",
      "[CV] END learning_rate=0.2, max_depth=10, min_child_weight=1, n_estimators=500, subsample=0.8; total time= 4.4min\n",
      "[CV] END learning_rate=0.2, max_depth=10, min_child_weight=1, n_estimators=500, subsample=0.8; total time= 4.4min\n",
      "[CV] END learning_rate=0.2, max_depth=10, min_child_weight=3, n_estimators=300, subsample=0.5; total time= 2.7min\n",
      "[CV] END learning_rate=0.2, max_depth=10, min_child_weight=3, n_estimators=300, subsample=0.5; total time= 2.8min\n",
      "[CV] END learning_rate=0.2, max_depth=10, min_child_weight=1, n_estimators=1000, subsample=0.5; total time= 8.6min\n",
      "[CV] END learning_rate=0.2, max_depth=10, min_child_weight=1, n_estimators=1000, subsample=0.5; total time= 8.7min\n",
      "[CV] END learning_rate=0.2, max_depth=10, min_child_weight=3, n_estimators=300, subsample=0.5; total time= 2.9min\n",
      "[CV] END learning_rate=0.2, max_depth=10, min_child_weight=3, n_estimators=300, subsample=0.8; total time= 2.8min\n",
      "[CV] END learning_rate=0.2, max_depth=10, min_child_weight=1, n_estimators=1000, subsample=0.8; total time= 8.7min\n",
      "[CV] END learning_rate=0.2, max_depth=10, min_child_weight=1, n_estimators=1000, subsample=0.5; total time= 8.8min\n",
      "[CV] END learning_rate=0.2, max_depth=10, min_child_weight=3, n_estimators=300, subsample=0.8; total time= 2.7min\n",
      "[CV] END learning_rate=0.2, max_depth=10, min_child_weight=3, n_estimators=300, subsample=0.8; total time= 2.7min\n",
      "[CV] END learning_rate=0.2, max_depth=10, min_child_weight=1, n_estimators=1000, subsample=0.8; total time= 8.6min\n",
      "[CV] END learning_rate=0.2, max_depth=10, min_child_weight=1, n_estimators=1000, subsample=0.8; total time= 8.7min\n",
      "[CV] END learning_rate=0.2, max_depth=10, min_child_weight=3, n_estimators=500, subsample=0.5; total time= 4.3min\n",
      "[CV] END learning_rate=0.2, max_depth=10, min_child_weight=3, n_estimators=500, subsample=0.5; total time= 4.3min\n",
      "[CV] END learning_rate=0.2, max_depth=10, min_child_weight=3, n_estimators=500, subsample=0.8; total time= 4.3min\n",
      "[CV] END learning_rate=0.2, max_depth=10, min_child_weight=3, n_estimators=500, subsample=0.5; total time= 4.5min\n",
      "[CV] END learning_rate=0.2, max_depth=10, min_child_weight=3, n_estimators=500, subsample=0.8; total time= 4.4min\n",
      "[CV] END learning_rate=0.2, max_depth=10, min_child_weight=3, n_estimators=500, subsample=0.8; total time= 4.3min\n",
      "[CV] END learning_rate=0.5, max_depth=2, min_child_weight=1, n_estimators=300, subsample=0.5; total time= 2.5min\n",
      "[CV] END learning_rate=0.5, max_depth=2, min_child_weight=1, n_estimators=300, subsample=0.5; total time= 2.6min\n",
      "[CV] END learning_rate=0.2, max_depth=10, min_child_weight=3, n_estimators=1000, subsample=0.5; total time= 8.8min\n",
      "[CV] END learning_rate=0.2, max_depth=10, min_child_weight=3, n_estimators=1000, subsample=0.5; total time= 8.7min\n",
      "[CV] END learning_rate=0.5, max_depth=2, min_child_weight=1, n_estimators=300, subsample=0.5; total time= 2.6min\n",
      "[CV] END learning_rate=0.5, max_depth=2, min_child_weight=1, n_estimators=300, subsample=0.8; total time= 2.6min\n",
      "[CV] END learning_rate=0.2, max_depth=10, min_child_weight=3, n_estimators=1000, subsample=0.8; total time= 8.6min\n",
      "[CV] END learning_rate=0.2, max_depth=10, min_child_weight=3, n_estimators=1000, subsample=0.5; total time= 8.8min\n",
      "[CV] END learning_rate=0.5, max_depth=2, min_child_weight=1, n_estimators=300, subsample=0.8; total time= 2.5min\n",
      "[CV] END learning_rate=0.5, max_depth=2, min_child_weight=1, n_estimators=300, subsample=0.8; total time= 2.6min\n",
      "[CV] END learning_rate=0.2, max_depth=10, min_child_weight=3, n_estimators=1000, subsample=0.8; total time= 8.6min\n",
      "[CV] END learning_rate=0.2, max_depth=10, min_child_weight=3, n_estimators=1000, subsample=0.8; total time= 8.6min\n",
      "[CV] END learning_rate=0.5, max_depth=2, min_child_weight=1, n_estimators=500, subsample=0.5; total time= 4.0min\n",
      "[CV] END learning_rate=0.5, max_depth=2, min_child_weight=1, n_estimators=500, subsample=0.5; total time= 4.0min\n",
      "[CV] END learning_rate=0.5, max_depth=2, min_child_weight=1, n_estimators=500, subsample=0.5; total time= 4.1min\n",
      "[CV] END learning_rate=0.5, max_depth=2, min_child_weight=1, n_estimators=500, subsample=0.8; total time= 4.1min\n",
      "[CV] END learning_rate=0.5, max_depth=2, min_child_weight=1, n_estimators=500, subsample=0.8; total time= 4.2min\n",
      "[CV] END learning_rate=0.5, max_depth=2, min_child_weight=1, n_estimators=500, subsample=0.8; total time= 4.2min\n",
      "[CV] END learning_rate=0.5, max_depth=2, min_child_weight=3, n_estimators=300, subsample=0.5; total time= 2.6min\n",
      "[CV] END learning_rate=0.5, max_depth=2, min_child_weight=3, n_estimators=300, subsample=0.5; total time= 2.6min\n",
      "[CV] END learning_rate=0.5, max_depth=2, min_child_weight=1, n_estimators=1000, subsample=0.5; total time= 8.2min\n",
      "[CV] END learning_rate=0.5, max_depth=2, min_child_weight=3, n_estimators=300, subsample=0.8; total time= 2.5min\n",
      "[CV] END learning_rate=0.5, max_depth=2, min_child_weight=1, n_estimators=1000, subsample=0.5; total time= 8.3min\n",
      "[CV] END learning_rate=0.5, max_depth=2, min_child_weight=3, n_estimators=300, subsample=0.5; total time= 2.7min\n",
      "[CV] END learning_rate=0.5, max_depth=2, min_child_weight=1, n_estimators=1000, subsample=0.5; total time= 8.4min\n",
      "[CV] END learning_rate=0.5, max_depth=2, min_child_weight=1, n_estimators=1000, subsample=0.8; total time= 8.2min\n",
      "[CV] END learning_rate=0.5, max_depth=2, min_child_weight=1, n_estimators=1000, subsample=0.8; total time= 8.1min\n",
      "[CV] END learning_rate=0.5, max_depth=2, min_child_weight=1, n_estimators=1000, subsample=0.8; total time= 8.0min\n",
      "[CV] END learning_rate=0.5, max_depth=2, min_child_weight=3, n_estimators=300, subsample=0.8; total time= 2.5min\n",
      "[CV] END learning_rate=0.5, max_depth=2, min_child_weight=3, n_estimators=300, subsample=0.8; total time= 2.5min\n",
      "[CV] END learning_rate=0.5, max_depth=2, min_child_weight=3, n_estimators=500, subsample=0.5; total time= 4.3min\n",
      "[CV] END learning_rate=0.5, max_depth=2, min_child_weight=3, n_estimators=500, subsample=0.5; total time= 4.4min\n",
      "[CV] END learning_rate=0.5, max_depth=2, min_child_weight=3, n_estimators=500, subsample=0.8; total time= 4.1min\n",
      "[CV] END learning_rate=0.5, max_depth=2, min_child_weight=3, n_estimators=500, subsample=0.5; total time= 4.4min\n",
      "[CV] END learning_rate=0.5, max_depth=2, min_child_weight=3, n_estimators=500, subsample=0.8; total time= 4.0min\n",
      "[CV] END learning_rate=0.5, max_depth=2, min_child_weight=3, n_estimators=500, subsample=0.8; total time= 4.0min\n",
      "[CV] END learning_rate=0.5, max_depth=3, min_child_weight=1, n_estimators=300, subsample=0.5; total time= 2.7min\n",
      "[CV] END learning_rate=0.5, max_depth=3, min_child_weight=1, n_estimators=300, subsample=0.5; total time= 2.6min\n",
      "[CV] END learning_rate=0.5, max_depth=2, min_child_weight=3, n_estimators=1000, subsample=0.5; total time= 8.6min\n",
      "[CV] END learning_rate=0.5, max_depth=2, min_child_weight=3, n_estimators=1000, subsample=0.5; total time= 8.5min\n",
      "[CV] END learning_rate=0.5, max_depth=3, min_child_weight=1, n_estimators=300, subsample=0.8; total time= 2.6min\n",
      "[CV] END learning_rate=0.5, max_depth=3, min_child_weight=1, n_estimators=300, subsample=0.5; total time= 2.7min\n",
      "[CV] END learning_rate=0.5, max_depth=2, min_child_weight=3, n_estimators=1000, subsample=0.8; total time= 8.1min\n",
      "[CV] END learning_rate=0.5, max_depth=2, min_child_weight=3, n_estimators=1000, subsample=0.5; total time= 8.7min\n",
      "[CV] END learning_rate=0.5, max_depth=2, min_child_weight=3, n_estimators=1000, subsample=0.8; total time= 8.1min\n",
      "[CV] END learning_rate=0.5, max_depth=3, min_child_weight=1, n_estimators=300, subsample=0.8; total time= 2.5min\n",
      "[CV] END learning_rate=0.5, max_depth=3, min_child_weight=1, n_estimators=300, subsample=0.8; total time= 2.5min\n",
      "[CV] END learning_rate=0.5, max_depth=2, min_child_weight=3, n_estimators=1000, subsample=0.8; total time= 8.1min\n",
      "[CV] END learning_rate=0.5, max_depth=3, min_child_weight=1, n_estimators=500, subsample=0.5; total time= 4.1min\n",
      "[CV] END learning_rate=0.5, max_depth=3, min_child_weight=1, n_estimators=500, subsample=0.5; total time= 4.2min\n",
      "[CV] END learning_rate=0.5, max_depth=3, min_child_weight=1, n_estimators=500, subsample=0.5; total time= 4.3min\n",
      "[CV] END learning_rate=0.5, max_depth=3, min_child_weight=1, n_estimators=500, subsample=0.8; total time= 4.2min\n",
      "[CV] END learning_rate=0.5, max_depth=3, min_child_weight=1, n_estimators=500, subsample=0.8; total time= 4.1min\n",
      "[CV] END learning_rate=0.5, max_depth=3, min_child_weight=1, n_estimators=500, subsample=0.8; total time= 4.1min\n",
      "[CV] END learning_rate=0.5, max_depth=3, min_child_weight=3, n_estimators=300, subsample=0.5; total time= 2.6min\n",
      "[CV] END learning_rate=0.5, max_depth=3, min_child_weight=3, n_estimators=300, subsample=0.5; total time= 2.7min\n",
      "[CV] END learning_rate=0.5, max_depth=3, min_child_weight=1, n_estimators=1000, subsample=0.5; total time= 8.5min\n",
      "[CV] END learning_rate=0.5, max_depth=3, min_child_weight=1, n_estimators=1000, subsample=0.5; total time= 8.6min\n",
      "[CV] END learning_rate=0.5, max_depth=3, min_child_weight=3, n_estimators=300, subsample=0.5; total time= 2.7min\n",
      "[CV] END learning_rate=0.5, max_depth=3, min_child_weight=3, n_estimators=300, subsample=0.8; total time= 2.5min\n",
      "[CV] END learning_rate=0.5, max_depth=3, min_child_weight=1, n_estimators=1000, subsample=0.5; total time= 8.4min\n",
      "[CV] END learning_rate=0.5, max_depth=3, min_child_weight=1, n_estimators=1000, subsample=0.8; total time= 8.4min\n",
      "[CV] END learning_rate=0.5, max_depth=3, min_child_weight=3, n_estimators=300, subsample=0.8; total time= 2.5min\n",
      "[CV] END learning_rate=0.5, max_depth=3, min_child_weight=3, n_estimators=300, subsample=0.8; total time= 2.5min\n",
      "[CV] END learning_rate=0.5, max_depth=3, min_child_weight=1, n_estimators=1000, subsample=0.8; total time= 8.0min\n",
      "[CV] END learning_rate=0.5, max_depth=3, min_child_weight=1, n_estimators=1000, subsample=0.8; total time= 7.9min\n",
      "[CV] END learning_rate=0.5, max_depth=3, min_child_weight=3, n_estimators=500, subsample=0.5; total time= 4.2min\n",
      "[CV] END learning_rate=0.5, max_depth=3, min_child_weight=3, n_estimators=500, subsample=0.5; total time= 4.2min\n",
      "[CV] END learning_rate=0.5, max_depth=3, min_child_weight=3, n_estimators=500, subsample=0.8; total time= 4.1min\n",
      "[CV] END learning_rate=0.5, max_depth=3, min_child_weight=3, n_estimators=500, subsample=0.5; total time= 4.2min\n",
      "[CV] END learning_rate=0.5, max_depth=3, min_child_weight=3, n_estimators=500, subsample=0.8; total time= 4.1min\n",
      "[CV] END learning_rate=0.5, max_depth=3, min_child_weight=3, n_estimators=500, subsample=0.8; total time= 4.1min\n",
      "[CV] END learning_rate=0.5, max_depth=5, min_child_weight=1, n_estimators=300, subsample=0.5; total time= 2.6min\n",
      "[CV] END learning_rate=0.5, max_depth=5, min_child_weight=1, n_estimators=300, subsample=0.5; total time= 2.6min\n",
      "[CV] END learning_rate=0.5, max_depth=3, min_child_weight=3, n_estimators=1000, subsample=0.5; total time= 8.4min\n",
      "[CV] END learning_rate=0.5, max_depth=3, min_child_weight=3, n_estimators=1000, subsample=0.5; total time= 8.5min\n",
      "[CV] END learning_rate=0.5, max_depth=5, min_child_weight=1, n_estimators=300, subsample=0.8; total time= 2.6min\n",
      "[CV] END learning_rate=0.5, max_depth=5, min_child_weight=1, n_estimators=300, subsample=0.5; total time= 2.7min\n",
      "[CV] END learning_rate=0.5, max_depth=3, min_child_weight=3, n_estimators=1000, subsample=0.8; total time= 8.1min\n",
      "[CV] END learning_rate=0.5, max_depth=3, min_child_weight=3, n_estimators=1000, subsample=0.5; total time= 8.7min\n",
      "[CV] END learning_rate=0.5, max_depth=5, min_child_weight=1, n_estimators=300, subsample=0.8; total time= 2.6min\n",
      "[CV] END learning_rate=0.5, max_depth=3, min_child_weight=3, n_estimators=1000, subsample=0.8; total time= 8.1min\n",
      "[CV] END learning_rate=0.5, max_depth=5, min_child_weight=1, n_estimators=300, subsample=0.8; total time= 2.5min\n",
      "[CV] END learning_rate=0.5, max_depth=3, min_child_weight=3, n_estimators=1000, subsample=0.8; total time= 8.2min\n",
      "[CV] END learning_rate=0.5, max_depth=5, min_child_weight=1, n_estimators=500, subsample=0.5; total time= 4.1min\n",
      "[CV] END learning_rate=0.5, max_depth=5, min_child_weight=1, n_estimators=500, subsample=0.5; total time= 4.1min\n",
      "[CV] END learning_rate=0.5, max_depth=5, min_child_weight=1, n_estimators=500, subsample=0.5; total time= 4.3min\n",
      "[CV] END learning_rate=0.5, max_depth=5, min_child_weight=1, n_estimators=500, subsample=0.8; total time= 4.3min\n",
      "[CV] END learning_rate=0.5, max_depth=5, min_child_weight=1, n_estimators=500, subsample=0.8; total time= 4.3min\n",
      "[CV] END learning_rate=0.5, max_depth=5, min_child_weight=1, n_estimators=500, subsample=0.8; total time= 4.4min\n",
      "[CV] END learning_rate=0.5, max_depth=5, min_child_weight=3, n_estimators=300, subsample=0.5; total time= 2.7min\n",
      "[CV] END learning_rate=0.5, max_depth=5, min_child_weight=3, n_estimators=300, subsample=0.5; total time= 2.7min\n",
      "[CV] END learning_rate=0.5, max_depth=5, min_child_weight=1, n_estimators=1000, subsample=0.5; total time= 8.5min\n",
      "[CV] END learning_rate=0.5, max_depth=5, min_child_weight=1, n_estimators=1000, subsample=0.5; total time= 8.6min\n",
      "[CV] END learning_rate=0.5, max_depth=5, min_child_weight=3, n_estimators=300, subsample=0.5; total time= 2.7min\n",
      "[CV] END learning_rate=0.5, max_depth=5, min_child_weight=3, n_estimators=300, subsample=0.8; total time= 2.6min\n",
      "[CV] END learning_rate=0.5, max_depth=5, min_child_weight=1, n_estimators=1000, subsample=0.8; total time= 8.3min\n",
      "[CV] END learning_rate=0.5, max_depth=5, min_child_weight=1, n_estimators=1000, subsample=0.5; total time= 8.7min\n",
      "[CV] END learning_rate=0.5, max_depth=5, min_child_weight=3, n_estimators=300, subsample=0.8; total time= 2.5min\n",
      "[CV] END learning_rate=0.5, max_depth=5, min_child_weight=3, n_estimators=300, subsample=0.8; total time= 2.5min\n",
      "[CV] END learning_rate=0.5, max_depth=5, min_child_weight=1, n_estimators=1000, subsample=0.8; total time= 8.3min\n",
      "[CV] END learning_rate=0.5, max_depth=5, min_child_weight=1, n_estimators=1000, subsample=0.8; total time= 8.0min\n",
      "[CV] END learning_rate=0.5, max_depth=5, min_child_weight=3, n_estimators=500, subsample=0.5; total time= 4.2min\n",
      "[CV] END learning_rate=0.5, max_depth=5, min_child_weight=3, n_estimators=500, subsample=0.5; total time= 4.3min\n",
      "[CV] END learning_rate=0.5, max_depth=5, min_child_weight=3, n_estimators=500, subsample=0.5; total time= 4.3min\n",
      "[CV] END learning_rate=0.5, max_depth=5, min_child_weight=3, n_estimators=500, subsample=0.8; total time= 4.1min\n",
      "[CV] END learning_rate=0.5, max_depth=5, min_child_weight=3, n_estimators=500, subsample=0.8; total time= 4.1min\n",
      "[CV] END learning_rate=0.5, max_depth=5, min_child_weight=3, n_estimators=500, subsample=0.8; total time= 4.1min\n",
      "[CV] END learning_rate=0.5, max_depth=10, min_child_weight=1, n_estimators=300, subsample=0.5; total time= 2.6min\n",
      "[CV] END learning_rate=0.5, max_depth=10, min_child_weight=1, n_estimators=300, subsample=0.5; total time= 2.6min\n",
      "[CV] END learning_rate=0.5, max_depth=5, min_child_weight=3, n_estimators=1000, subsample=0.5; total time= 8.5min\n",
      "[CV] END learning_rate=0.5, max_depth=5, min_child_weight=3, n_estimators=1000, subsample=0.5; total time= 8.4min\n",
      "[CV] END learning_rate=0.5, max_depth=10, min_child_weight=1, n_estimators=300, subsample=0.5; total time= 2.7min\n",
      "[CV] END learning_rate=0.5, max_depth=10, min_child_weight=1, n_estimators=300, subsample=0.8; total time= 2.6min\n",
      "[CV] END learning_rate=0.5, max_depth=5, min_child_weight=3, n_estimators=1000, subsample=0.8; total time= 8.1min\n",
      "[CV] END learning_rate=0.5, max_depth=5, min_child_weight=3, n_estimators=1000, subsample=0.5; total time= 8.6min\n",
      "[CV] END learning_rate=0.5, max_depth=10, min_child_weight=1, n_estimators=300, subsample=0.8; total time= 2.5min\n",
      "[CV] END learning_rate=0.5, max_depth=5, min_child_weight=3, n_estimators=1000, subsample=0.8; total time= 8.2min\n",
      "[CV] END learning_rate=0.5, max_depth=5, min_child_weight=3, n_estimators=1000, subsample=0.8; total time= 8.2min\n",
      "[CV] END learning_rate=0.5, max_depth=10, min_child_weight=1, n_estimators=300, subsample=0.8; total time= 2.5min\n",
      "[CV] END learning_rate=0.5, max_depth=10, min_child_weight=1, n_estimators=500, subsample=0.5; total time= 4.1min\n",
      "[CV] END learning_rate=0.5, max_depth=10, min_child_weight=1, n_estimators=500, subsample=0.5; total time= 4.1min\n",
      "[CV] END learning_rate=0.5, max_depth=10, min_child_weight=1, n_estimators=500, subsample=0.5; total time= 4.2min\n",
      "[CV] END learning_rate=0.5, max_depth=10, min_child_weight=1, n_estimators=500, subsample=0.8; total time= 4.2min\n",
      "[CV] END learning_rate=0.5, max_depth=10, min_child_weight=1, n_estimators=500, subsample=0.8; total time= 4.2min\n",
      "[CV] END learning_rate=0.5, max_depth=10, min_child_weight=1, n_estimators=500, subsample=0.8; total time= 4.2min\n",
      "[CV] END learning_rate=0.5, max_depth=10, min_child_weight=3, n_estimators=300, subsample=0.5; total time= 2.7min\n",
      "[CV] END learning_rate=0.5, max_depth=10, min_child_weight=3, n_estimators=300, subsample=0.5; total time= 2.7min\n",
      "[CV] END learning_rate=0.5, max_depth=10, min_child_weight=1, n_estimators=1000, subsample=0.5; total time= 8.5min\n",
      "[CV] END learning_rate=0.5, max_depth=10, min_child_weight=1, n_estimators=1000, subsample=0.5; total time= 8.5min\n",
      "[CV] END learning_rate=0.5, max_depth=10, min_child_weight=3, n_estimators=300, subsample=0.8; total time= 2.5min\n",
      "[CV] END learning_rate=0.5, max_depth=10, min_child_weight=3, n_estimators=300, subsample=0.5; total time= 2.7min\n",
      "[CV] END learning_rate=0.5, max_depth=10, min_child_weight=1, n_estimators=1000, subsample=0.5; total time= 8.4min\n",
      "[CV] END learning_rate=0.5, max_depth=10, min_child_weight=1, n_estimators=1000, subsample=0.8; total time= 8.2min\n",
      "[CV] END learning_rate=0.5, max_depth=10, min_child_weight=3, n_estimators=300, subsample=0.8; total time= 2.5min\n",
      "[CV] END learning_rate=0.5, max_depth=10, min_child_weight=3, n_estimators=300, subsample=0.8; total time= 2.5min\n",
      "[CV] END learning_rate=0.5, max_depth=10, min_child_weight=1, n_estimators=1000, subsample=0.8; total time= 8.1min\n",
      "[CV] END learning_rate=0.5, max_depth=10, min_child_weight=1, n_estimators=1000, subsample=0.8; total time= 8.0min\n",
      "[CV] END learning_rate=0.5, max_depth=10, min_child_weight=3, n_estimators=500, subsample=0.5; total time= 4.3min\n",
      "[CV] END learning_rate=0.5, max_depth=10, min_child_weight=3, n_estimators=500, subsample=0.5; total time= 4.4min\n",
      "[CV] END learning_rate=0.5, max_depth=10, min_child_weight=3, n_estimators=500, subsample=0.8; total time= 4.1min\n",
      "[CV] END learning_rate=0.5, max_depth=10, min_child_weight=3, n_estimators=500, subsample=0.5; total time= 4.3min\n",
      "[CV] END learning_rate=0.5, max_depth=10, min_child_weight=3, n_estimators=500, subsample=0.8; total time= 4.1min\n",
      "[CV] END learning_rate=0.5, max_depth=10, min_child_weight=3, n_estimators=500, subsample=0.8; total time= 4.1min\n",
      "[CV] END learning_rate=0.5, max_depth=10, min_child_weight=3, n_estimators=1000, subsample=0.5; total time= 7.1min\n",
      "[CV] END learning_rate=0.5, max_depth=10, min_child_weight=3, n_estimators=1000, subsample=0.5; total time= 7.0min\n",
      "[CV] END learning_rate=0.5, max_depth=10, min_child_weight=3, n_estimators=1000, subsample=0.8; total time= 6.0min\n",
      "[CV] END learning_rate=0.5, max_depth=10, min_child_weight=3, n_estimators=1000, subsample=0.5; total time= 6.3min\n",
      "[CV] END learning_rate=0.5, max_depth=10, min_child_weight=3, n_estimators=1000, subsample=0.8; total time= 5.8min\n",
      "[CV] END learning_rate=0.5, max_depth=10, min_child_weight=3, n_estimators=1000, subsample=0.8; total time= 5.6min\n"
     ]
    },
    {
     "name": "stderr",
     "output_type": "stream",
     "text": [
      "/opt/homebrew/Caskroom/miniforge/base/envs/fungi_Incognita/lib/python3.11/site-packages/numpy/ma/core.py:2820: RuntimeWarning: invalid value encountered in cast\n",
      "  _data = np.array(data, dtype=dtype, copy=copy,\n"
     ]
    },
    {
     "name": "stdout",
     "output_type": "stream",
     "text": [
      "Best Parameters: {'learning_rate': 0.1, 'max_depth': 2, 'min_child_weight': 1, 'n_estimators': 300, 'subsample': 0.8}\n",
      "Best Cross-Validation Accuracy: 0.9885903312020644\n",
      "Test Set Accuracy: 0.0354\n"
     ]
    }
   ],
   "source": [
    "# from sklearn.model_selection import GridSearchCV\n",
    "# import xgboost as xgb\n",
    "\n",
    "# # Define the parameter grid\n",
    "# param_grid = {\n",
    "#     \"n_estimators\": [300, 500, 1000],\n",
    "#     \"max_depth\": [2, 3, 5, 10],\n",
    "#     \"learning_rate\": [0.01, 0.1, 0.2, 0.5],\n",
    "#     \"subsample\": [0.5, 0.8],\n",
    "#     \"min_child_weight\": [1, 3],\n",
    "# }\n",
    "\n",
    "# # Create the XGBClassifier\n",
    "# xgboost = xgb.XGBClassifier(random_state=42, enable_categorical=True)\n",
    "\n",
    "# # Create the GridSearchCV object\n",
    "# grid_search = GridSearchCV(\n",
    "#     estimator=xgboost,\n",
    "#     param_grid=param_grid,\n",
    "#     scoring=\"accuracy\",  # You can change this to other metrics like \"roc_auc\", \"f1_weighted\", etc.\n",
    "#     cv=3,  # 3-fold cross-validation\n",
    "#     verbose=2,  # Prints progress\n",
    "#     n_jobs=-1,  # Use all available cores\n",
    "# )\n",
    "\n",
    "# # Fit the grid search to the data\n",
    "# grid_search.fit(X_train, y_train_encoded)\n",
    "\n",
    "# # Print the best parameters and the corresponding score\n",
    "# print(\"Best Parameters:\", grid_search.best_params_)\n",
    "# print(\"Best Cross-Validation Accuracy:\", grid_search.best_score_)\n",
    "\n",
    "# # Evaluate on the test set\n",
    "# best_model = grid_search.best_estimator_\n",
    "# test_accuracy = best_model.score(X_test, y_test_encoded)\n",
    "# print(\"Test Set Accuracy: {:.4f}\".format(test_accuracy))"
   ]
  },
  {
   "cell_type": "markdown",
   "metadata": {},
   "source": [
    "```plaintext\n",
    "/opt/homebrew/Caskroom/miniforge/base/envs/fungi_Incognita/lib/python3.11/site-packages/numpy/ma/core.py:2820: RuntimeWarning: invalid value encountered in cast\n",
    "  _data = np.array(data, dtype=dtype, copy=copy,\n",
    "Best Parameters: {'learning_rate': 0.1, 'max_depth': 2, 'min_child_weight': 1, 'n_estimators': 300, 'subsample': 0.8}\n",
    "Best Cross-Validation Accuracy: 0.9885903312020644\n",
    "Test Set Accuracy: 0.0354\n",
    "```"
   ]
  },
  {
   "cell_type": "markdown",
   "metadata": {},
   "source": [
    "## AdaBoostClassifier"
   ]
  },
  {
   "cell_type": "code",
   "execution_count": null,
   "metadata": {},
   "outputs": [
    {
     "name": "stderr",
     "output_type": "stream",
     "text": [
      "/opt/homebrew/Caskroom/miniforge/base/envs/fungi_Incognita/lib/python3.11/site-packages/sklearn/utils/validation.py:1339: DataConversionWarning: A column-vector y was passed when a 1d array was expected. Please change the shape of y to (n_samples, ), for example using ravel().\n",
      "  y = column_or_1d(y, warn=True)\n",
      "/opt/homebrew/Caskroom/miniforge/base/envs/fungi_Incognita/lib/python3.11/site-packages/sklearn/ensemble/_weight_boosting.py:527: FutureWarning: The SAMME.R algorithm (the default) is deprecated and will be removed in 1.6. Use the SAMME algorithm to circumvent this warning.\n",
      "  warnings.warn(\n"
     ]
    }
   ],
   "source": [
    "from sklearn.ensemble import AdaBoostClassifier\n",
    "from sklearn.tree import DecisionTreeClassifier\n",
    "\n",
    "weak_learner = DecisionTreeClassifier(max_leaf_nodes=15)\n",
    "n_estimators = 300\n",
    "\n",
    "adaboost_clf = AdaBoostClassifier(\n",
    "    estimator=weak_learner,\n",
    "    learning_rate=0.5,\n",
    "    n_estimators=n_estimators,\n",
    "    algorithm=\"SAMME\",\n",
    "    random_state=42,\n",
    ").fit(X_train, y_train)\n"
   ]
  },
  {
   "cell_type": "code",
   "execution_count": 77,
   "metadata": {},
   "outputs": [
    {
     "name": "stdout",
     "output_type": "stream",
     "text": [
      "Desicion Tree Misclassification Error: 0.918\n",
      "Dummy Classifier Misclassification Error: 0.996\n"
     ]
    }
   ],
   "source": [
    "from sklearn.dummy import DummyClassifier\n",
    "from sklearn.metrics import accuracy_score\n",
    "\n",
    "dummy_clf = DummyClassifier()\n",
    "\n",
    "def misclassification_error(y_true, y_pred):\n",
    "    return 1 - accuracy_score(y_true, y_pred)\n",
    "\n",
    "\n",
    "weak_learners_misclassification_error = misclassification_error(\n",
    "    y_test, weak_learner.fit(X_train, y_train).predict(X_test)\n",
    "    )\n",
    "\n",
    "dummy_classifiers_misclassification_error = misclassification_error(\n",
    "    y_test, dummy_clf.fit(X_train, y_train).predict(X_test)\n",
    "    )\n",
    "\n",
    "print(\"Desicion Tree Misclassification Error: \"\n",
    "      f\"{weak_learners_misclassification_error:.3f}\"\n",
    "      )\n",
    "print(\"Dummy Classifier Misclassification Error: \"\n",
    "      f\"{dummy_classifiers_misclassification_error:.3f}\"\n",
    "    )"
   ]
  },
  {
   "cell_type": "code",
   "execution_count": 78,
   "metadata": {},
   "outputs": [
    {
     "name": "stderr",
     "output_type": "stream",
     "text": [
      "/opt/homebrew/Caskroom/miniforge/base/envs/fungi_Incognita/lib/python3.11/site-packages/sklearn/base.py:493: UserWarning: X does not have valid feature names, but AdaBoostClassifier was fitted with feature names\n",
      "  warnings.warn(\n"
     ]
    },
    {
     "data": {
      "image/png": "[encoded data removed]",
      "text/plain": [
       "<Figure size 640x480 with 1 Axes>"
      ]
     },
     "metadata": {},
     "output_type": "display_data"
    }
   ],
   "source": [
    "boosting_errors = pd.DataFrame(\n",
    "    {\n",
    "        \"Number of trees\": range(1, n_estimators + 1),\n",
    "        \"AdaBoost\": [\n",
    "            misclassification_error(y_test, y_pred)\n",
    "            for y_pred in adaboost_clf.staged_predict(X_test)\n",
    "        ],\n",
    "    }\n",
    ").set_index(\"Number of trees\")\n",
    "ax = boosting_errors.plot()\n",
    "ax.set_xlabel(\"Number of trees\")\n",
    "ax.set_ylabel(\"Misclassification error on test set\")\n",
    "ax.set_title(\"Convergence of AdaBoost algorithm\")\n",
    "\n",
    "plt.plot(\n",
    "    [boosting_errors.index.min(), boosting_errors.index.max()],\n",
    "    [weak_learners_misclassification_error, weak_learners_misclassification_error],\n",
    "    color=\"tab:orange\",\n",
    "    linestyle=\"dashed\",\n",
    ")\n",
    "plt.plot(\n",
    "    [boosting_errors.index.min(), boosting_errors.index.max()],\n",
    "    [\n",
    "        dummy_classifiers_misclassification_error,\n",
    "        dummy_classifiers_misclassification_error,\n",
    "    ],\n",
    "    color=\"c\",\n",
    "    linestyle=\"dotted\",\n",
    ")\n",
    "plt.legend([\"AdaBoost\", \"Decision Tree\", \"Dummy Classifier\"], loc=1)\n",
    "plt.show();"
   ]
  },
  {
   "cell_type": "code",
   "execution_count": 79,
   "metadata": {},
   "outputs": [
    {
     "name": "stderr",
     "output_type": "stream",
     "text": [
      "/var/folders/r8/zdlnr35s6qz6zx67nmc9bdnm0000gn/T/ipykernel_6798/3078083739.py:17: UserWarning: FigureCanvasAgg is non-interactive, and thus cannot be shown\n",
      "  fig.show();\n"
     ]
    },
    {
     "data": {
      "image/png": "[encoded data removed]",
      "text/plain": [
       "<Figure size 1000x400 with 2 Axes>"
      ]
     },
     "metadata": {},
     "output_type": "display_data"
    }
   ],
   "source": [
    "weak_learners_info = pd.DataFrame(\n",
    "    {\n",
    "        \"Number of trees\": range(1, n_estimators + 1),\n",
    "        \"Errors\": adaboost_clf.estimator_errors_,\n",
    "        \"Weights\": adaboost_clf.estimator_weights_,\n",
    "    }\n",
    ").set_index(\"Number of trees\")\n",
    "\n",
    "axs = weak_learners_info.plot(subplots=True, layout=(1, 2), figsize=(10, 4), legend=False, color=\"tab:blue\")\n",
    "axs[0, 0].set_ylabel(\"Train Error\")\n",
    "axs[0, 0].set_title(\"Weak learner`s training error\")\n",
    "axs[0, 1].set_ylabel(\"Weight\")\n",
    "axs[0, 1].set_title(\"Weak learner`s weight\")\n",
    "fig = axs[0, 0].get_figure()\n",
    "fig.suptitle(\"Weak learner`s errors and weights for the AdaBoostClassifier\")\n",
    "fig.tight_layout()\n",
    "fig.show();"
   ]
  },
  {
   "cell_type": "markdown",
   "metadata": {},
   "source": [
    "Additiv model not working?"
   ]
  },
  {
   "cell_type": "markdown",
   "metadata": {},
   "source": [
    "## HistGradientBoostingRegressor"
   ]
  },
  {
   "cell_type": "code",
   "execution_count": null,
   "metadata": {},
   "outputs": [],
   "source": []
  },
  {
   "cell_type": "markdown",
   "metadata": {},
   "source": [
    "## from scripts"
   ]
  },
  {
   "cell_type": "code",
   "execution_count": 63,
   "metadata": {},
   "outputs": [],
   "source": [
    "X_train, X_test, y_train, y_test, model, y_prob, y_pred = mushroom_class_fix.classify_data(\n",
    "        df_no_missing, mode=\"lda\", encode=True, impute=False\n",
    "    )"
   ]
  },
  {
   "cell_type": "code",
   "execution_count": 64,
   "metadata": {},
   "outputs": [
    {
     "name": "stdout",
     "output_type": "stream",
     "text": [
      "Confusion Matrix:\n",
      "[[66. 13.]\n",
      " [ 0. 68.]]\n"
     ]
    },
    {
     "data": {
      "text/plain": [
       "array([[66., 13.],\n",
       "       [ 0., 68.]])"
      ]
     },
     "execution_count": 64,
     "metadata": {},
     "output_type": "execute_result"
    }
   ],
   "source": [
    "mushroom_class_fix.get_confusion_matrix(y_test, y_pred)"
   ]
  },
  {
   "cell_type": "code",
   "execution_count": 65,
   "metadata": {},
   "outputs": [],
   "source": [
    "# mushroom_class_fix.get_evaluation_scores_dict(y_test, y_pred, average=\"micro\")"
   ]
  },
  {
   "cell_type": "code",
   "execution_count": 66,
   "metadata": {},
   "outputs": [],
   "source": [
    "model = mushroom_class_fix.train_model(X_train, y_train, mode=\"log_reg\")"
   ]
  },
  {
   "cell_type": "code",
   "execution_count": 67,
   "metadata": {},
   "outputs": [],
   "source": [
    "y_prob, y_pred = mushroom_class_fix.get_y_prob_pred(X_test, model)"
   ]
  },
  {
   "cell_type": "code",
   "execution_count": 68,
   "metadata": {},
   "outputs": [
    {
     "name": "stdout",
     "output_type": "stream",
     "text": [
      "Confusion Matrix:\n",
      "[[79.  0.]\n",
      " [ 0. 68.]]\n",
      "Conf.-Mat.: [[79.  0.]\n",
      " [ 0. 68.]]\n"
     ]
    }
   ],
   "source": [
    "print(\"Conf.-Mat.: \" + str(mushroom_class_fix.get_confusion_matrix(y_test, y_pred)))\n"
   ]
  },
  {
   "cell_type": "code",
   "execution_count": 69,
   "metadata": {},
   "outputs": [
    {
     "ename": "ValueError",
     "evalue": "Target is multiclass but average='binary'. Please choose another average setting, one of [None, 'micro', 'macro', 'weighted'].",
     "output_type": "error",
     "traceback": [
      "\u001b[0;31m---------------------------------------------------------------------------\u001b[0m",
      "\u001b[0;31mValueError\u001b[0m                                Traceback (most recent call last)",
      "Cell \u001b[0;32mIn[69], line 1\u001b[0m\n\u001b[0;32m----> 1\u001b[0m \u001b[43mmushroom_class_fix\u001b[49m\u001b[38;5;241;43m.\u001b[39;49m\u001b[43mget_evaluation_scores_dict\u001b[49m\u001b[43m(\u001b[49m\u001b[43my_test\u001b[49m\u001b[43m,\u001b[49m\u001b[43m \u001b[49m\u001b[43my_pred\u001b[49m\u001b[43m)\u001b[49m\n",
      "File \u001b[0;32m~/ML/ML_Zoomcamp2024_hw/fungiIncognita/notebooks/../src/mushroom_class_fix.py:491\u001b[0m, in \u001b[0;36mget_evaluation_scores_dict\u001b[0;34m(y_test, y_pred, **kwargs)\u001b[0m\n\u001b[1;32m    489\u001b[0m     kwargs[\u001b[38;5;124m\"\u001b[39m\u001b[38;5;124maverage\u001b[39m\u001b[38;5;124m\"\u001b[39m] \u001b[38;5;241m=\u001b[39m \u001b[38;5;28;01mNone\u001b[39;00m\n\u001b[1;32m    490\u001b[0m accuracy \u001b[38;5;241m=\u001b[39m \u001b[38;5;28mround\u001b[39m(metrics\u001b[38;5;241m.\u001b[39maccuracy_score(y_test, y_pred), kwargs[\u001b[38;5;124m\"\u001b[39m\u001b[38;5;124mround\u001b[39m\u001b[38;5;124m\"\u001b[39m])\n\u001b[0;32m--> 491\u001b[0m precision \u001b[38;5;241m=\u001b[39m \u001b[38;5;28mround\u001b[39m(\u001b[43mmetrics\u001b[49m\u001b[38;5;241;43m.\u001b[39;49m\u001b[43mprecision_score\u001b[49m\u001b[43m(\u001b[49m\u001b[43my_test\u001b[49m\u001b[43m,\u001b[49m\u001b[43m \u001b[49m\u001b[43my_pred\u001b[49m\u001b[43m)\u001b[49m, kwargs[\u001b[38;5;124m\"\u001b[39m\u001b[38;5;124mround\u001b[39m\u001b[38;5;124m\"\u001b[39m])\n\u001b[1;32m    492\u001b[0m recall \u001b[38;5;241m=\u001b[39m \u001b[38;5;28mround\u001b[39m(metrics\u001b[38;5;241m.\u001b[39mrecall_score(y_test, y_pred), kwargs[\u001b[38;5;124m\"\u001b[39m\u001b[38;5;124mround\u001b[39m\u001b[38;5;124m\"\u001b[39m])\n\u001b[1;32m    493\u001b[0m f_beta \u001b[38;5;241m=\u001b[39m \u001b[38;5;28mround\u001b[39m(\n\u001b[1;32m    494\u001b[0m     metrics\u001b[38;5;241m.\u001b[39mfbeta_score(y_test, y_pred, beta\u001b[38;5;241m=\u001b[39mkwargs[\u001b[38;5;124m\"\u001b[39m\u001b[38;5;124mbeta\u001b[39m\u001b[38;5;124m\"\u001b[39m]), kwargs[\u001b[38;5;124m\"\u001b[39m\u001b[38;5;124mround\u001b[39m\u001b[38;5;124m\"\u001b[39m]\n\u001b[1;32m    495\u001b[0m )\n",
      "File \u001b[0;32m/opt/homebrew/Caskroom/miniforge/base/envs/fungi_Incognita/lib/python3.11/site-packages/sklearn/utils/_param_validation.py:213\u001b[0m, in \u001b[0;36mvalidate_params.<locals>.decorator.<locals>.wrapper\u001b[0;34m(*args, **kwargs)\u001b[0m\n\u001b[1;32m    207\u001b[0m \u001b[38;5;28;01mtry\u001b[39;00m:\n\u001b[1;32m    208\u001b[0m     \u001b[38;5;28;01mwith\u001b[39;00m config_context(\n\u001b[1;32m    209\u001b[0m         skip_parameter_validation\u001b[38;5;241m=\u001b[39m(\n\u001b[1;32m    210\u001b[0m             prefer_skip_nested_validation \u001b[38;5;129;01mor\u001b[39;00m global_skip_validation\n\u001b[1;32m    211\u001b[0m         )\n\u001b[1;32m    212\u001b[0m     ):\n\u001b[0;32m--> 213\u001b[0m         \u001b[38;5;28;01mreturn\u001b[39;00m \u001b[43mfunc\u001b[49m\u001b[43m(\u001b[49m\u001b[38;5;241;43m*\u001b[39;49m\u001b[43margs\u001b[49m\u001b[43m,\u001b[49m\u001b[43m \u001b[49m\u001b[38;5;241;43m*\u001b[39;49m\u001b[38;5;241;43m*\u001b[39;49m\u001b[43mkwargs\u001b[49m\u001b[43m)\u001b[49m\n\u001b[1;32m    214\u001b[0m \u001b[38;5;28;01mexcept\u001b[39;00m InvalidParameterError \u001b[38;5;28;01mas\u001b[39;00m e:\n\u001b[1;32m    215\u001b[0m     \u001b[38;5;66;03m# When the function is just a wrapper around an estimator, we allow\u001b[39;00m\n\u001b[1;32m    216\u001b[0m     \u001b[38;5;66;03m# the function to delegate validation to the estimator, but we replace\u001b[39;00m\n\u001b[1;32m    217\u001b[0m     \u001b[38;5;66;03m# the name of the estimator by the name of the function in the error\u001b[39;00m\n\u001b[1;32m    218\u001b[0m     \u001b[38;5;66;03m# message to avoid confusion.\u001b[39;00m\n\u001b[1;32m    219\u001b[0m     msg \u001b[38;5;241m=\u001b[39m re\u001b[38;5;241m.\u001b[39msub(\n\u001b[1;32m    220\u001b[0m         \u001b[38;5;124mr\u001b[39m\u001b[38;5;124m\"\u001b[39m\u001b[38;5;124mparameter of \u001b[39m\u001b[38;5;124m\\\u001b[39m\u001b[38;5;124mw+ must be\u001b[39m\u001b[38;5;124m\"\u001b[39m,\n\u001b[1;32m    221\u001b[0m         \u001b[38;5;124mf\u001b[39m\u001b[38;5;124m\"\u001b[39m\u001b[38;5;124mparameter of \u001b[39m\u001b[38;5;132;01m{\u001b[39;00mfunc\u001b[38;5;241m.\u001b[39m\u001b[38;5;18m__qualname__\u001b[39m\u001b[38;5;132;01m}\u001b[39;00m\u001b[38;5;124m must be\u001b[39m\u001b[38;5;124m\"\u001b[39m,\n\u001b[1;32m    222\u001b[0m         \u001b[38;5;28mstr\u001b[39m(e),\n\u001b[1;32m    223\u001b[0m     )\n",
      "File \u001b[0;32m/opt/homebrew/Caskroom/miniforge/base/envs/fungi_Incognita/lib/python3.11/site-packages/sklearn/metrics/_classification.py:2204\u001b[0m, in \u001b[0;36mprecision_score\u001b[0;34m(y_true, y_pred, labels, pos_label, average, sample_weight, zero_division)\u001b[0m\n\u001b[1;32m   2037\u001b[0m \u001b[38;5;129m@validate_params\u001b[39m(\n\u001b[1;32m   2038\u001b[0m     {\n\u001b[1;32m   2039\u001b[0m         \u001b[38;5;124m\"\u001b[39m\u001b[38;5;124my_true\u001b[39m\u001b[38;5;124m\"\u001b[39m: [\u001b[38;5;124m\"\u001b[39m\u001b[38;5;124marray-like\u001b[39m\u001b[38;5;124m\"\u001b[39m, \u001b[38;5;124m\"\u001b[39m\u001b[38;5;124msparse matrix\u001b[39m\u001b[38;5;124m\"\u001b[39m],\n\u001b[0;32m   (...)\u001b[0m\n\u001b[1;32m   2064\u001b[0m     zero_division\u001b[38;5;241m=\u001b[39m\u001b[38;5;124m\"\u001b[39m\u001b[38;5;124mwarn\u001b[39m\u001b[38;5;124m\"\u001b[39m,\n\u001b[1;32m   2065\u001b[0m ):\n\u001b[1;32m   2066\u001b[0m \u001b[38;5;250m    \u001b[39m\u001b[38;5;124;03m\"\"\"Compute the precision.\u001b[39;00m\n\u001b[1;32m   2067\u001b[0m \n\u001b[1;32m   2068\u001b[0m \u001b[38;5;124;03m    The precision is the ratio ``tp / (tp + fp)`` where ``tp`` is the number of\u001b[39;00m\n\u001b[0;32m   (...)\u001b[0m\n\u001b[1;32m   2202\u001b[0m \u001b[38;5;124;03m    array([0.5, 1. , 1. ])\u001b[39;00m\n\u001b[1;32m   2203\u001b[0m \u001b[38;5;124;03m    \"\"\"\u001b[39;00m\n\u001b[0;32m-> 2204\u001b[0m     p, _, _, _ \u001b[38;5;241m=\u001b[39m \u001b[43mprecision_recall_fscore_support\u001b[49m\u001b[43m(\u001b[49m\n\u001b[1;32m   2205\u001b[0m \u001b[43m        \u001b[49m\u001b[43my_true\u001b[49m\u001b[43m,\u001b[49m\n\u001b[1;32m   2206\u001b[0m \u001b[43m        \u001b[49m\u001b[43my_pred\u001b[49m\u001b[43m,\u001b[49m\n\u001b[1;32m   2207\u001b[0m \u001b[43m        \u001b[49m\u001b[43mlabels\u001b[49m\u001b[38;5;241;43m=\u001b[39;49m\u001b[43mlabels\u001b[49m\u001b[43m,\u001b[49m\n\u001b[1;32m   2208\u001b[0m \u001b[43m        \u001b[49m\u001b[43mpos_label\u001b[49m\u001b[38;5;241;43m=\u001b[39;49m\u001b[43mpos_label\u001b[49m\u001b[43m,\u001b[49m\n\u001b[1;32m   2209\u001b[0m \u001b[43m        \u001b[49m\u001b[43maverage\u001b[49m\u001b[38;5;241;43m=\u001b[39;49m\u001b[43maverage\u001b[49m\u001b[43m,\u001b[49m\n\u001b[1;32m   2210\u001b[0m \u001b[43m        \u001b[49m\u001b[43mwarn_for\u001b[49m\u001b[38;5;241;43m=\u001b[39;49m\u001b[43m(\u001b[49m\u001b[38;5;124;43m\"\u001b[39;49m\u001b[38;5;124;43mprecision\u001b[39;49m\u001b[38;5;124;43m\"\u001b[39;49m\u001b[43m,\u001b[49m\u001b[43m)\u001b[49m\u001b[43m,\u001b[49m\n\u001b[1;32m   2211\u001b[0m \u001b[43m        \u001b[49m\u001b[43msample_weight\u001b[49m\u001b[38;5;241;43m=\u001b[39;49m\u001b[43msample_weight\u001b[49m\u001b[43m,\u001b[49m\n\u001b[1;32m   2212\u001b[0m \u001b[43m        \u001b[49m\u001b[43mzero_division\u001b[49m\u001b[38;5;241;43m=\u001b[39;49m\u001b[43mzero_division\u001b[49m\u001b[43m,\u001b[49m\n\u001b[1;32m   2213\u001b[0m \u001b[43m    \u001b[49m\u001b[43m)\u001b[49m\n\u001b[1;32m   2214\u001b[0m     \u001b[38;5;28;01mreturn\u001b[39;00m p\n",
      "File \u001b[0;32m/opt/homebrew/Caskroom/miniforge/base/envs/fungi_Incognita/lib/python3.11/site-packages/sklearn/utils/_param_validation.py:186\u001b[0m, in \u001b[0;36mvalidate_params.<locals>.decorator.<locals>.wrapper\u001b[0;34m(*args, **kwargs)\u001b[0m\n\u001b[1;32m    184\u001b[0m global_skip_validation \u001b[38;5;241m=\u001b[39m get_config()[\u001b[38;5;124m\"\u001b[39m\u001b[38;5;124mskip_parameter_validation\u001b[39m\u001b[38;5;124m\"\u001b[39m]\n\u001b[1;32m    185\u001b[0m \u001b[38;5;28;01mif\u001b[39;00m global_skip_validation:\n\u001b[0;32m--> 186\u001b[0m     \u001b[38;5;28;01mreturn\u001b[39;00m \u001b[43mfunc\u001b[49m\u001b[43m(\u001b[49m\u001b[38;5;241;43m*\u001b[39;49m\u001b[43margs\u001b[49m\u001b[43m,\u001b[49m\u001b[43m \u001b[49m\u001b[38;5;241;43m*\u001b[39;49m\u001b[38;5;241;43m*\u001b[39;49m\u001b[43mkwargs\u001b[49m\u001b[43m)\u001b[49m\n\u001b[1;32m    188\u001b[0m func_sig \u001b[38;5;241m=\u001b[39m signature(func)\n\u001b[1;32m    190\u001b[0m \u001b[38;5;66;03m# Map *args/**kwargs to the function signature\u001b[39;00m\n",
      "File \u001b[0;32m/opt/homebrew/Caskroom/miniforge/base/envs/fungi_Incognita/lib/python3.11/site-packages/sklearn/metrics/_classification.py:1789\u001b[0m, in \u001b[0;36mprecision_recall_fscore_support\u001b[0;34m(y_true, y_pred, beta, labels, pos_label, average, warn_for, sample_weight, zero_division)\u001b[0m\n\u001b[1;32m   1626\u001b[0m \u001b[38;5;250m\u001b[39m\u001b[38;5;124;03m\"\"\"Compute precision, recall, F-measure and support for each class.\u001b[39;00m\n\u001b[1;32m   1627\u001b[0m \n\u001b[1;32m   1628\u001b[0m \u001b[38;5;124;03mThe precision is the ratio ``tp / (tp + fp)`` where ``tp`` is the number of\u001b[39;00m\n\u001b[0;32m   (...)\u001b[0m\n\u001b[1;32m   1786\u001b[0m \u001b[38;5;124;03m array([2, 2, 2]))\u001b[39;00m\n\u001b[1;32m   1787\u001b[0m \u001b[38;5;124;03m\"\"\"\u001b[39;00m\n\u001b[1;32m   1788\u001b[0m _check_zero_division(zero_division)\n\u001b[0;32m-> 1789\u001b[0m labels \u001b[38;5;241m=\u001b[39m \u001b[43m_check_set_wise_labels\u001b[49m\u001b[43m(\u001b[49m\u001b[43my_true\u001b[49m\u001b[43m,\u001b[49m\u001b[43m \u001b[49m\u001b[43my_pred\u001b[49m\u001b[43m,\u001b[49m\u001b[43m \u001b[49m\u001b[43maverage\u001b[49m\u001b[43m,\u001b[49m\u001b[43m \u001b[49m\u001b[43mlabels\u001b[49m\u001b[43m,\u001b[49m\u001b[43m \u001b[49m\u001b[43mpos_label\u001b[49m\u001b[43m)\u001b[49m\n\u001b[1;32m   1791\u001b[0m \u001b[38;5;66;03m# Calculate tp_sum, pred_sum, true_sum ###\u001b[39;00m\n\u001b[1;32m   1792\u001b[0m samplewise \u001b[38;5;241m=\u001b[39m average \u001b[38;5;241m==\u001b[39m \u001b[38;5;124m\"\u001b[39m\u001b[38;5;124msamples\u001b[39m\u001b[38;5;124m\"\u001b[39m\n",
      "File \u001b[0;32m/opt/homebrew/Caskroom/miniforge/base/envs/fungi_Incognita/lib/python3.11/site-packages/sklearn/metrics/_classification.py:1578\u001b[0m, in \u001b[0;36m_check_set_wise_labels\u001b[0;34m(y_true, y_pred, average, labels, pos_label)\u001b[0m\n\u001b[1;32m   1576\u001b[0m         \u001b[38;5;28;01mif\u001b[39;00m y_type \u001b[38;5;241m==\u001b[39m \u001b[38;5;124m\"\u001b[39m\u001b[38;5;124mmulticlass\u001b[39m\u001b[38;5;124m\"\u001b[39m:\n\u001b[1;32m   1577\u001b[0m             average_options\u001b[38;5;241m.\u001b[39mremove(\u001b[38;5;124m\"\u001b[39m\u001b[38;5;124msamples\u001b[39m\u001b[38;5;124m\"\u001b[39m)\n\u001b[0;32m-> 1578\u001b[0m         \u001b[38;5;28;01mraise\u001b[39;00m \u001b[38;5;167;01mValueError\u001b[39;00m(\n\u001b[1;32m   1579\u001b[0m             \u001b[38;5;124m\"\u001b[39m\u001b[38;5;124mTarget is \u001b[39m\u001b[38;5;132;01m%s\u001b[39;00m\u001b[38;5;124m but average=\u001b[39m\u001b[38;5;124m'\u001b[39m\u001b[38;5;124mbinary\u001b[39m\u001b[38;5;124m'\u001b[39m\u001b[38;5;124m. Please \u001b[39m\u001b[38;5;124m\"\u001b[39m\n\u001b[1;32m   1580\u001b[0m             \u001b[38;5;124m\"\u001b[39m\u001b[38;5;124mchoose another average setting, one of \u001b[39m\u001b[38;5;132;01m%r\u001b[39;00m\u001b[38;5;124m.\u001b[39m\u001b[38;5;124m\"\u001b[39m \u001b[38;5;241m%\u001b[39m (y_type, average_options)\n\u001b[1;32m   1581\u001b[0m         )\n\u001b[1;32m   1582\u001b[0m \u001b[38;5;28;01melif\u001b[39;00m pos_label \u001b[38;5;129;01mnot\u001b[39;00m \u001b[38;5;129;01min\u001b[39;00m (\u001b[38;5;28;01mNone\u001b[39;00m, \u001b[38;5;241m1\u001b[39m):\n\u001b[1;32m   1583\u001b[0m     warnings\u001b[38;5;241m.\u001b[39mwarn(\n\u001b[1;32m   1584\u001b[0m         \u001b[38;5;124m\"\u001b[39m\u001b[38;5;124mNote that pos_label (set to \u001b[39m\u001b[38;5;132;01m%r\u001b[39;00m\u001b[38;5;124m) is ignored when \u001b[39m\u001b[38;5;124m\"\u001b[39m\n\u001b[1;32m   1585\u001b[0m         \u001b[38;5;124m\"\u001b[39m\u001b[38;5;124maverage != \u001b[39m\u001b[38;5;124m'\u001b[39m\u001b[38;5;124mbinary\u001b[39m\u001b[38;5;124m'\u001b[39m\u001b[38;5;124m (got \u001b[39m\u001b[38;5;132;01m%r\u001b[39;00m\u001b[38;5;124m). You may use \u001b[39m\u001b[38;5;124m\"\u001b[39m\n\u001b[0;32m   (...)\u001b[0m\n\u001b[1;32m   1588\u001b[0m         \u001b[38;5;167;01mUserWarning\u001b[39;00m,\n\u001b[1;32m   1589\u001b[0m     )\n",
      "\u001b[0;31mValueError\u001b[0m: Target is multiclass but average='binary'. Please choose another average setting, one of [None, 'micro', 'macro', 'weighted']."
     ]
    }
   ],
   "source": [
    "mushroom_class_fix.get_evaluation_scores_dict(y_test, y_pred)"
   ]
  },
  {
   "cell_type": "code",
   "execution_count": null,
   "metadata": {},
   "outputs": [],
   "source": []
  }
 ],
 "metadata": {
  "kernelspec": {
   "display_name": "fungi_Incognita",
   "language": "python",
   "name": "python3"
  },
  "language_info": {
   "codemirror_mode": {
    "name": "ipython",
    "version": 3
   },
   "file_extension": ".py",
   "mimetype": "text/x-python",
   "name": "python",
   "nbconvert_exporter": "python",
   "pygments_lexer": "ipython3",
   "version": "3.11.10"
  }
 },
 "nbformat": 4,
 "nbformat_minor": 2
}
