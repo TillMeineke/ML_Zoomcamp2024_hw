{
 "cells": [
  {
   "cell_type": "code",
   "execution_count": 1,
   "metadata": {},
   "outputs": [
    {
     "name": "stdout",
     "output_type": "stream",
     "text": [
      "Python 3.11.10\n"
     ]
    }
   ],
   "source": [
    "!python -V"
   ]
  },
  {
   "cell_type": "code",
   "execution_count": 26,
   "metadata": {},
   "outputs": [],
   "source": [
    "import pandas as pd\n",
    "import numpy as np\n",
    "from sklearn.model_selection import train_test_split\n",
    "from sklearn.feature_extraction import DictVectorizer\n",
    "from sklearn.tree import DecisionTreeClassifier"
   ]
  },
  {
   "cell_type": "code",
   "execution_count": 3,
   "metadata": {},
   "outputs": [
    {
     "data": {
      "text/plain": [
       "<Experiment: artifact_location='/Users/tillmeineke/ML/ML_Zoomcamp2024_hw/fungiIncognita/notebooks/mlruns/1', creation_time=1733079958846, experiment_id='1', last_update_time=1733079958846, lifecycle_stage='active', name='fungi-incognita-experiment', tags={}>"
      ]
     },
     "execution_count": 3,
     "metadata": {},
     "output_type": "execute_result"
    }
   ],
   "source": [
    "import mlflow\n",
    "\n",
    "mlflow.set_tracking_uri(\"sqlite:///mlflow.db\")\n",
    "mlflow.set_experiment(\"fungi-incognita-experiment\")"
   ]
  },
  {
   "cell_type": "code",
   "execution_count": 4,
   "metadata": {},
   "outputs": [],
   "source": [
    "# load the data\n",
    "df = pd.read_csv(\"../data/secondary_data_generated_with_names.csv\", sep=\";\")\n",
    "\n",
    "# shuffle the data\n",
    "df = df.sample(frac=1, random_state=42).reset_index(drop=True)\n",
    "\n",
    "# drop columns with missing values\n",
    "df_no_missing = df.dropna(axis=1, inplace=False)\n",
    "df_no_missing = df_no_missing.drop(columns=[\"family\"], inplace=False)\n",
    "df_no_missing = df_no_missing.drop(columns=[\"class\"], inplace=False)"
   ]
  },
  {
   "cell_type": "code",
   "execution_count": 5,
   "metadata": {},
   "outputs": [],
   "source": [
    "df_full_train, df_test = train_test_split(\n",
    "    df_no_missing, test_size=0.2, random_state=42, stratify=df_no_missing[\"name\"]\n",
    ")\n",
    "df_train, df_val = train_test_split(\n",
    "    df_full_train, test_size=0.25, random_state=42, stratify=df_full_train[\"name\"]\n",
    ")\n",
    "\n",
    "df_train = df_train.reset_index(drop=True)\n",
    "df_val = df_val.reset_index(drop=True)\n",
    "df_test = df_test.reset_index(drop=True)\n",
    "\n",
    "y_train = df_train.name.values\n",
    "y_val = df_val.name.values\n",
    "y_test = df_test.name.values\n",
    "\n",
    "del df_train[\"name\"]\n",
    "del df_val[\"name\"]\n",
    "del df_test[\"name\"]"
   ]
  },
  {
   "cell_type": "code",
   "execution_count": 40,
   "metadata": {},
   "outputs": [],
   "source": [
    "cat_features = [\n",
    "    #    \"family\",\n",
    "    #    \"class\",\n",
    "    \"cap-shape\",\n",
    "    \"cap-color\",\n",
    "#    \"does-bruise-or-bleed\",\n",
    "    \"gill-color\",\n",
    "    \"stem-color\",\n",
    "#    \"has-ring\",\n",
    "    \"habitat\",\n",
    "    \"season\",\n",
    "]"
   ]
  },
  {
   "cell_type": "code",
   "execution_count": 41,
   "metadata": {},
   "outputs": [],
   "source": [
    "num_features = [\n",
    "    \"cap-diameter\",\n",
    "    \"stem-height\",\n",
    "    \"stem-width\",\n",
    "]"
   ]
  },
  {
   "cell_type": "code",
   "execution_count": 42,
   "metadata": {},
   "outputs": [],
   "source": [
    "dv = DictVectorizer(sparse=False)\n",
    "\n",
    "# Convert categorical features to dictionary format\n",
    "train_dicts = df_train[cat_features + num_features].to_dict(orient=\"records\")\n",
    "X_train = dv.fit_transform(train_dicts)\n",
    "\n",
    "val_dicts = df_val[cat_features + num_features].to_dict(orient=\"records\")\n",
    "X_val = dv.transform(val_dicts)\n"
   ]
  },
  {
   "cell_type": "code",
   "execution_count": 43,
   "metadata": {},
   "outputs": [
    {
     "data": {
      "text/plain": [
       "array(['cap-color=b', 'cap-color=e', 'cap-color=g', 'cap-color=k',\n",
       "       'cap-color=l', 'cap-color=n', 'cap-color=o', 'cap-color=p',\n",
       "       'cap-color=r', 'cap-color=u', 'cap-color=w', 'cap-color=y',\n",
       "       'cap-diameter', 'cap-shape=b', 'cap-shape=c', 'cap-shape=f',\n",
       "       'cap-shape=o', 'cap-shape=p', 'cap-shape=s', 'cap-shape=x',\n",
       "       'gill-color=b', 'gill-color=e', 'gill-color=f', 'gill-color=g',\n",
       "       'gill-color=k', 'gill-color=n', 'gill-color=o', 'gill-color=p',\n",
       "       'gill-color=r', 'gill-color=u', 'gill-color=w', 'gill-color=y',\n",
       "       'habitat=d', 'habitat=g', 'habitat=h', 'habitat=l', 'habitat=m',\n",
       "       'habitat=p', 'habitat=u', 'habitat=w', 'season=a', 'season=s',\n",
       "       'season=u', 'season=w', 'stem-color=b', 'stem-color=e',\n",
       "       'stem-color=f', 'stem-color=g', 'stem-color=k', 'stem-color=l',\n",
       "       'stem-color=n', 'stem-color=o', 'stem-color=p', 'stem-color=r',\n",
       "       'stem-color=u', 'stem-color=w', 'stem-color=y', 'stem-height',\n",
       "       'stem-width'], dtype=object)"
      ]
     },
     "execution_count": 43,
     "metadata": {},
     "output_type": "execute_result"
    }
   ],
   "source": [
    "dv.get_feature_names_out()"
   ]
  },
  {
   "cell_type": "code",
   "execution_count": 44,
   "metadata": {},
   "outputs": [],
   "source": [
    "with mlflow.start_run():\n",
    "    dt_model = DecisionTreeClassifier()\n",
    "    dt_model.fit(X_train, y_train)\n",
    "\n",
    "    y_pred = dt_model.predict(X_val)\n",
    "\n",
    "    accuracy = (y_pred == y_val).mean()"
   ]
  },
  {
   "cell_type": "code",
   "execution_count": 45,
   "metadata": {},
   "outputs": [
    {
     "name": "stdout",
     "output_type": "stream",
     "text": [
      "Score: 0.9435074504666776\n"
     ]
    },
    {
     "name": "stderr",
     "output_type": "stream",
     "text": [
      "/opt/homebrew/Caskroom/miniforge/base/envs/fungi_Incognita/lib/python3.11/site-packages/sklearn/multiclass.py:551: RuntimeWarning: invalid value encountered in divide\n",
      "  Y /= np.sum(Y, axis=1)[:, np.newaxis]\n"
     ]
    }
   ],
   "source": [
    "from sklearn.multiclass import OneVsRestClassifier\n",
    "from sklearn.metrics import accuracy_score, roc_auc_score, classification_report\n",
    "\n",
    "ovr_clf = OneVsRestClassifier(DecisionTreeClassifier(random_state=42)).fit(X_train, y_train)\n",
    "predictions = ovr_clf.predict(X_val)\n",
    "pred_probas = ovr_clf.predict_proba(X_val)\n",
    "score = ovr_clf.score(X_val, y_val)\n",
    "\n",
    "print(f\"Score: {score}\")"
   ]
  },
  {
   "cell_type": "code",
   "execution_count": 46,
   "metadata": {},
   "outputs": [
    {
     "name": "stdout",
     "output_type": "stream",
     "text": [
      "                          precision    recall  f1-score   support\n",
      "\n",
      "       Amethyst Deceiver       1.00      0.96      0.98        70\n",
      "      Aniseed Funnel Cap       1.00      1.00      1.00        71\n",
      "          Apricot Fungus       1.00      0.99      0.99        71\n",
      "    Bare-toothed Russula       0.88      0.90      0.89        71\n",
      "              Bay Bolete       1.00      0.99      0.99        71\n",
      "      Beechwood Sickener       1.00      0.99      0.99        70\n",
      "           Birch Russula       1.00      1.00      1.00        71\n",
      "           Bitter Bolete       1.00      0.89      0.94        70\n",
      "      Blackening Russula       1.00      0.90      0.95        70\n",
      "      Blackening Wax Cap       1.00      0.92      0.96        71\n",
      " Blackish Purple Russula       1.00      0.97      0.99        70\n",
      " Bleeding Brown Mushroom       1.00      0.99      0.99        71\n",
      "   Blood-red Cortinarius       1.00      1.00      1.00        71\n",
      "           Blue Leptonia       1.00      0.99      0.99        70\n",
      "         Bonnet Bell Cap       1.00      0.94      0.97        70\n",
      "Branched Oyster Mushroom       1.00      1.00      1.00        71\n",
      "              Brick Caps       0.94      0.83      0.88        71\n",
      "          Brown Bell Cap       1.00      0.99      0.99        70\n",
      "      Brown Birch Bolete       1.00      0.99      0.99        71\n",
      "            Brown Goblet       1.00      0.97      0.99        71\n",
      "          Brown Roll-rim       1.00      0.90      0.95        70\n",
      "       Brown Stew Fungus       0.88      0.74      0.81        70\n",
      "    Bulbous Honey Fungus       1.00      0.97      0.99        71\n",
      "                     Cep       1.00      0.97      0.99        70\n",
      "  Changeable Melanoleuca       0.90      0.79      0.84        71\n",
      "             Chanterelle       1.00      0.94      0.97        70\n",
      "       Charcoal Pholiota       0.97      0.89      0.93        71\n",
      "          Clouded Agaric       1.00      0.89      0.94        71\n",
      "  Club-footed Funnel Cap       0.90      0.85      0.87        71\n",
      "     Clustered Brown Cap       0.98      0.77      0.87        71\n",
      "   Clustered Tough Shank       0.98      0.85      0.91        71\n",
      "Coconut-scented Milk Cap       1.00      0.92      0.96        71\n",
      "      Common Crumble Cap       0.95      0.87      0.91        71\n",
      "       Common Funnel Cap       1.00      1.00      1.00        70\n",
      "          Common Ink Cap       1.00      0.91      0.96        70\n",
      "            Common Morel       1.00      0.96      0.98        70\n",
      "    Common White Inocybe       1.00      0.94      0.97        71\n",
      "   Common Yellow Russula       1.00      0.89      0.94        70\n",
      "    Crab-scented Russula       0.99      0.93      0.96        71\n",
      "     Cultivated Mushroom       1.00      1.00      1.00        70\n",
      "   Dark-centred Hebeloma       1.00      0.93      0.96        71\n",
      "               Death Cap       1.00      0.94      0.97        71\n",
      "        Destroying Angel       1.00      0.99      0.99        71\n",
      "   Dotted-stemmed Bolete       1.00      1.00      1.00        71\n",
      "          Dryad's Saddle       1.00      0.97      0.99        70\n",
      "          Dung Roundhead       1.00      0.99      0.99        71\n",
      "         Ear-pick Fungus       1.00      1.00      1.00        71\n",
      "         Egg Yolk Fungus       1.00      0.99      0.99        70\n",
      "     Egg-shell Toadstool       1.00      1.00      1.00        70\n",
      "          Elfin's Saddle       1.00      1.00      1.00        70\n",
      "        Fairies' Bonnets       1.00      0.96      0.98        70\n",
      "           Fairy Parasol       1.00      1.00      1.00        71\n",
      "   Fairy Ring Champignon       1.00      1.00      1.00        70\n",
      "       False Chanterelle       1.00      1.00      1.00        71\n",
      "         False Death Cap       0.99      0.99      0.99        70\n",
      "       False Panther Cap       0.98      0.92      0.95        71\n",
      "            Fawn Pluteus       0.87      0.76      0.81        71\n",
      "            Field Blewit       1.00      0.99      0.99        70\n",
      "          Field Mushroom       1.00      0.96      0.98        71\n",
      "         Fleecy Milk Cap       0.97      0.87      0.92        70\n",
      "              Fly Agaric       1.00      1.00      1.00        71\n",
      "         Fragile Russula       0.99      0.99      0.99        70\n",
      "          Fuzzy Polypore       0.95      0.90      0.93        70\n",
      "Geranium-scented Russula       0.87      0.64      0.74        70\n",
      "      Glistening Ink Cap       1.00      1.00      1.00        71\n",
      "     Grass-green Russula       0.99      0.97      0.98        71\n",
      "      Greasy Tough Shank       0.97      0.96      0.96        71\n",
      "         Grey Tricholoma       1.00      0.99      0.99        71\n",
      "           Hairy Stereum       0.91      0.90      0.91        71\n",
      "                 Hay Cap       1.00      1.00      1.00        71\n",
      "         Hedgehog Fungus       1.00      1.00      1.00        70\n",
      "        Herald of Winter       1.00      0.99      0.99        70\n",
      "            Honey Fungus       0.97      0.90      0.93        70\n",
      "          Horn of Plenty       1.00      0.96      0.98        71\n",
      "          Horse Mushroom       0.99      1.00      0.99        70\n",
      "       Horse-hair Fungus       1.00      1.00      1.00        71\n",
      "         Ivory Clitocybe       1.00      0.97      0.99        71\n",
      "           Ivory Wax Cap       0.97      0.99      0.98        70\n",
      "            Jelly Babies       1.00      1.00      1.00        71\n",
      "            Larch Bolete       0.84      0.61      0.71        70\n",
      "          Lilac Bell Cap       1.00      1.00      1.00        70\n",
      "     Little Wheel Fungus       1.00      1.00      1.00        71\n",
      "          Livid Entoloma       0.99      0.94      0.96        71\n",
      "            Lurid Bolete       1.00      0.99      0.99        70\n",
      "          Magic Mushroom       0.99      0.99      0.99        71\n",
      "          Magpie Ink Cap       0.99      0.99      0.99        71\n",
      "          Meadow Wax Cap       1.00      0.94      0.97        70\n",
      "          Milky Bell Cap       1.00      1.00      1.00        70\n",
      "           Moss Pixy Cap       1.00      1.00      1.00        71\n",
      "            Oak Milk Cap       0.87      0.75      0.80        71\n",
      "    Olive-brown Panellus       1.00      1.00      1.00        71\n",
      "         Orange Bell Cap       1.00      1.00      1.00        70\n",
      "     Orange Birch Bolete       0.99      0.99      0.99        70\n",
      "      Orange Moss Agaric       1.00      0.99      0.99        71\n",
      "      Orange-red Wax Cap       1.00      0.99      0.99        70\n",
      "         Oyster Mushroom       1.00      0.96      0.98        71\n",
      "             Panther Cap       0.76      0.79      0.77        70\n",
      "        Parasitic Bolete       0.92      0.97      0.95        71\n",
      "        Parasol Mushroom       1.00      0.99      0.99        71\n",
      "          Parrot Wax Cap       1.00      0.94      0.97        71\n",
      "          Peppery Bolete       1.00      0.99      0.99        71\n",
      "        Peppery Milk Cap       0.96      0.99      0.97        71\n",
      "        Petticoat Fungus       1.00      0.96      0.98        71\n",
      "       Plums and custard       0.91      0.90      0.91        71\n",
      "              Poison Pie       0.97      0.93      0.95        71\n",
      "      Porcelain Mushroom       0.97      0.97      0.97        70\n",
      "      Purple Cortinarius       0.97      0.94      0.96        71\n",
      "  Red-banded Cortinarius       0.99      0.97      0.98        70\n",
      "      Red-cracked Bolete       0.91      0.87      0.89        71\n",
      "    Red-staining Inocybe       1.00      0.99      0.99        70\n",
      "           Rooting Shank       0.99      1.00      0.99        70\n",
      "         Rufous Milk Cap       0.91      0.82      0.86        71\n",
      "      Russet Tough Shank       1.00      0.96      0.98        70\n",
      "    Rusty Carpet Ink Cap       1.00      0.99      0.99        71\n",
      "       Rusty Wood Rotter       0.90      0.87      0.89        71\n",
      "        Saffron Milk Cap       1.00      1.00      1.00        71\n",
      "         Saffron Parasol       1.00      0.96      0.98        70\n",
      "        Scaly Tricholoma       0.92      0.96      0.94        70\n",
      "            Scarlet Hood       0.99      0.99      0.99        70\n",
      "          Shaggy Ink Cap       1.00      0.97      0.99        71\n",
      "          Shaggy Parasol       0.99      0.99      0.99        71\n",
      "         Shaggy Pholiota       0.93      0.91      0.92        70\n",
      "    Shallow-pored Bolete       0.97      0.91      0.94        70\n",
      "           Silky Nolanea       1.00      1.00      1.00        71\n",
      "      Silver Leaf Fungus       0.90      0.92      0.91        71\n",
      "          Slimy Milk Cap       0.99      0.94      0.96        71\n",
      "           Slippery Jack       0.97      0.94      0.96        71\n",
      " Small Bleeding Bell Cap       1.00      1.00      1.00        71\n",
      "    Small Brown Milk Cap       0.96      0.94      0.95        70\n",
      " Soap-scented Tricholoma       0.90      0.86      0.88        70\n",
      "  Soft Slipper Toadstool       1.00      1.00      1.00        70\n",
      "   Spectacular Gymnopile       1.00      1.00      1.00        70\n",
      "     Spotted Tough Shank       0.92      0.81      0.86        70\n",
      "           Spring Agaric       0.98      0.89      0.93        71\n",
      "         Spruce Milk Cap       1.00      0.97      0.99        70\n",
      "    St George's Mushroom       0.99      0.94      0.96        71\n",
      "        Stinking Parasol       1.00      0.97      0.99        71\n",
      "        Stinking Russula       0.97      1.00      0.99        71\n",
      "  Straw-coloured Inocybe       0.99      1.00      0.99        70\n",
      "        Striated Nolanea       0.97      0.94      0.96        71\n",
      "          Stump Bell Cap       0.94      0.94      0.94        70\n",
      "      Sulphur Tricholoma       0.79      0.75      0.77        71\n",
      "            Sulphur Tuft       1.00      1.00      1.00        71\n",
      "          Sweet Milk Cap       0.95      1.00      0.97        71\n",
      "          Tawny Grisette       0.99      0.97      0.98        70\n",
      "             The Blusher       0.90      0.77      0.83        71\n",
      "     The Charcoal Burner       0.93      0.96      0.94        71\n",
      "            The Deceiver       0.93      0.99      0.96        71\n",
      "              The Miller       0.99      0.96      0.97        71\n",
      "            The Sickener       0.94      0.91      0.93        70\n",
      "       Tubed Chanterelle       1.00      1.00      1.00        71\n",
      "         Tufted Bell Cap       0.99      0.97      0.98        71\n",
      "           Turban Fungus       1.00      0.97      0.99        70\n",
      "   Two-toned Crumble Cap       0.96      0.97      0.97        71\n",
      "           Ugly Milk Cap       1.00      0.99      0.99        71\n",
      "      Umbrella Navel Cap       1.00      1.00      1.00        70\n",
      "          Veined Pluteus       0.92      0.82      0.87        71\n",
      "         Velvet Roll-rim       0.98      0.89      0.93        71\n",
      "            Velvet Shank       0.86      0.70      0.77        70\n",
      "     Verdigris Toadstool       1.00      0.99      0.99        71\n",
      "           Weeping Widow       0.90      0.94      0.92        70\n",
      "          White Leptonia       1.00      0.99      0.99        71\n",
      "            White Saddle       1.00      1.00      1.00        71\n",
      "             Wood Blewit       1.00      1.00      1.00        71\n",
      "        Wood Woolly-foot       0.98      0.92      0.95        71\n",
      "         Woolly Milk Cap       1.00      1.00      1.00        70\n",
      "    Yellow Swamp Russula       1.00      0.99      0.99        71\n",
      "          Yellow Wax cap       1.00      1.00      1.00        71\n",
      " Yellow-brown Tricholoma       1.00      0.99      0.99        71\n",
      "   Yellow-cracked Bolete       0.64      0.63      0.64        71\n",
      "   Yellow-gilled Russula       1.00      1.00      1.00        71\n",
      "Yellow-staining Mushroom       0.99      0.93      0.96        71\n",
      " Yellow-stemmed Bell Cap       0.15      1.00      0.26        70\n",
      "\n",
      "                accuracy                           0.94     12214\n",
      "               macro avg       0.97      0.94      0.95     12214\n",
      "            weighted avg       0.97      0.94      0.95     12214\n",
      "\n"
     ]
    }
   ],
   "source": [
    "report = classification_report(y_val, predictions)\n",
    "print(report)"
   ]
  },
  {
   "cell_type": "code",
   "execution_count": 28,
   "metadata": {},
   "outputs": [
    {
     "name": "stdout",
     "output_type": "stream",
     "text": [
      "y_val dtype: object\n"
     ]
    }
   ],
   "source": [
    "# Check data type\n",
    "print(\"y_val dtype:\", y_val.dtype)"
   ]
  },
  {
   "cell_type": "code",
   "execution_count": 47,
   "metadata": {},
   "outputs": [
    {
     "name": "stdout",
     "output_type": "stream",
     "text": [
      "Unique classes: 173\n",
      "NaN values found in y_test_numeric or pred_probas. Handling NaNs...\n",
      "ROC AUC Score: 0.5003\n"
     ]
    }
   ],
   "source": [
    "# Get unique classes\n",
    "classes = np.unique(y_test)\n",
    "print(\"Unique classes:\", len(classes))\n",
    "\n",
    "# Convert labels to numeric using mapping\n",
    "label_map = {label: idx for idx, label in enumerate(classes)}\n",
    "y_test_numeric = np.array([label_map[label] for label in y_test])\n",
    "\n",
    "# Check for NaN values and handle them\n",
    "if np.isnan(y_test_numeric).sum() > 0 or np.isnan(pred_probas).sum() > 0:\n",
    "    print(\"NaN values found in y_test_numeric or pred_probas. Handling NaNs...\")\n",
    "    # Remove NaN values\n",
    "    valid_indices = ~np.isnan(y_test_numeric) & ~np.isnan(pred_probas).any(axis=1)\n",
    "    y_test_numeric = y_test_numeric[valid_indices]\n",
    "    pred_probas = pred_probas[valid_indices]\n",
    "\n",
    "# Ensure the lengths of y_test_numeric and pred_probas are consistent\n",
    "min_length = min(len(y_test_numeric), len(pred_probas))\n",
    "y_test_numeric = y_test_numeric[:min_length]\n",
    "pred_probas = pred_probas[:min_length]\n",
    "\n",
    "# Calculate ROC AUC score\n",
    "auc = roc_auc_score(y_test_numeric, pred_probas, multi_class=\"ovr\", average=\"macro\")\n",
    "\n",
    "print(f\"ROC AUC Score: {auc:.4f}\")"
   ]
  },
  {
   "cell_type": "code",
   "execution_count": 27,
   "metadata": {},
   "outputs": [
    {
     "ename": "TypeError",
     "evalue": "ufunc 'isnan' not supported for the input types, and the inputs could not be safely coerced to any supported types according to the casting rule ''safe''",
     "output_type": "error",
     "traceback": [
      "\u001b[0;31m---------------------------------------------------------------------------\u001b[0m",
      "\u001b[0;31mTypeError\u001b[0m                                 Traceback (most recent call last)",
      "Cell \u001b[0;32mIn[27], line 2\u001b[0m\n\u001b[1;32m      1\u001b[0m \u001b[38;5;66;03m# Check y_val for NaNs\u001b[39;00m\n\u001b[0;32m----> 2\u001b[0m \u001b[38;5;28mprint\u001b[39m(\u001b[38;5;124m\"\u001b[39m\u001b[38;5;124mNaNs in y_val:\u001b[39m\u001b[38;5;124m\"\u001b[39m, \u001b[43mnp\u001b[49m\u001b[38;5;241;43m.\u001b[39;49m\u001b[43misnan\u001b[49m\u001b[43m(\u001b[49m\u001b[43my_val\u001b[49m\u001b[43m)\u001b[49m\u001b[38;5;241m.\u001b[39msum())\n\u001b[1;32m      4\u001b[0m \u001b[38;5;66;03m# Check pred_probas for NaNs\u001b[39;00m\n\u001b[1;32m      5\u001b[0m \u001b[38;5;28mprint\u001b[39m(\u001b[38;5;124m\"\u001b[39m\u001b[38;5;124mNaNs in pred_probas:\u001b[39m\u001b[38;5;124m\"\u001b[39m, np\u001b[38;5;241m.\u001b[39misnan(pred_probas)\u001b[38;5;241m.\u001b[39msum())\n",
      "\u001b[0;31mTypeError\u001b[0m: ufunc 'isnan' not supported for the input types, and the inputs could not be safely coerced to any supported types according to the casting rule ''safe''"
     ]
    }
   ],
   "source": [
    "# Check y_val for NaNs\n",
    "print(\"NaNs in y_val:\", np.isnan(y_val).sum())\n",
    "\n",
    "# Check pred_probas for NaNs\n",
    "print(\"NaNs in pred_probas:\", np.isnan(pred_probas).sum())\n"
   ]
  },
  {
   "cell_type": "code",
   "execution_count": 24,
   "metadata": {},
   "outputs": [
    {
     "ename": "ValueError",
     "evalue": "Input contains NaN.",
     "output_type": "error",
     "traceback": [
      "\u001b[0;31m---------------------------------------------------------------------------\u001b[0m",
      "\u001b[0;31mValueError\u001b[0m                                Traceback (most recent call last)",
      "Cell \u001b[0;32mIn[24], line 1\u001b[0m\n\u001b[0;32m----> 1\u001b[0m auc \u001b[38;5;241m=\u001b[39m \u001b[43mroc_auc_score\u001b[49m\u001b[43m(\u001b[49m\u001b[43my_val\u001b[49m\u001b[43m,\u001b[49m\u001b[43m \u001b[49m\u001b[43mpred_probas\u001b[49m\u001b[43m,\u001b[49m\u001b[43m \u001b[49m\u001b[43mmulti_class\u001b[49m\u001b[38;5;241;43m=\u001b[39;49m\u001b[38;5;124;43m'\u001b[39;49m\u001b[38;5;124;43movr\u001b[39;49m\u001b[38;5;124;43m'\u001b[39;49m\u001b[43m)\u001b[49m\n\u001b[1;32m      2\u001b[0m auc\n",
      "File \u001b[0;32m/opt/homebrew/Caskroom/miniforge/base/envs/fungi_Incognita/lib/python3.11/site-packages/sklearn/utils/_param_validation.py:213\u001b[0m, in \u001b[0;36mvalidate_params.<locals>.decorator.<locals>.wrapper\u001b[0;34m(*args, **kwargs)\u001b[0m\n\u001b[1;32m    207\u001b[0m \u001b[38;5;28;01mtry\u001b[39;00m:\n\u001b[1;32m    208\u001b[0m     \u001b[38;5;28;01mwith\u001b[39;00m config_context(\n\u001b[1;32m    209\u001b[0m         skip_parameter_validation\u001b[38;5;241m=\u001b[39m(\n\u001b[1;32m    210\u001b[0m             prefer_skip_nested_validation \u001b[38;5;129;01mor\u001b[39;00m global_skip_validation\n\u001b[1;32m    211\u001b[0m         )\n\u001b[1;32m    212\u001b[0m     ):\n\u001b[0;32m--> 213\u001b[0m         \u001b[38;5;28;01mreturn\u001b[39;00m \u001b[43mfunc\u001b[49m\u001b[43m(\u001b[49m\u001b[38;5;241;43m*\u001b[39;49m\u001b[43margs\u001b[49m\u001b[43m,\u001b[49m\u001b[43m \u001b[49m\u001b[38;5;241;43m*\u001b[39;49m\u001b[38;5;241;43m*\u001b[39;49m\u001b[43mkwargs\u001b[49m\u001b[43m)\u001b[49m\n\u001b[1;32m    214\u001b[0m \u001b[38;5;28;01mexcept\u001b[39;00m InvalidParameterError \u001b[38;5;28;01mas\u001b[39;00m e:\n\u001b[1;32m    215\u001b[0m     \u001b[38;5;66;03m# When the function is just a wrapper around an estimator, we allow\u001b[39;00m\n\u001b[1;32m    216\u001b[0m     \u001b[38;5;66;03m# the function to delegate validation to the estimator, but we replace\u001b[39;00m\n\u001b[1;32m    217\u001b[0m     \u001b[38;5;66;03m# the name of the estimator by the name of the function in the error\u001b[39;00m\n\u001b[1;32m    218\u001b[0m     \u001b[38;5;66;03m# message to avoid confusion.\u001b[39;00m\n\u001b[1;32m    219\u001b[0m     msg \u001b[38;5;241m=\u001b[39m re\u001b[38;5;241m.\u001b[39msub(\n\u001b[1;32m    220\u001b[0m         \u001b[38;5;124mr\u001b[39m\u001b[38;5;124m\"\u001b[39m\u001b[38;5;124mparameter of \u001b[39m\u001b[38;5;124m\\\u001b[39m\u001b[38;5;124mw+ must be\u001b[39m\u001b[38;5;124m\"\u001b[39m,\n\u001b[1;32m    221\u001b[0m         \u001b[38;5;124mf\u001b[39m\u001b[38;5;124m\"\u001b[39m\u001b[38;5;124mparameter of \u001b[39m\u001b[38;5;132;01m{\u001b[39;00mfunc\u001b[38;5;241m.\u001b[39m\u001b[38;5;18m__qualname__\u001b[39m\u001b[38;5;132;01m}\u001b[39;00m\u001b[38;5;124m must be\u001b[39m\u001b[38;5;124m\"\u001b[39m,\n\u001b[1;32m    222\u001b[0m         \u001b[38;5;28mstr\u001b[39m(e),\n\u001b[1;32m    223\u001b[0m     )\n",
      "File \u001b[0;32m/opt/homebrew/Caskroom/miniforge/base/envs/fungi_Incognita/lib/python3.11/site-packages/sklearn/metrics/_ranking.py:619\u001b[0m, in \u001b[0;36mroc_auc_score\u001b[0;34m(y_true, y_score, average, sample_weight, max_fpr, multi_class, labels)\u001b[0m\n\u001b[1;32m    617\u001b[0m y_type \u001b[38;5;241m=\u001b[39m type_of_target(y_true, input_name\u001b[38;5;241m=\u001b[39m\u001b[38;5;124m\"\u001b[39m\u001b[38;5;124my_true\u001b[39m\u001b[38;5;124m\"\u001b[39m)\n\u001b[1;32m    618\u001b[0m y_true \u001b[38;5;241m=\u001b[39m check_array(y_true, ensure_2d\u001b[38;5;241m=\u001b[39m\u001b[38;5;28;01mFalse\u001b[39;00m, dtype\u001b[38;5;241m=\u001b[39m\u001b[38;5;28;01mNone\u001b[39;00m)\n\u001b[0;32m--> 619\u001b[0m y_score \u001b[38;5;241m=\u001b[39m \u001b[43mcheck_array\u001b[49m\u001b[43m(\u001b[49m\u001b[43my_score\u001b[49m\u001b[43m,\u001b[49m\u001b[43m \u001b[49m\u001b[43mensure_2d\u001b[49m\u001b[38;5;241;43m=\u001b[39;49m\u001b[38;5;28;43;01mFalse\u001b[39;49;00m\u001b[43m)\u001b[49m\n\u001b[1;32m    621\u001b[0m \u001b[38;5;28;01mif\u001b[39;00m y_type \u001b[38;5;241m==\u001b[39m \u001b[38;5;124m\"\u001b[39m\u001b[38;5;124mmulticlass\u001b[39m\u001b[38;5;124m\"\u001b[39m \u001b[38;5;129;01mor\u001b[39;00m (\n\u001b[1;32m    622\u001b[0m     y_type \u001b[38;5;241m==\u001b[39m \u001b[38;5;124m\"\u001b[39m\u001b[38;5;124mbinary\u001b[39m\u001b[38;5;124m\"\u001b[39m \u001b[38;5;129;01mand\u001b[39;00m y_score\u001b[38;5;241m.\u001b[39mndim \u001b[38;5;241m==\u001b[39m \u001b[38;5;241m2\u001b[39m \u001b[38;5;129;01mand\u001b[39;00m y_score\u001b[38;5;241m.\u001b[39mshape[\u001b[38;5;241m1\u001b[39m] \u001b[38;5;241m>\u001b[39m \u001b[38;5;241m2\u001b[39m\n\u001b[1;32m    623\u001b[0m ):\n\u001b[1;32m    624\u001b[0m     \u001b[38;5;66;03m# do not support partial ROC computation for multiclass\u001b[39;00m\n\u001b[1;32m    625\u001b[0m     \u001b[38;5;28;01mif\u001b[39;00m max_fpr \u001b[38;5;129;01mis\u001b[39;00m \u001b[38;5;129;01mnot\u001b[39;00m \u001b[38;5;28;01mNone\u001b[39;00m \u001b[38;5;129;01mand\u001b[39;00m max_fpr \u001b[38;5;241m!=\u001b[39m \u001b[38;5;241m1.0\u001b[39m:\n",
      "File \u001b[0;32m/opt/homebrew/Caskroom/miniforge/base/envs/fungi_Incognita/lib/python3.11/site-packages/sklearn/utils/validation.py:1064\u001b[0m, in \u001b[0;36mcheck_array\u001b[0;34m(array, accept_sparse, accept_large_sparse, dtype, order, copy, force_writeable, force_all_finite, ensure_2d, allow_nd, ensure_min_samples, ensure_min_features, estimator, input_name)\u001b[0m\n\u001b[1;32m   1058\u001b[0m     \u001b[38;5;28;01mraise\u001b[39;00m \u001b[38;5;167;01mValueError\u001b[39;00m(\n\u001b[1;32m   1059\u001b[0m         \u001b[38;5;124m\"\u001b[39m\u001b[38;5;124mFound array with dim \u001b[39m\u001b[38;5;132;01m%d\u001b[39;00m\u001b[38;5;124m. \u001b[39m\u001b[38;5;132;01m%s\u001b[39;00m\u001b[38;5;124m expected <= 2.\u001b[39m\u001b[38;5;124m\"\u001b[39m\n\u001b[1;32m   1060\u001b[0m         \u001b[38;5;241m%\u001b[39m (array\u001b[38;5;241m.\u001b[39mndim, estimator_name)\n\u001b[1;32m   1061\u001b[0m     )\n\u001b[1;32m   1063\u001b[0m \u001b[38;5;28;01mif\u001b[39;00m force_all_finite:\n\u001b[0;32m-> 1064\u001b[0m     \u001b[43m_assert_all_finite\u001b[49m\u001b[43m(\u001b[49m\n\u001b[1;32m   1065\u001b[0m \u001b[43m        \u001b[49m\u001b[43marray\u001b[49m\u001b[43m,\u001b[49m\n\u001b[1;32m   1066\u001b[0m \u001b[43m        \u001b[49m\u001b[43minput_name\u001b[49m\u001b[38;5;241;43m=\u001b[39;49m\u001b[43minput_name\u001b[49m\u001b[43m,\u001b[49m\n\u001b[1;32m   1067\u001b[0m \u001b[43m        \u001b[49m\u001b[43mestimator_name\u001b[49m\u001b[38;5;241;43m=\u001b[39;49m\u001b[43mestimator_name\u001b[49m\u001b[43m,\u001b[49m\n\u001b[1;32m   1068\u001b[0m \u001b[43m        \u001b[49m\u001b[43mallow_nan\u001b[49m\u001b[38;5;241;43m=\u001b[39;49m\u001b[43mforce_all_finite\u001b[49m\u001b[43m \u001b[49m\u001b[38;5;241;43m==\u001b[39;49m\u001b[43m \u001b[49m\u001b[38;5;124;43m\"\u001b[39;49m\u001b[38;5;124;43mallow-nan\u001b[39;49m\u001b[38;5;124;43m\"\u001b[39;49m\u001b[43m,\u001b[49m\n\u001b[1;32m   1069\u001b[0m \u001b[43m    \u001b[49m\u001b[43m)\u001b[49m\n\u001b[1;32m   1071\u001b[0m \u001b[38;5;28;01mif\u001b[39;00m copy:\n\u001b[1;32m   1072\u001b[0m     \u001b[38;5;28;01mif\u001b[39;00m _is_numpy_namespace(xp):\n\u001b[1;32m   1073\u001b[0m         \u001b[38;5;66;03m# only make a copy if `array` and `array_orig` may share memory`\u001b[39;00m\n",
      "File \u001b[0;32m/opt/homebrew/Caskroom/miniforge/base/envs/fungi_Incognita/lib/python3.11/site-packages/sklearn/utils/validation.py:123\u001b[0m, in \u001b[0;36m_assert_all_finite\u001b[0;34m(X, allow_nan, msg_dtype, estimator_name, input_name)\u001b[0m\n\u001b[1;32m    120\u001b[0m \u001b[38;5;28;01mif\u001b[39;00m first_pass_isfinite:\n\u001b[1;32m    121\u001b[0m     \u001b[38;5;28;01mreturn\u001b[39;00m\n\u001b[0;32m--> 123\u001b[0m \u001b[43m_assert_all_finite_element_wise\u001b[49m\u001b[43m(\u001b[49m\n\u001b[1;32m    124\u001b[0m \u001b[43m    \u001b[49m\u001b[43mX\u001b[49m\u001b[43m,\u001b[49m\n\u001b[1;32m    125\u001b[0m \u001b[43m    \u001b[49m\u001b[43mxp\u001b[49m\u001b[38;5;241;43m=\u001b[39;49m\u001b[43mxp\u001b[49m\u001b[43m,\u001b[49m\n\u001b[1;32m    126\u001b[0m \u001b[43m    \u001b[49m\u001b[43mallow_nan\u001b[49m\u001b[38;5;241;43m=\u001b[39;49m\u001b[43mallow_nan\u001b[49m\u001b[43m,\u001b[49m\n\u001b[1;32m    127\u001b[0m \u001b[43m    \u001b[49m\u001b[43mmsg_dtype\u001b[49m\u001b[38;5;241;43m=\u001b[39;49m\u001b[43mmsg_dtype\u001b[49m\u001b[43m,\u001b[49m\n\u001b[1;32m    128\u001b[0m \u001b[43m    \u001b[49m\u001b[43mestimator_name\u001b[49m\u001b[38;5;241;43m=\u001b[39;49m\u001b[43mestimator_name\u001b[49m\u001b[43m,\u001b[49m\n\u001b[1;32m    129\u001b[0m \u001b[43m    \u001b[49m\u001b[43minput_name\u001b[49m\u001b[38;5;241;43m=\u001b[39;49m\u001b[43minput_name\u001b[49m\u001b[43m,\u001b[49m\n\u001b[1;32m    130\u001b[0m \u001b[43m\u001b[49m\u001b[43m)\u001b[49m\n",
      "File \u001b[0;32m/opt/homebrew/Caskroom/miniforge/base/envs/fungi_Incognita/lib/python3.11/site-packages/sklearn/utils/validation.py:172\u001b[0m, in \u001b[0;36m_assert_all_finite_element_wise\u001b[0;34m(X, xp, allow_nan, msg_dtype, estimator_name, input_name)\u001b[0m\n\u001b[1;32m    155\u001b[0m \u001b[38;5;28;01mif\u001b[39;00m estimator_name \u001b[38;5;129;01mand\u001b[39;00m input_name \u001b[38;5;241m==\u001b[39m \u001b[38;5;124m\"\u001b[39m\u001b[38;5;124mX\u001b[39m\u001b[38;5;124m\"\u001b[39m \u001b[38;5;129;01mand\u001b[39;00m has_nan_error:\n\u001b[1;32m    156\u001b[0m     \u001b[38;5;66;03m# Improve the error message on how to handle missing values in\u001b[39;00m\n\u001b[1;32m    157\u001b[0m     \u001b[38;5;66;03m# scikit-learn.\u001b[39;00m\n\u001b[1;32m    158\u001b[0m     msg_err \u001b[38;5;241m+\u001b[39m\u001b[38;5;241m=\u001b[39m (\n\u001b[1;32m    159\u001b[0m         \u001b[38;5;124mf\u001b[39m\u001b[38;5;124m\"\u001b[39m\u001b[38;5;130;01m\\n\u001b[39;00m\u001b[38;5;132;01m{\u001b[39;00mestimator_name\u001b[38;5;132;01m}\u001b[39;00m\u001b[38;5;124m does not accept missing values\u001b[39m\u001b[38;5;124m\"\u001b[39m\n\u001b[1;32m    160\u001b[0m         \u001b[38;5;124m\"\u001b[39m\u001b[38;5;124m encoded as NaN natively. For supervised learning, you might want\u001b[39m\u001b[38;5;124m\"\u001b[39m\n\u001b[0;32m   (...)\u001b[0m\n\u001b[1;32m    170\u001b[0m         \u001b[38;5;124m\"\u001b[39m\u001b[38;5;124m#estimators-that-handle-nan-values\u001b[39m\u001b[38;5;124m\"\u001b[39m\n\u001b[1;32m    171\u001b[0m     )\n\u001b[0;32m--> 172\u001b[0m \u001b[38;5;28;01mraise\u001b[39;00m \u001b[38;5;167;01mValueError\u001b[39;00m(msg_err)\n",
      "\u001b[0;31mValueError\u001b[0m: Input contains NaN."
     ]
    }
   ],
   "source": [
    "auc = roc_auc_score(y_val, pred_probas, multi_class='ovr')\n",
    "auc"
   ]
  },
  {
   "cell_type": "code",
   "execution_count": null,
   "metadata": {},
   "outputs": [],
   "source": []
  }
 ],
 "metadata": {
  "kernelspec": {
   "display_name": "fungi_Incognita",
   "language": "python",
   "name": "python3"
  },
  "language_info": {
   "codemirror_mode": {
    "name": "ipython",
    "version": 3
   },
   "file_extension": ".py",
   "mimetype": "text/x-python",
   "name": "python",
   "nbconvert_exporter": "python",
   "pygments_lexer": "ipython3",
   "version": "3.11.10"
  }
 },
 "nbformat": 4,
 "nbformat_minor": 2
}
