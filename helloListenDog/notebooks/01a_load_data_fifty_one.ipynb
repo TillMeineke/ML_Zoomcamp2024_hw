{
 "cells": [
  {
   "cell_type": "markdown",
   "metadata": {},
   "source": [
    "# Load data with FiftyOne"
   ]
  },
  {
   "cell_type": "markdown",
   "metadata": {},
   "source": [
    "[Tutorial](https://towardsdatascience.com/how-to-work-with-object-detection-datasets-in-coco-format-9bf4fb5848a4)"
   ]
  },
  {
   "cell_type": "code",
   "execution_count": 4,
   "metadata": {},
   "outputs": [
    {
     "ename": "ValueError",
     "evalue": "Data directory '/Users/tillmeineke/ML/ML_Zoomcamp2024_hw/helloListenDog/data/split_yolo/data/' does not exist",
     "output_type": "error",
     "traceback": [
      "\u001b[0;31m---------------------------------------------------------------------------\u001b[0m",
      "\u001b[0;31mValueError\u001b[0m                                Traceback (most recent call last)",
      "Cell \u001b[0;32mIn[4], line 12\u001b[0m\n\u001b[1;32m      9\u001b[0m \u001b[38;5;66;03m# The type of the dataset being imported\u001b[39;00m\n\u001b[1;32m     10\u001b[0m dataset_type \u001b[38;5;241m=\u001b[39m fo\u001b[38;5;241m.\u001b[39mtypes\u001b[38;5;241m.\u001b[39mCOCODetectionDataset  \u001b[38;5;66;03m# for example\u001b[39;00m\n\u001b[0;32m---> 12\u001b[0m dataset \u001b[38;5;241m=\u001b[39m \u001b[43mfo\u001b[49m\u001b[38;5;241;43m.\u001b[39;49m\u001b[43mDataset\u001b[49m\u001b[38;5;241;43m.\u001b[39;49m\u001b[43mfrom_dir\u001b[49m\u001b[43m(\u001b[49m\n\u001b[1;32m     13\u001b[0m \u001b[43m    \u001b[49m\u001b[43mdataset_dir\u001b[49m\u001b[38;5;241;43m=\u001b[39;49m\u001b[43mdataset_dir\u001b[49m\u001b[43m,\u001b[49m\n\u001b[1;32m     14\u001b[0m \u001b[43m    \u001b[49m\u001b[43mdataset_type\u001b[49m\u001b[38;5;241;43m=\u001b[39;49m\u001b[43mdataset_type\u001b[49m\u001b[43m,\u001b[49m\n\u001b[1;32m     15\u001b[0m \u001b[43m    \u001b[49m\u001b[43mname\u001b[49m\u001b[38;5;241;43m=\u001b[39;49m\u001b[43mname\u001b[49m\u001b[43m,\u001b[49m\n\u001b[1;32m     16\u001b[0m \u001b[43m)\u001b[49m\n",
      "File \u001b[0;32m/opt/homebrew/Caskroom/miniforge/base/envs/helloDogBreed/lib/python3.11/site-packages/fiftyone/core/dataset.py:6727\u001b[0m, in \u001b[0;36mDataset.from_dir\u001b[0;34m(cls, dataset_dir, dataset_type, data_path, labels_path, name, persistent, overwrite, label_field, tags, dynamic, progress, **kwargs)\u001b[0m\n\u001b[1;32m   6630\u001b[0m \u001b[38;5;250m\u001b[39m\u001b[38;5;124;03m\"\"\"Creates a :class:`Dataset` from the contents of the given directory.\u001b[39;00m\n\u001b[1;32m   6631\u001b[0m \n\u001b[1;32m   6632\u001b[0m \u001b[38;5;124;03mYou can create datasets with this method via the following basic\u001b[39;00m\n\u001b[0;32m   (...)\u001b[0m\n\u001b[1;32m   6724\u001b[0m \u001b[38;5;124;03m    a :class:`Dataset`\u001b[39;00m\n\u001b[1;32m   6725\u001b[0m \u001b[38;5;124;03m\"\"\"\u001b[39;00m\n\u001b[1;32m   6726\u001b[0m dataset \u001b[38;5;241m=\u001b[39m \u001b[38;5;28mcls\u001b[39m(name, persistent\u001b[38;5;241m=\u001b[39mpersistent, overwrite\u001b[38;5;241m=\u001b[39moverwrite)\n\u001b[0;32m-> 6727\u001b[0m \u001b[43mdataset\u001b[49m\u001b[38;5;241;43m.\u001b[39;49m\u001b[43madd_dir\u001b[49m\u001b[43m(\u001b[49m\n\u001b[1;32m   6728\u001b[0m \u001b[43m    \u001b[49m\u001b[43mdataset_dir\u001b[49m\u001b[38;5;241;43m=\u001b[39;49m\u001b[43mdataset_dir\u001b[49m\u001b[43m,\u001b[49m\n\u001b[1;32m   6729\u001b[0m \u001b[43m    \u001b[49m\u001b[43mdataset_type\u001b[49m\u001b[38;5;241;43m=\u001b[39;49m\u001b[43mdataset_type\u001b[49m\u001b[43m,\u001b[49m\n\u001b[1;32m   6730\u001b[0m \u001b[43m    \u001b[49m\u001b[43mdata_path\u001b[49m\u001b[38;5;241;43m=\u001b[39;49m\u001b[43mdata_path\u001b[49m\u001b[43m,\u001b[49m\n\u001b[1;32m   6731\u001b[0m \u001b[43m    \u001b[49m\u001b[43mlabels_path\u001b[49m\u001b[38;5;241;43m=\u001b[39;49m\u001b[43mlabels_path\u001b[49m\u001b[43m,\u001b[49m\n\u001b[1;32m   6732\u001b[0m \u001b[43m    \u001b[49m\u001b[43mlabel_field\u001b[49m\u001b[38;5;241;43m=\u001b[39;49m\u001b[43mlabel_field\u001b[49m\u001b[43m,\u001b[49m\n\u001b[1;32m   6733\u001b[0m \u001b[43m    \u001b[49m\u001b[43mtags\u001b[49m\u001b[38;5;241;43m=\u001b[39;49m\u001b[43mtags\u001b[49m\u001b[43m,\u001b[49m\n\u001b[1;32m   6734\u001b[0m \u001b[43m    \u001b[49m\u001b[43mdynamic\u001b[49m\u001b[38;5;241;43m=\u001b[39;49m\u001b[43mdynamic\u001b[49m\u001b[43m,\u001b[49m\n\u001b[1;32m   6735\u001b[0m \u001b[43m    \u001b[49m\u001b[43mprogress\u001b[49m\u001b[38;5;241;43m=\u001b[39;49m\u001b[43mprogress\u001b[49m\u001b[43m,\u001b[49m\n\u001b[1;32m   6736\u001b[0m \u001b[43m    \u001b[49m\u001b[38;5;241;43m*\u001b[39;49m\u001b[38;5;241;43m*\u001b[39;49m\u001b[43mkwargs\u001b[49m\u001b[43m,\u001b[49m\n\u001b[1;32m   6737\u001b[0m \u001b[43m\u001b[49m\u001b[43m)\u001b[49m\n\u001b[1;32m   6738\u001b[0m \u001b[38;5;28;01mreturn\u001b[39;00m dataset\n",
      "File \u001b[0;32m/opt/homebrew/Caskroom/miniforge/base/envs/helloDogBreed/lib/python3.11/site-packages/fiftyone/core/dataset.py:5325\u001b[0m, in \u001b[0;36mDataset.add_dir\u001b[0;34m(self, dataset_dir, dataset_type, data_path, labels_path, label_field, tags, expand_schema, dynamic, add_info, progress, **kwargs)\u001b[0m\n\u001b[1;32m   5220\u001b[0m \u001b[38;5;250m\u001b[39m\u001b[38;5;124;03m\"\"\"Adds the contents of the given directory to the dataset.\u001b[39;00m\n\u001b[1;32m   5221\u001b[0m \n\u001b[1;32m   5222\u001b[0m \u001b[38;5;124;03mYou can perform imports with this method via the following basic\u001b[39;00m\n\u001b[0;32m   (...)\u001b[0m\n\u001b[1;32m   5314\u001b[0m \u001b[38;5;124;03m    a list of IDs of the samples that were added to the dataset\u001b[39;00m\n\u001b[1;32m   5315\u001b[0m \u001b[38;5;124;03m\"\"\"\u001b[39;00m\n\u001b[1;32m   5316\u001b[0m dataset_importer, _ \u001b[38;5;241m=\u001b[39m foud\u001b[38;5;241m.\u001b[39mbuild_dataset_importer(\n\u001b[1;32m   5317\u001b[0m     dataset_type,\n\u001b[1;32m   5318\u001b[0m     dataset_dir\u001b[38;5;241m=\u001b[39mdataset_dir,\n\u001b[0;32m   (...)\u001b[0m\n\u001b[1;32m   5322\u001b[0m     \u001b[38;5;241m*\u001b[39m\u001b[38;5;241m*\u001b[39mkwargs,\n\u001b[1;32m   5323\u001b[0m )\n\u001b[0;32m-> 5325\u001b[0m \u001b[38;5;28;01mreturn\u001b[39;00m \u001b[38;5;28;43mself\u001b[39;49m\u001b[38;5;241;43m.\u001b[39;49m\u001b[43madd_importer\u001b[49m\u001b[43m(\u001b[49m\n\u001b[1;32m   5326\u001b[0m \u001b[43m    \u001b[49m\u001b[43mdataset_importer\u001b[49m\u001b[43m,\u001b[49m\n\u001b[1;32m   5327\u001b[0m \u001b[43m    \u001b[49m\u001b[43mlabel_field\u001b[49m\u001b[38;5;241;43m=\u001b[39;49m\u001b[43mlabel_field\u001b[49m\u001b[43m,\u001b[49m\n\u001b[1;32m   5328\u001b[0m \u001b[43m    \u001b[49m\u001b[43mtags\u001b[49m\u001b[38;5;241;43m=\u001b[39;49m\u001b[43mtags\u001b[49m\u001b[43m,\u001b[49m\n\u001b[1;32m   5329\u001b[0m \u001b[43m    \u001b[49m\u001b[43mexpand_schema\u001b[49m\u001b[38;5;241;43m=\u001b[39;49m\u001b[43mexpand_schema\u001b[49m\u001b[43m,\u001b[49m\n\u001b[1;32m   5330\u001b[0m \u001b[43m    \u001b[49m\u001b[43mdynamic\u001b[49m\u001b[38;5;241;43m=\u001b[39;49m\u001b[43mdynamic\u001b[49m\u001b[43m,\u001b[49m\n\u001b[1;32m   5331\u001b[0m \u001b[43m    \u001b[49m\u001b[43madd_info\u001b[49m\u001b[38;5;241;43m=\u001b[39;49m\u001b[43madd_info\u001b[49m\u001b[43m,\u001b[49m\n\u001b[1;32m   5332\u001b[0m \u001b[43m    \u001b[49m\u001b[43mprogress\u001b[49m\u001b[38;5;241;43m=\u001b[39;49m\u001b[43mprogress\u001b[49m\u001b[43m,\u001b[49m\n\u001b[1;32m   5333\u001b[0m \u001b[43m\u001b[49m\u001b[43m)\u001b[49m\n",
      "File \u001b[0;32m/opt/homebrew/Caskroom/miniforge/base/envs/helloDogBreed/lib/python3.11/site-packages/fiftyone/core/dataset.py:5921\u001b[0m, in \u001b[0;36mDataset.add_importer\u001b[0;34m(self, dataset_importer, label_field, tags, expand_schema, dynamic, add_info, progress)\u001b[0m\n\u001b[1;32m   5872\u001b[0m \u001b[38;5;28;01mdef\u001b[39;00m\u001b[38;5;250m \u001b[39m\u001b[38;5;21madd_importer\u001b[39m(\n\u001b[1;32m   5873\u001b[0m     \u001b[38;5;28mself\u001b[39m,\n\u001b[1;32m   5874\u001b[0m     dataset_importer,\n\u001b[0;32m   (...)\u001b[0m\n\u001b[1;32m   5880\u001b[0m     progress\u001b[38;5;241m=\u001b[39m\u001b[38;5;28;01mNone\u001b[39;00m,\n\u001b[1;32m   5881\u001b[0m ):\n\u001b[1;32m   5882\u001b[0m \u001b[38;5;250m    \u001b[39m\u001b[38;5;124;03m\"\"\"Adds the samples from the given\u001b[39;00m\n\u001b[1;32m   5883\u001b[0m \u001b[38;5;124;03m    :class:`fiftyone.utils.data.importers.DatasetImporter` to the dataset.\u001b[39;00m\n\u001b[1;32m   5884\u001b[0m \n\u001b[0;32m   (...)\u001b[0m\n\u001b[1;32m   5919\u001b[0m \u001b[38;5;124;03m        a list of IDs of the samples that were added to the dataset\u001b[39;00m\n\u001b[1;32m   5920\u001b[0m \u001b[38;5;124;03m    \"\"\"\u001b[39;00m\n\u001b[0;32m-> 5921\u001b[0m     \u001b[38;5;28;01mreturn\u001b[39;00m \u001b[43mfoud\u001b[49m\u001b[38;5;241;43m.\u001b[39;49m\u001b[43mimport_samples\u001b[49m\u001b[43m(\u001b[49m\n\u001b[1;32m   5922\u001b[0m \u001b[43m        \u001b[49m\u001b[38;5;28;43mself\u001b[39;49m\u001b[43m,\u001b[49m\n\u001b[1;32m   5923\u001b[0m \u001b[43m        \u001b[49m\u001b[43mdataset_importer\u001b[49m\u001b[43m,\u001b[49m\n\u001b[1;32m   5924\u001b[0m \u001b[43m        \u001b[49m\u001b[43mlabel_field\u001b[49m\u001b[38;5;241;43m=\u001b[39;49m\u001b[43mlabel_field\u001b[49m\u001b[43m,\u001b[49m\n\u001b[1;32m   5925\u001b[0m \u001b[43m        \u001b[49m\u001b[43mtags\u001b[49m\u001b[38;5;241;43m=\u001b[39;49m\u001b[43mtags\u001b[49m\u001b[43m,\u001b[49m\n\u001b[1;32m   5926\u001b[0m \u001b[43m        \u001b[49m\u001b[43mexpand_schema\u001b[49m\u001b[38;5;241;43m=\u001b[39;49m\u001b[43mexpand_schema\u001b[49m\u001b[43m,\u001b[49m\n\u001b[1;32m   5927\u001b[0m \u001b[43m        \u001b[49m\u001b[43mdynamic\u001b[49m\u001b[38;5;241;43m=\u001b[39;49m\u001b[43mdynamic\u001b[49m\u001b[43m,\u001b[49m\n\u001b[1;32m   5928\u001b[0m \u001b[43m        \u001b[49m\u001b[43madd_info\u001b[49m\u001b[38;5;241;43m=\u001b[39;49m\u001b[43madd_info\u001b[49m\u001b[43m,\u001b[49m\n\u001b[1;32m   5929\u001b[0m \u001b[43m        \u001b[49m\u001b[43mprogress\u001b[49m\u001b[38;5;241;43m=\u001b[39;49m\u001b[43mprogress\u001b[49m\u001b[43m,\u001b[49m\n\u001b[1;32m   5930\u001b[0m \u001b[43m    \u001b[49m\u001b[43m)\u001b[49m\n",
      "File \u001b[0;32m/opt/homebrew/Caskroom/miniforge/base/envs/helloDogBreed/lib/python3.11/site-packages/fiftyone/utils/data/importers.py:131\u001b[0m, in \u001b[0;36mimport_samples\u001b[0;34m(dataset, dataset_importer, label_field, tags, expand_schema, dynamic, add_info, progress)\u001b[0m\n\u001b[1;32m    123\u001b[0m         \u001b[38;5;28;01mreturn\u001b[39;00m dataset_importer\u001b[38;5;241m.\u001b[39mimport_samples(\n\u001b[1;32m    124\u001b[0m             dataset, tags\u001b[38;5;241m=\u001b[39mtags, progress\u001b[38;5;241m=\u001b[39mprogress\n\u001b[1;32m    125\u001b[0m         )\n\u001b[1;32m    127\u001b[0m \u001b[38;5;66;03m#\u001b[39;00m\n\u001b[1;32m    128\u001b[0m \u001b[38;5;66;03m# Non-batch imports\u001b[39;00m\n\u001b[1;32m    129\u001b[0m \u001b[38;5;66;03m#\u001b[39;00m\n\u001b[0;32m--> 131\u001b[0m \u001b[43m\u001b[49m\u001b[38;5;28;43;01mwith\u001b[39;49;00m\u001b[43m \u001b[49m\u001b[43mdataset_importer\u001b[49m\u001b[43m:\u001b[49m\n\u001b[1;32m    132\u001b[0m \u001b[43m    \u001b[49m\u001b[43mparse_sample\u001b[49m\u001b[43m,\u001b[49m\u001b[43m \u001b[49m\u001b[43mexpand_schema\u001b[49m\u001b[43m,\u001b[49m\u001b[43m \u001b[49m\u001b[43mdynamic\u001b[49m\u001b[43m \u001b[49m\u001b[38;5;241;43m=\u001b[39;49m\u001b[43m \u001b[49m\u001b[43m_build_parse_sample_fcn\u001b[49m\u001b[43m(\u001b[49m\n\u001b[1;32m    133\u001b[0m \u001b[43m        \u001b[49m\u001b[43mdataset\u001b[49m\u001b[43m,\u001b[49m\n\u001b[1;32m    134\u001b[0m \u001b[43m        \u001b[49m\u001b[43mdataset_importer\u001b[49m\u001b[43m,\u001b[49m\n\u001b[0;32m   (...)\u001b[0m\n\u001b[1;32m    138\u001b[0m \u001b[43m        \u001b[49m\u001b[43mdynamic\u001b[49m\u001b[43m,\u001b[49m\n\u001b[1;32m    139\u001b[0m \u001b[43m    \u001b[49m\u001b[43m)\u001b[49m\n\u001b[1;32m    141\u001b[0m \u001b[43m    \u001b[49m\u001b[38;5;28;43;01mif\u001b[39;49;00m\u001b[43m \u001b[49m\u001b[38;5;28;43misinstance\u001b[39;49m\u001b[43m(\u001b[49m\u001b[43mdataset_importer\u001b[49m\u001b[43m,\u001b[49m\u001b[43m \u001b[49m\u001b[43mGroupDatasetImporter\u001b[49m\u001b[43m)\u001b[49m\u001b[43m:\u001b[49m\n",
      "File \u001b[0;32m/opt/homebrew/Caskroom/miniforge/base/envs/helloDogBreed/lib/python3.11/site-packages/fiftyone/utils/data/importers.py:849\u001b[0m, in \u001b[0;36mDatasetImporter.__enter__\u001b[0;34m(self)\u001b[0m\n\u001b[1;32m    848\u001b[0m \u001b[38;5;28;01mdef\u001b[39;00m\u001b[38;5;250m \u001b[39m\u001b[38;5;21m__enter__\u001b[39m(\u001b[38;5;28mself\u001b[39m):\n\u001b[0;32m--> 849\u001b[0m     \u001b[38;5;28;43mself\u001b[39;49m\u001b[38;5;241;43m.\u001b[39;49m\u001b[43msetup\u001b[49m\u001b[43m(\u001b[49m\u001b[43m)\u001b[49m\n\u001b[1;32m    850\u001b[0m     \u001b[38;5;28;01mreturn\u001b[39;00m \u001b[38;5;28mself\u001b[39m\n",
      "File \u001b[0;32m/opt/homebrew/Caskroom/miniforge/base/envs/helloDogBreed/lib/python3.11/site-packages/fiftyone/utils/coco.py:563\u001b[0m, in \u001b[0;36mCOCODetectionDatasetImporter.setup\u001b[0;34m(self)\u001b[0m\n\u001b[1;32m    562\u001b[0m \u001b[38;5;28;01mdef\u001b[39;00m\u001b[38;5;250m \u001b[39m\u001b[38;5;21msetup\u001b[39m(\u001b[38;5;28mself\u001b[39m):\n\u001b[0;32m--> 563\u001b[0m     image_paths_map \u001b[38;5;241m=\u001b[39m \u001b[38;5;28;43mself\u001b[39;49m\u001b[38;5;241;43m.\u001b[39;49m\u001b[43m_load_data_map\u001b[49m\u001b[43m(\u001b[49m\u001b[38;5;28;43mself\u001b[39;49m\u001b[38;5;241;43m.\u001b[39;49m\u001b[43mdata_path\u001b[49m\u001b[43m,\u001b[49m\u001b[43m \u001b[49m\u001b[43mrecursive\u001b[49m\u001b[38;5;241;43m=\u001b[39;49m\u001b[38;5;28;43;01mTrue\u001b[39;49;00m\u001b[43m)\u001b[49m\n\u001b[1;32m    565\u001b[0m     \u001b[38;5;28;01mif\u001b[39;00m \u001b[38;5;28mself\u001b[39m\u001b[38;5;241m.\u001b[39mlabels_path \u001b[38;5;129;01mis\u001b[39;00m \u001b[38;5;129;01mnot\u001b[39;00m \u001b[38;5;28;01mNone\u001b[39;00m \u001b[38;5;129;01mand\u001b[39;00m os\u001b[38;5;241m.\u001b[39mpath\u001b[38;5;241m.\u001b[39misfile(\u001b[38;5;28mself\u001b[39m\u001b[38;5;241m.\u001b[39mlabels_path):\n\u001b[1;32m    566\u001b[0m         (\n\u001b[1;32m    567\u001b[0m             info,\n\u001b[1;32m    568\u001b[0m             classes_map,\n\u001b[0;32m   (...)\u001b[0m\n\u001b[1;32m    573\u001b[0m             \u001b[38;5;28mself\u001b[39m\u001b[38;5;241m.\u001b[39mlabels_path, extra_attrs\u001b[38;5;241m=\u001b[39m\u001b[38;5;28mself\u001b[39m\u001b[38;5;241m.\u001b[39mextra_attrs\n\u001b[1;32m    574\u001b[0m         )\n",
      "File \u001b[0;32m/opt/homebrew/Caskroom/miniforge/base/envs/helloDogBreed/lib/python3.11/site-packages/fiftyone/utils/data/importers.py:807\u001b[0m, in \u001b[0;36mImportPathsMixin._load_data_map\u001b[0;34m(data_path, ignore_exts, recursive)\u001b[0m\n\u001b[1;32m    801\u001b[0m     \u001b[38;5;28;01mreturn\u001b[39;00m {\n\u001b[1;32m    802\u001b[0m         to_uuid(k): fos\u001b[38;5;241m.\u001b[39mnormpath(os\u001b[38;5;241m.\u001b[39mpath\u001b[38;5;241m.\u001b[39mjoin(data_root, v))\n\u001b[1;32m    803\u001b[0m         \u001b[38;5;28;01mfor\u001b[39;00m k, v \u001b[38;5;129;01min\u001b[39;00m data_map\u001b[38;5;241m.\u001b[39mitems()\n\u001b[1;32m    804\u001b[0m     }\n\u001b[1;32m    806\u001b[0m \u001b[38;5;28;01mif\u001b[39;00m \u001b[38;5;129;01mnot\u001b[39;00m os\u001b[38;5;241m.\u001b[39mpath\u001b[38;5;241m.\u001b[39misdir(data_path):\n\u001b[0;32m--> 807\u001b[0m     \u001b[38;5;28;01mraise\u001b[39;00m \u001b[38;5;167;01mValueError\u001b[39;00m(\u001b[38;5;124m\"\u001b[39m\u001b[38;5;124mData directory \u001b[39m\u001b[38;5;124m'\u001b[39m\u001b[38;5;132;01m%s\u001b[39;00m\u001b[38;5;124m'\u001b[39m\u001b[38;5;124m does not exist\u001b[39m\u001b[38;5;124m\"\u001b[39m \u001b[38;5;241m%\u001b[39m data_path)\n\u001b[1;32m    809\u001b[0m \u001b[38;5;28;01mreturn\u001b[39;00m {\n\u001b[1;32m    810\u001b[0m     to_uuid(p): fos\u001b[38;5;241m.\u001b[39mnormpath(os\u001b[38;5;241m.\u001b[39mpath\u001b[38;5;241m.\u001b[39mjoin(data_path, p))\n\u001b[1;32m    811\u001b[0m     \u001b[38;5;28;01mfor\u001b[39;00m p \u001b[38;5;129;01min\u001b[39;00m etau\u001b[38;5;241m.\u001b[39mlist_files(data_path, recursive\u001b[38;5;241m=\u001b[39mrecursive)\n\u001b[1;32m    812\u001b[0m }\n",
      "\u001b[0;31mValueError\u001b[0m: Data directory '/Users/tillmeineke/ML/ML_Zoomcamp2024_hw/helloListenDog/data/split_yolo/data/' does not exist"
     ]
    }
   ],
   "source": [
    "import fiftyone as fo\n",
    "\n",
    "# A name for the dataset\n",
    "name = \"helloDogBreed_v4\"\n",
    "\n",
    "# The directory containing the dataset to import\n",
    "dataset_dir = \"../data/split_yolo\"\n",
    "\n",
    "# The type of the dataset being imported\n",
    "dataset_type = fo.types.COCODetectionDataset  # for example\n",
    "\n",
    "dataset = fo.Dataset.from_dir(\n",
    "    dataset_dir=dataset_dir,\n",
    "    dataset_type=dataset_type,\n",
    "    name=name,\n",
    ")\n"
   ]
  },
  {
   "cell_type": "code",
   "execution_count": 3,
   "metadata": {},
   "outputs": [
    {
     "data": {
      "text/html": [
       "\n",
       "        <iframe\n",
       "            width=\"100%\"\n",
       "            height=\"800\"\n",
       "            src=\"http://localhost:5151/?notebook=True&subscription=aa01ace7-c0c5-43d5-bf84-c1d811f9c36e\"\n",
       "            frameborder=\"0\"\n",
       "            allowfullscreen\n",
       "            \n",
       "        ></iframe>\n",
       "        "
      ],
      "text/plain": [
       "<IPython.lib.display.IFrame at 0x110eb30d0>"
      ]
     },
     "metadata": {},
     "output_type": "display_data"
    }
   ],
   "source": [
    "session = fo.launch_app(dataset)"
   ]
  },
  {
   "cell_type": "code",
   "execution_count": null,
   "metadata": {},
   "outputs": [],
   "source": []
  }
 ],
 "metadata": {
  "kernelspec": {
   "display_name": "helloDogBreed",
   "language": "python",
   "name": "python3"
  },
  "language_info": {
   "codemirror_mode": {
    "name": "ipython",
    "version": 3
   },
   "file_extension": ".py",
   "mimetype": "text/x-python",
   "name": "python",
   "nbconvert_exporter": "python",
   "pygments_lexer": "ipython3",
   "version": "3.11.11"
  }
 },
 "nbformat": 4,
 "nbformat_minor": 2
}
