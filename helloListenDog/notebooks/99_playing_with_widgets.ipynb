{
  "cells": [
    {
      "cell_type": "markdown",
      "metadata": {},
      "source": [
        "## Wigets"
      ]
    },
    {
      "cell_type": "code",
      "execution_count": 45,
      "metadata": {},
      "outputs": [],
      "source": [
        "from ipywidgets import IntSlider, Checkbox"
      ]
    },
    {
      "cell_type": "code",
      "execution_count": 46,
      "metadata": {},
      "outputs": [],
      "source": [
        "slider = IntSlider()"
      ]
    },
    {
      "cell_type": "code",
      "execution_count": 47,
      "metadata": {},
      "outputs": [
        {
          "data": {
            "text/plain": [
              "0"
            ]
          },
          "execution_count": 47,
          "metadata": {},
          "output_type": "execute_result"
        }
      ],
      "source": [
        "slider.value"
      ]
    },
    {
      "cell_type": "code",
      "execution_count": 48,
      "metadata": {},
      "outputs": [],
      "source": [
        "slider.value = 20"
      ]
    },
    {
      "cell_type": "code",
      "execution_count": 49,
      "metadata": {},
      "outputs": [
        {
          "data": {
            "application/vnd.jupyter.widget-view+json": {
              "model_id": "94c84fe2c83c489fb0ef8fe68e7ffa48",
              "version_major": 2,
              "version_minor": 0
            },
            "text/plain": [
              "IntSlider(value=20)"
            ]
          },
          "execution_count": 49,
          "metadata": {},
          "output_type": "execute_result"
        }
      ],
      "source": [
        "slider"
      ]
    },
    {
      "cell_type": "code",
      "execution_count": 51,
      "metadata": {},
      "outputs": [
        {
          "data": {
            "text/plain": [
              "66"
            ]
          },
          "execution_count": 51,
          "metadata": {},
          "output_type": "execute_result"
        }
      ],
      "source": [
        "slider.value"
      ]
    },
    {
      "cell_type": "code",
      "execution_count": 52,
      "metadata": {},
      "outputs": [
        {
          "data": {
            "application/vnd.jupyter.widget-view+json": {
              "model_id": "04e88dd761834b7ca71ddc732b99da56",
              "version_major": 2,
              "version_minor": 0
            },
            "text/plain": [
              "Checkbox(value=False, description='Check me')"
            ]
          },
          "execution_count": 52,
          "metadata": {},
          "output_type": "execute_result"
        }
      ],
      "source": [
        "checkbox = Checkbox(description=\"Check me\")\n",
        "checkbox"
      ]
    },
    {
      "cell_type": "code",
      "execution_count": 53,
      "metadata": {},
      "outputs": [],
      "source": [
        "checkbox.value = False"
      ]
    },
    {
      "cell_type": "code",
      "execution_count": 54,
      "metadata": {},
      "outputs": [
        {
          "data": {
            "application/vnd.jupyter.widget-view+json": {
              "model_id": "04e88dd761834b7ca71ddc732b99da56",
              "version_major": 2,
              "version_minor": 0
            },
            "text/plain": [
              "Checkbox(value=False, description='Check me')"
            ]
          },
          "execution_count": 54,
          "metadata": {},
          "output_type": "execute_result"
        }
      ],
      "source": [
        "checkbox"
      ]
    },
    {
      "cell_type": "code",
      "execution_count": 2,
      "metadata": {},
      "outputs": [],
      "source": [
        "import os\n",
        "import cv2\n",
        "import time\n",
        "import numpy as np\n",
        "import matplotlib.pyplot as plt\n",
        "\n",
        "from dotenv import load_dotenv\n",
        "from IPython.display import display\n",
        "from ipywidgets import Video, Image"
      ]
    },
    {
      "cell_type": "code",
      "execution_count": null,
      "metadata": {},
      "outputs": [],
      "source": [
        "load_dotenv()\n",
        "\n",
        "tapo_username = os.getenv(\"TAPO_USERNAME\")\n",
        "tapo_password = os.getenv(\"TAPO_PASSWORD\")\n",
        "tapo_local_ip = os.getenv(\"TAPO_LOCAL_IP\")\n",
        "rtsp_port = 554\n",
        "\n",
        "RTSP_URL = f\"rtsp://{tapo_username}:{tapo_password}@{tapo_local_ip}:{rtsp_port}/stream1\"\n",
        "os.environ[\"OPENCV_FFMPEG_CAPTURE_OPTIONS\"] = \"rtsp_transport;udp\"\n",
        "\n",
        "# print(RTSP_URL)"
      ]
    },
    {
      "cell_type": "code",
      "execution_count": null,
      "metadata": {},
      "outputs": [
        {
          "data": {
            "application/vnd.jupyter.widget-view+json": {
              "model_id": "5d9bc84920024bc98983d27c0c609c97",
              "version_major": 2,
              "version_minor": 0
            },
            "text/plain": [
              "Image(value=b'')"
            ]
          },
          "metadata": {},
          "output_type": "display_data"
        },
        {
          "name": "stderr",
          "output_type": "stream",
          "text": [
            "[h264 @ 0x1401fd9c0] cabac decode of qscale diff failed at 78 23\n",
            "[h264 @ 0x1401fd9c0] error while decoding MB 78 23, bytestream 233\n",
            "[h264 @ 0x1136ecac0] cabac decode of qscale diff failed at 96 52\n",
            "[h264 @ 0x1136ecac0] error while decoding MB 96 52, bytestream 1069\n"
          ]
        }
      ],
      "source": [
        "import os\n",
        "import cv2\n",
        "import time\n",
        "import numpy as np\n",
        "import matplotlib.pyplot as plt\n",
        "\n",
        "from dotenv import load_dotenv\n",
        "from IPython.display import display, clear_output\n",
        "from ipywidgets import Image\n",
        "\n",
        "load_dotenv()\n",
        "\n",
        "tapo_username = os.getenv(\"TAPO_USERNAME\")\n",
        "tapo_password = os.getenv(\"TAPO_PASSWORD\")\n",
        "tapo_local_ip = os.getenv(\"TAPO_LOCAL_IP\")\n",
        "rtsp_port = 554\n",
        "\n",
        "RTSP_URL = f\"rtsp://{tapo_username}:{tapo_password}@{tapo_local_ip}:{rtsp_port}/stream1\"\n",
        "os.environ[\"OPENCV_FFMPEG_CAPTURE_OPTIONS\"] = \"rtsp_transport;udp\"\n",
        "\n",
        "# Initialize Matplotlib figure\n",
        "fig, ax = plt.subplots()\n",
        "ax.set_title(\"FPS on every frame\")\n",
        "ax.set_ylabel(\"FPS\")\n",
        "ax.set_xlabel(\"Frame Number\")\n",
        "\n",
        "# Initialize OpenCV video capture\n",
        "cap = cv2.VideoCapture(RTSP_URL)\n",
        "\n",
        "# Track FPS\n",
        "pTime = 0\n",
        "frame_number = 0\n",
        "frame_numbers_list = []\n",
        "fps_list = []\n",
        "\n",
        "# Initialize display widget\n",
        "image_widget = Image()\n",
        "display(image_widget)\n",
        "\n",
        "while True:\n",
        "    success, img = cap.read()\n",
        "    if not success:\n",
        "        print(\"Failed to read frame.\")\n",
        "        break\n",
        "\n",
        "    # Resize frame\n",
        "    img = cv2.resize(img, (640, 480))\n",
        "\n",
        "    # Calculate FPS\n",
        "    cTime = time.time()\n",
        "    fps = 1 / (cTime - pTime) if pTime else 0\n",
        "    pTime = cTime\n",
        "\n",
        "    # Update FPS data\n",
        "    frame_numbers_list.append(frame_number)\n",
        "    fps_list.append(int(fps))\n",
        "    frame_number += 1\n",
        "\n",
        "    # Update FPS plot\n",
        "    ax.clear()\n",
        "    ax.plot(frame_numbers_list, fps_list, color=\"blue\")\n",
        "    ax.set_title(\"FPS on every frame\")\n",
        "    ax.set_ylabel(\"FPS\")\n",
        "    ax.set_xlabel(\"Frame Number\")\n",
        "\n",
        "    # Convert Matplotlib figure to image\n",
        "    fig.canvas.draw()\n",
        "    buffer, (width, height) = fig.canvas.print_to_buffer()\n",
        "    plot = np.frombuffer(buffer, dtype=np.uint8).reshape((height, width, 4))  # RGBA\n",
        "\n",
        "    # Remove alpha channel (Matplotlib uses RGBA, OpenCV uses BGR)\n",
        "    plot = cv2.cvtColor(plot, cv2.COLOR_RGBA2BGR)\n",
        "\n",
        "    # Combine video frame and FPS plot\n",
        "    result_img = np.hstack([img, plot])\n",
        "\n",
        "    # Encode frame for Jupyter display\n",
        "    _, encoded_img = cv2.imencode(\".png\", result_img)\n",
        "    image_widget.value = encoded_img.tobytes()\n",
        "\n",
        "    # Exit on 'q' press\n",
        "    key = cv2.waitKey(1) & 0xFF\n",
        "    if key == ord(\"q\"):\n",
        "        break\n",
        "\n",
        "cap.release()\n",
        "cv2.destroyAllWindows()\n"
      ]
    },
    {
      "cell_type": "code",
      "execution_count": 1,
      "metadata": {},
      "outputs": [
        {
          "ename": "NameError",
          "evalue": "name 'os' is not defined",
          "output_type": "error",
          "traceback": [
            "\u001b[0;31m---------------------------------------------------------------------------\u001b[0m",
            "\u001b[0;31mNameError\u001b[0m                                 Traceback (most recent call last)",
            "Cell \u001b[0;32mIn[1], line 2\u001b[0m\n\u001b[1;32m      1\u001b[0m \u001b[38;5;66;03m# Force TCP (more reliable), set small buffer\u001b[39;00m\n\u001b[0;32m----> 2\u001b[0m \u001b[43mos\u001b[49m\u001b[38;5;241m.\u001b[39menviron[\u001b[38;5;124m\"\u001b[39m\u001b[38;5;124mOPENCV_FFMPEG_CAPTURE_OPTIONS\u001b[39m\u001b[38;5;124m\"\u001b[39m] \u001b[38;5;241m=\u001b[39m \u001b[38;5;124m\"\u001b[39m\u001b[38;5;124mrtsp_transport;tcp\u001b[39m\u001b[38;5;124m\"\u001b[39m\n\u001b[1;32m      3\u001b[0m cap \u001b[38;5;241m=\u001b[39m cv2\u001b[38;5;241m.\u001b[39mVideoCapture(RTSP_URL, cv2\u001b[38;5;241m.\u001b[39mCAP_FFMPEG)\n\u001b[1;32m      4\u001b[0m \u001b[38;5;66;03m# cap = cv2.VideoCapture(RTSP_URL) # UDP (faster, but less reliable)\u001b[39;00m\n\u001b[1;32m      5\u001b[0m \u001b[38;5;66;03m# cap = cv2.VideoCapture(0) # Webcam\u001b[39;00m\n\u001b[1;32m      6\u001b[0m \n\u001b[1;32m      7\u001b[0m \n\u001b[1;32m      8\u001b[0m \u001b[38;5;66;03m# cap.set(cv2.CAP_PROP_BUFFERSIZE, 2)  # Small buffer\u001b[39;00m\n",
            "\u001b[0;31mNameError\u001b[0m: name 'os' is not defined"
          ]
        }
      ],
      "source": [
        "# Force TCP (more reliable), set small buffer\n",
        "os.environ[\"OPENCV_FFMPEG_CAPTURE_OPTIONS\"] = \"rtsp_transport;tcp\"\n",
        "cap = cv2.VideoCapture(RTSP_URL, cv2.CAP_FFMPEG)\n",
        "# cap = cv2.VideoCapture(RTSP_URL) # UDP (faster, but less reliable)\n",
        "# cap = cv2.VideoCapture(0) # Webcam\n",
        "\n",
        "\n",
        "# cap.set(cv2.CAP_PROP_BUFFERSIZE, 2)  # Small buffer\n",
        "cap.set(cv2.CAP_PROP_FPS, 15)  # Limit FPS for smooth playback\n",
        "\n",
        "# Initialize Matplotlib figure\n",
        "fig, ax = plt.subplots()\n",
        "ax.set_title(\"FPS on every frame\")\n",
        "ax.set_ylabel(\"FPS\")\n",
        "ax.set_xlabel(\"Frame Number\")\n",
        "\n",
        "# Track FPS\n",
        "pTime = 0\n",
        "frame_number = 0\n",
        "frame_numbers_list = []\n",
        "fps_list = []\n",
        "\n",
        "# Display widget\n",
        "image_widget = Image()\n",
        "display(image_widget)\n",
        "\n",
        "try:\n",
        "    while True:\n",
        "        success, img = cap.read()\n",
        "        if not success:\n",
        "            print(\"⚠️ Failed to read frame. Check RTSP connection.\")\n",
        "            break\n",
        "\n",
        "        img = cv2.resize(img, (640, 480))\n",
        "\n",
        "        # Calculate FPS\n",
        "        cTime = time.time()\n",
        "        fps = 1 / (cTime - pTime) if pTime else 0\n",
        "        pTime = cTime\n",
        "\n",
        "        # Update FPS data\n",
        "        frame_numbers_list.append(frame_number)\n",
        "        fps_list.append(int(fps))\n",
        "        frame_number += 1\n",
        "\n",
        "        # Update FPS plot\n",
        "        ax.clear()\n",
        "        ax.plot(frame_numbers_list, fps_list, color=\"blue\")\n",
        "        ax.set_title(\"FPS on every frame\")\n",
        "        ax.set_ylabel(\"FPS\")\n",
        "        ax.set_xlabel(\"Frame Number\")\n",
        "\n",
        "        # Convert Matplotlib figure to image\n",
        "        fig.canvas.draw()\n",
        "        buffer, (width, height) = fig.canvas.print_to_buffer()\n",
        "        plot = np.frombuffer(buffer, dtype=np.uint8).reshape((height, width, 4))  # RGBA\n",
        "        plot = cv2.cvtColor(plot, cv2.COLOR_RGBA2BGR)\n",
        "\n",
        "        # Combine video frame and FPS plot\n",
        "        result_img = np.hstack([img, plot])\n",
        "\n",
        "        # Encode frame for Jupyter display\n",
        "        _, encoded_img = cv2.imencode(\".png\", result_img)\n",
        "        image_widget.value = encoded_img.tobytes()\n",
        "\n",
        "        # Add a small delay for smooth playback\n",
        "        time.sleep(0.01)\n",
        "\n",
        "except KeyboardInterrupt:\n",
        "    print(\"\\n✅ Stream stopped by user (Ctrl+C).\")\n",
        "\n",
        "finally:\n",
        "    cap.release()\n",
        "    cv2.destroyAllWindows()\n",
        "    print(\"🎬 Stream closed.\")"
      ]
    }
  ],
  "metadata": {
    "colab": {
      "collapsed_sections": [],
      "name": "import2.ipynb",
      "provenance": []
    },
    "kernelspec": {
      "display_name": "helloDogBreed",
      "language": "python",
      "name": "python3"
    },
    "language_info": {
      "codemirror_mode": {
        "name": "ipython",
        "version": 3
      },
      "file_extension": ".py",
      "mimetype": "text/x-python",
      "name": "python",
      "nbconvert_exporter": "python",
      "pygments_lexer": "ipython3",
      "version": "3.11.11"
    }
  },
  "nbformat": 4,
  "nbformat_minor": 2
}
