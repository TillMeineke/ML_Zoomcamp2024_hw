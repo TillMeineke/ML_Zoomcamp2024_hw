{
 "cells": [
  {
   "cell_type": "markdown",
   "metadata": {},
   "source": [
    "# How to train an Object Detector with your own COCO dataset in PyTorch (Common Objects in Context format)"
   ]
  },
  {
   "cell_type": "markdown",
   "metadata": {},
   "source": [
    "## Understanding the Dataset & DataLoader in PyTorch"
   ]
  },
  {
   "cell_type": "markdown",
   "metadata": {},
   "source": [
    "- [Link to Medium post by Takashi Nakamura, PhD](https://medium.com/fullstackai/how-to-train-an-object-detector-with-your-own-coco-dataset-in-pytorch-319e7090da5)\n",
    "- [Create COCO Annotations From Scratch](https://www.immersivelimit.com/tutorials/create-coco-annotations-from-scratch)\n",
    "- []()"
   ]
  },
  {
   "cell_type": "markdown",
   "metadata": {},
   "source": [
    "Dataset was annotated using [AnyLabeling](https://anylabeling.nrl.ai)\n",
    "\n",
    "[format converter](https://github.com/enekuie/COCO-json-annotations-to-YOLO-txt-format-converter)\n",
    "\n",
    "[Object Detection: COCO and YOLO formats, and conversion between them](https://freedium.cfd/https://towardsdatascience.com/object-detection-coco-and-yolo-formats-and-conversion-between-them-0e0638f4ffc1)\n"
   ]
  },
  {
   "cell_type": "code",
   "execution_count": 2,
   "metadata": {},
   "outputs": [],
   "source": [
    "import os\n",
    "import torch\n",
    "import torchvision\n",
    "import  torch.utils.data\n",
    "from PIL import Image\n",
    "from pycocotools.coco import COCO"
   ]
  },
  {
   "cell_type": "code",
   "execution_count": 3,
   "metadata": {},
   "outputs": [
    {
     "name": "stdout",
     "output_type": "stream",
     "text": [
      "PyTorch Version: 2.5.1\n",
      "Is MPS (Metal Performance Shader) built? True\n",
      "Is MPS available? True\n",
      "Using device: mps\n"
     ]
    }
   ],
   "source": [
    "print(f\"PyTorch Version: {torch.__version__}\")\n",
    "# Check PyTorch has access to MPS (Metal Performance Shader, Apple's GPU architecture)\n",
    "print(f\"Is MPS (Metal Performance Shader) built? {torch.backends.mps.is_built()}\")\n",
    "print(f\"Is MPS available? {torch.backends.mps.is_available()}\")\n",
    "\n",
    "# Set the device\n",
    "# device = \"mps\" if torch.backends.mps.is_available() else \"cpu\"\n",
    "device = (\n",
    "    \"mps\"\n",
    "    if torch.mps.is_available()\n",
    "    else \"cuda\"\n",
    "    if torch.cuda.is_available()\n",
    "    else \"cpu\"\n",
    ")\n",
    "print(f\"Using device: {device}\")"
   ]
  },
  {
   "cell_type": "markdown",
   "metadata": {},
   "source": [
    "DogBreed Dataset Class for returning images and labels"
   ]
  },
  {
   "cell_type": "code",
   "execution_count": 2,
   "metadata": {},
   "outputs": [],
   "source": [
    "class dogBreedDataset(torch.util.data.Dataset):\n",
    "    # Initialize function of class\n",
    "    def __init__(self, root, filenames, labels, transforms=None, annotation):\n",
    "        # the data directory\n",
    "        self.root = root\n",
    "        # list of filenames\n",
    "        self.filenames = filenames\n",
    "        # list of labels\n",
    "        self.labels = labels\n",
    "        self.coco = COCO(annotation)\n",
    "        self.transforms = transforms\n",
    "        self.ids = list(sorted(self.coco.imgs.keys()))\n",
    "\n",
    "    # obtain sample from index\n",
    "    def __getitem__(self, index):\n",
    "\n",
    "        coco = self.coco\n",
    "        \n",
    "        # Image ID\n",
    "        img_id = self.ids[index]\n",
    "        \n",
    "        # List of annotation IDs from coco\n",
    "        ann_ids = coco.getAnnIds(imgIds=img_id)\n",
    "        \n",
    "        # Dictonary target coco_annotation file for an image\n",
    "        coco_annotation = coco.loadAnns(ann_ids)\n",
    "        \n",
    "        # path to the image file\n",
    "        path = coco.loadImgs(img_id)[0]['file_name']\n",
    "        \n",
    "        # open input image\n",
    "        img = Image.open(os.path.join(self.root, path)) # .convert(\"RGB\")\n",
    "\n",
    "        # number of objects in the image\n",
    "        num_objs = len(coco_annotation)\n",
    "        \n",
    "        # bounding boxes for objects\n",
    "        # In coco format, bbox = [xmin, ymin, width, height]\n",
    "        # in pytorch, the input should be [xmin, ymin, xmax, ymax]\n",
    "        \n",
    "        boxes = []\n",
    "        for i in range(num_objs):\n",
    "            xmin = coco_annotation[i]['bbox'][0]\n",
    "            ymin = coco_annotation[i]['bbox'][1]\n",
    "            xmax = xmin + coco_annotation[i]['bbox'][2]\n",
    "            ymax = ymin + coco_annotation[i]['bbox'][3]\n",
    "            boxes.append([xmin, ymin, xmax, ymax])\n",
    "        boxes = torch.as_tensor(boxes, dtype=torch.float32)\n",
    "        \n",
    "        # classes (dog breeds)\n",
    "        classes = []\n",
    "        for i in range(num_objs):\n",
    "            classes.append(coco_annotation[i]['category_id'])\n",
    "\n",
    "    # return the length of the dataset\n",
    "    def __len__(self):\n",
    "        return len(self.filenames)"
   ]
  },
  {
   "cell_type": "code",
   "execution_count": null,
   "metadata": {},
   "outputs": [],
   "source": [
    "# data directory\n",
    "root = \"../data/renamed_dub_removed\"\n",
    "\n",
    "# assume we have 3 jpg images\n",
    "filenames = [\n",
    "    \"american_pit_bull_terrier_0001.jpg\",\n",
    "    \"american_pit_bull_terrier_0002.jpg\",\n",
    "    \"american_pit_bull_terrier_0003.jpg\",\n",
    "]\n",
    "\n",
    "# the class of image might be ['black cat', 'tabby cat', 'tabby cat']\n",
    "labels = [0, 1, 1]\n",
    "\n",
    "# create own Dataset\n",
    "my_dataset = dogBreedDataset(root=root, filenames=filenames, labels=labels)\n"
   ]
  },
  {
   "cell_type": "code",
   "execution_count": 1,
   "metadata": {},
   "outputs": [],
   "source": []
  },
  {
   "cell_type": "code",
   "execution_count": null,
   "metadata": {},
   "outputs": [],
   "source": []
  }
 ],
 "metadata": {
  "kernelspec": {
   "display_name": "helloDogBreed",
   "language": "python",
   "name": "python3"
  },
  "language_info": {
   "codemirror_mode": {
    "name": "ipython",
    "version": 3
   },
   "file_extension": ".py",
   "mimetype": "text/x-python",
   "name": "python",
   "nbconvert_exporter": "python",
   "pygments_lexer": "ipython3",
   "version": "3.11.11"
  }
 },
 "nbformat": 4,
 "nbformat_minor": 2
}
