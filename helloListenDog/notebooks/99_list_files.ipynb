{
 "cells": [
  {
   "cell_type": "code",
   "execution_count": 1,
   "metadata": {},
   "outputs": [],
   "source": [
    "import pandas as pd\n",
    "import os\n",
    "import sys\n"
   ]
  },
  {
   "cell_type": "code",
   "execution_count": 5,
   "metadata": {},
   "outputs": [
    {
     "data": {
      "text/plain": [
       "147"
      ]
     },
     "execution_count": 5,
     "metadata": {},
     "output_type": "execute_result"
    }
   ],
   "source": [
    "# # list files in directories, return list of files, strip extentions,\n",
    "# # compare lists, return list of files that are not in both lists\n",
    "# # from dir \"../data/raw/dogo_argentino\" and \"../data/raw/makesense/dogo_argentino\n",
    "\n",
    "# def compare_files(dir1, dir2):\n",
    "#     files1 = os.listdir(dir1)\n",
    "#     files2 = os.listdir(dir2)\n",
    "#     files1 = [os.path.splitext(file)[0] for file in files1]\n",
    "#     files2 = [os.path.splitext(file)[0] for file in files2]\n",
    "#     files1 = set(files1)\n",
    "#     files2 = set(files2)\n",
    "#     diff = files1.symmetric_difference(files2)\n",
    "#     return diff\n",
    "\n",
    "dir_1 = \"../data/raw/dogo_argentino\"\n",
    "# dir_2 = \"../data/raw/makesense/dogo_argentino\"\n",
    "\n",
    "# len(compare_files(dir_1, dir_2))\n",
    "\n",
    "files1 = os.listdir(dir_1)\n",
    "len(files1)"
   ]
  },
  {
   "cell_type": "code",
   "execution_count": null,
   "metadata": {},
   "outputs": [],
   "source": []
  }
 ],
 "metadata": {
  "kernelspec": {
   "display_name": "helloDogBreed",
   "language": "python",
   "name": "python3"
  },
  "language_info": {
   "codemirror_mode": {
    "name": "ipython",
    "version": 3
   },
   "file_extension": ".py",
   "mimetype": "text/x-python",
   "name": "python",
   "nbconvert_exporter": "python",
   "pygments_lexer": "ipython3",
   "version": "3.11.11"
  }
 },
 "nbformat": 4,
 "nbformat_minor": 2
}
