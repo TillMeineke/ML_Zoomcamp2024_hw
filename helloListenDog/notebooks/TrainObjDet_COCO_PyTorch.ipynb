{
 "cells": [
  {
   "cell_type": "markdown",
   "metadata": {},
   "source": [
    "# How to train an Object Detector with your own COCO dataset in PyTorch (Common Objects in Context format)"
   ]
  },
  {
   "cell_type": "markdown",
   "metadata": {},
   "source": [
    "## Understanding the Dataset & DataLoader in PyTorch"
   ]
  },
  {
   "cell_type": "markdown",
   "metadata": {},
   "source": [
    "- [Link to Medium post by Takashi Nakamura, PhD](https://medium.com/fullstackai/how-to-train-an-object-detector-with-your-own-coco-dataset-in-pytorch-319e7090da5)\n",
    "- [Create COCO Annotations From Scratch](https://www.immersivelimit.com/tutorials/create-coco-annotations-from-scratch)\n",
    "- []()"
   ]
  },
  {
   "cell_type": "markdown",
   "metadata": {},
   "source": [
    "Dataset was annotated using [AnyLabeling](https://anylabeling.nrl.ai)\n",
    "\n",
    "[format converter](https://github.com/enekuie/COCO-json-annotations-to-YOLO-txt-format-converter)\n"
   ]
  },
  {
   "cell_type": "code",
   "execution_count": 1,
   "metadata": {},
   "outputs": [],
   "source": [
    "import os\n",
    "import torch\n",
    "from torch.utils import data\n",
    "from PIL import Image\n",
    "from torchvision import transforms"
   ]
  },
  {
   "cell_type": "code",
   "execution_count": 3,
   "metadata": {},
   "outputs": [
    {
     "name": "stdout",
     "output_type": "stream",
     "text": [
      "PyTorch Version: 2.5.1\n",
      "Is MPS (Metal Performance Shader) built? True\n",
      "Is MPS available? True\n",
      "Using device: mps\n"
     ]
    }
   ],
   "source": [
    "print(f\"PyTorch Version: {torch.__version__}\")\n",
    "# Check PyTorch has access to MPS (Metal Performance Shader, Apple's GPU architecture)\n",
    "print(f\"Is MPS (Metal Performance Shader) built? {torch.backends.mps.is_built()}\")\n",
    "print(f\"Is MPS available? {torch.backends.mps.is_available()}\")\n",
    "\n",
    "# Set the device\n",
    "# device = \"mps\" if torch.backends.mps.is_available() else \"cpu\"\n",
    "device = (\n",
    "    \"mps\"\n",
    "    if torch.mps.is_available()\n",
    "    else \"cuda\"\n",
    "    if torch.cuda.is_available()\n",
    "    else \"cpu\"\n",
    ")\n",
    "print(f\"Using device: {device}\")"
   ]
  },
  {
   "cell_type": "markdown",
   "metadata": {},
   "source": [
    "DogBreed Dataset Class for returning images and labels"
   ]
  },
  {
   "cell_type": "code",
   "execution_count": 2,
   "metadata": {},
   "outputs": [],
   "source": [
    "class dogBreedDataset(data.Dataset):\n",
    "    # Initialize function of class\n",
    "    def __init__(self, root, filenames, labels):\n",
    "        # the data directory\n",
    "        self.root = root\n",
    "        # list of filenames\n",
    "        self.filenames = filenames\n",
    "        # list of labels\n",
    "        self.labels = labels\n",
    "\n",
    "    # obtain sample from index\n",
    "    def __getitem__(self, index):\n",
    "\n",
    "        # get the image filename from the filenames list\n",
    "        image_filename = self.filenames[index]\n",
    "        # Load data and label\n",
    "        image = Image.open(os.path.join(self.root, image_filename))\n",
    "        label = self.labels[index]\n",
    "\n",
    "        # output of dataset must be tensor\n",
    "        image = transforms.ToTensor()(image)\n",
    "        label = torch.as_tensor(label, dtype=torch.int64)\n",
    "        return image, label\n",
    "\n",
    "    # return the length of the dataset\n",
    "    def __len__(self):\n",
    "        return len(self.filenames)"
   ]
  },
  {
   "cell_type": "code",
   "execution_count": null,
   "metadata": {},
   "outputs": [],
   "source": [
    "# data directory\n",
    "root = \"../data/renamed_dub_removed\"\n",
    "\n",
    "# assume we have 3 jpg images\n",
    "filenames = [\n",
    "    \"american_pit_bull_terrier_0001.jpg\",\n",
    "    \"american_pit_bull_terrier_0002.jpg\",\n",
    "    \"american_pit_bull_terrier_0003.jpg\",\n",
    "]\n",
    "\n",
    "# the class of image might be ['black cat', 'tabby cat', 'tabby cat']\n",
    "labels = [0, 1, 1]\n",
    "\n",
    "# create own Dataset\n",
    "my_dataset = dogBreedDataset(root=root, filenames=filenames, labels=labels)\n"
   ]
  }
 ],
 "metadata": {
  "kernelspec": {
   "display_name": "helloDogBreed",
   "language": "python",
   "name": "python3"
  },
  "language_info": {
   "codemirror_mode": {
    "name": "ipython",
    "version": 3
   },
   "file_extension": ".py",
   "mimetype": "text/x-python",
   "name": "python",
   "nbconvert_exporter": "python",
   "pygments_lexer": "ipython3",
   "version": "3.11.11"
  }
 },
 "nbformat": 4,
 "nbformat_minor": 2
}
