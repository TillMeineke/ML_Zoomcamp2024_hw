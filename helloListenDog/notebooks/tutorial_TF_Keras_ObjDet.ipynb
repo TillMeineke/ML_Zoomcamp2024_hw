{
 "cells": [
  {
   "cell_type": "markdown",
   "metadata": {},
   "source": [
    "# Object Detection on Custom Dataset with TensorFlow 2 and Keras in Python\n"
   ]
  },
  {
   "cell_type": "markdown",
   "metadata": {},
   "source": [
    "- [YT-Video](https://www.youtube.com/watch?v=LDQ0C8WwzHY)\n",
    "- based on [GitHub](https://github.com/fizyr/keras-retinanet) - ⚠️ deprecation warning!\n",
    "- try using [PyTorch tutorial](https://pytorch.org/tutorials/intermediate/torchvision_tutorial.html) again"
   ]
  },
  {
   "cell_type": "code",
   "execution_count": null,
   "metadata": {},
   "outputs": [],
   "source": []
  }
 ],
 "metadata": {
  "kernelspec": {
   "display_name": "helloDogBreed",
   "language": "python",
   "name": "python3"
  },
  "language_info": {
   "name": "python",
   "version": "3.11.11"
  }
 },
 "nbformat": 4,
 "nbformat_minor": 2
}
