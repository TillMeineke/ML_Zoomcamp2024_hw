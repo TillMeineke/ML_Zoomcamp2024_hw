{
 "cells": [
  {
   "cell_type": "markdown",
   "metadata": {},
   "source": [
    "# 11. Deploying models with KServe (formerly Kubeflow Serving)"
   ]
  },
  {
   "cell_type": "markdown",
   "metadata": {},
   "source": [
    "This week we`ll learn how to use KServe for deploying ML models.\n",
    "\n",
    "We'll deploy two models:\n",
    "\n",
    "- Churn prediction model (Scikit-Learn)\n",
    "- Clothing classification model (TensorFlow)"
   ]
  },
  {
   "cell_type": "markdown",
   "metadata": {
    "vscode": {
     "languageId": "plaintext"
    }
   },
   "source": [
    "## 11.1 Overview"
   ]
  },
  {
   "cell_type": "markdown",
   "metadata": {},
   "source": [
    "- Kubeflow and KServe\n",
    "- What we'll cover this week\n",
    "- Two-tier architecture"
   ]
  },
  {
   "cell_type": "markdown",
   "metadata": {},
   "source": [
    "## 11.2 Running KServe locally"
   ]
  },
  {
   "cell_type": "markdown",
   "metadata": {},
   "source": [
    "- Installing KServe locally with Kind\n",
    "- Deploying an example model from documentation"
   ]
  },
  {
   "cell_type": "markdown",
   "metadata": {},
   "source": [
    "## 11.3 Deploying a Scikit-Learn model with KServe"
   ]
  },
  {
   "cell_type": "markdown",
   "metadata": {},
   "source": [
    "- Training the churn model with specific Scikit-Learn version\n",
    "- Deploying the churn prediction model with KServe"
   ]
  },
  {
   "cell_type": "markdown",
   "metadata": {},
   "source": [
    "## 11.4 Deploying a custom Scikit-Learn model with KServe"
   ]
  },
  {
   "cell_type": "markdown",
   "metadata": {},
   "source": [
    "- Customizing the Scikit-Learn image\n",
    "- Running KServe service locally"
   ]
  },
  {
   "cell_type": "markdown",
   "metadata": {},
   "source": [
    "## 11.5 Serving TensorFlow models with KServe"
   ]
  },
  {
   "cell_type": "markdown",
   "metadata": {},
   "source": [
    "- Converting the Keras model to saved model format\n",
    "- Deploying the model\n",
    "- Preparing the input"
   ]
  },
  {
   "cell_type": "markdown",
   "metadata": {},
   "source": [
    "## 11.6 KServe transformers"
   ]
  },
  {
   "cell_type": "markdown",
   "metadata": {},
   "source": [
    "- Why do we need transformers?\n",
    "- Creating a service for pre- and post-processing\n",
    "- Using existing transformers"
   ]
  },
  {
   "cell_type": "markdown",
   "metadata": {},
   "source": [
    "## 11.7 Deploying with KServe and EKS"
   ]
  },
  {
   "cell_type": "markdown",
   "metadata": {},
   "source": [
    "- Creating an EKS cluster\n",
    "- Installing KServe on EKS\n",
    "- Configuring th domain\n",
    "- Setting up S3 access\n",
    "- Deploying the clothing model"
   ]
  },
  {
   "cell_type": "markdown",
   "metadata": {},
   "source": [
    "## 11.8 Summary"
   ]
  },
  {
   "cell_type": "markdown",
   "metadata": {},
   "source": [
    "- Less yaml, faster deployment\n",
    "- Less stability\n",
    "- The need for Ops is not gone"
   ]
  },
  {
   "cell_type": "markdown",
   "metadata": {},
   "source": [
    "## 11.9 Explore more"
   ]
  },
  {
   "cell_type": "markdown",
   "metadata": {},
   "source": [
    "- Helm charts\n",
    "- Kubeflow, Kubeflow pipelines\n",
    "- Sagemaker\n",
    "- A lot of vendors that take care of Ops"
   ]
  }
 ],
 "metadata": {
  "language_info": {
   "name": "python"
  }
 },
 "nbformat": 4,
 "nbformat_minor": 2
}
